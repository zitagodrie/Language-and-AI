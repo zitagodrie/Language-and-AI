{
 "cells": [
  {
   "cell_type": "code",
   "execution_count": 98,
   "id": "becb2f73-fe8d-4863-a165-6fbd2eb2d969",
   "metadata": {},
   "outputs": [],
   "source": [
    "import pandas as pd\n",
    "import numpy as np\n",
    "import matplotlib.pyplot as plt\n",
    "import random\n",
    "from sklearn.model_selection import KFold, cross_val_score\n",
    "from sklearn.pipeline import Pipeline\n",
    "from sklearn.compose import ColumnTransformer\n",
    "from sklearn.preprocessing import FunctionTransformer\n",
    "from sklearn.feature_extraction.text import TfidfVectorizer, CountVectorizer\n",
    "from sklearn.preprocessing import StandardScaler\n",
    "from sklearn.linear_model import Ridge\n",
    "from sklearn.ensemble import RandomForestRegressor\n",
    "from tqdm import tqdm\n",
    "import os\n",
    "\n",
    "# Set random seeds for reproducibility\n",
    "np.random.seed(42)\n",
    "random.seed(42)"
   ]
  },
  {
   "cell_type": "markdown",
   "id": "46595508",
   "metadata": {},
   "source": [
    "## Opening all the dataframes"
   ]
  },
  {
   "cell_type": "code",
   "execution_count": 64,
   "id": "d749de34-9e66-467a-aecf-0db576624314",
   "metadata": {},
   "outputs": [],
   "source": [
    "df_original = pd.read_pickle('preprocessed_data/df_birthyear.pkl')\n",
    "df_unique_author = df_original.loc[df_original['auhtor_ID'].drop_duplicates().index]\n",
    "df_normalized = pd.read_pickle('preprocessed_data/df_normalized.pkl')"
   ]
  },
  {
   "cell_type": "code",
   "execution_count": 65,
   "id": "ed17ddab",
   "metadata": {},
   "outputs": [],
   "source": [
    "# selection the dataframe, change it here!\n",
    "df = df_normalized"
   ]
  },
  {
   "cell_type": "code",
   "execution_count": 66,
   "id": "9f642f7a",
   "metadata": {},
   "outputs": [
    {
     "data": {
      "text/html": [
       "<div>\n",
       "<style scoped>\n",
       "    .dataframe tbody tr th:only-of-type {\n",
       "        vertical-align: middle;\n",
       "    }\n",
       "\n",
       "    .dataframe tbody tr th {\n",
       "        vertical-align: top;\n",
       "    }\n",
       "\n",
       "    .dataframe thead th {\n",
       "        text-align: right;\n",
       "    }\n",
       "</style>\n",
       "<table border=\"1\" class=\"dataframe\">\n",
       "  <thead>\n",
       "    <tr style=\"text-align: right;\">\n",
       "      <th></th>\n",
       "      <th>auhtor_ID</th>\n",
       "      <th>post</th>\n",
       "      <th>birth_year</th>\n",
       "      <th>age</th>\n",
       "      <th>age_range</th>\n",
       "      <th>clean_post</th>\n",
       "      <th>num_characters</th>\n",
       "      <th>num_special_symbols</th>\n",
       "      <th>num_emojis</th>\n",
       "      <th>contraction_count</th>\n",
       "      <th>num_contractions</th>\n",
       "    </tr>\n",
       "  </thead>\n",
       "  <tbody>\n",
       "    <tr>\n",
       "      <th>34865</th>\n",
       "      <td>t2_3h3t0mb</td>\n",
       "      <td>record was 285 in May) **New States:** Illinoi...</td>\n",
       "      <td>1999</td>\n",
       "      <td>26</td>\n",
       "      <td>2</td>\n",
       "      <td>['record', 'may', 'new', 'state', 'illinoi', '...</td>\n",
       "      <td>7985</td>\n",
       "      <td>424</td>\n",
       "      <td>1</td>\n",
       "      <td>41</td>\n",
       "      <td>41</td>\n",
       "    </tr>\n",
       "    <tr>\n",
       "      <th>38303</th>\n",
       "      <td>t2_ga9jkp22</td>\n",
       "      <td>Girly I am 20 with barely an a cup. I know it’...</td>\n",
       "      <td>2003</td>\n",
       "      <td>22</td>\n",
       "      <td>2</td>\n",
       "      <td>['girli', 'bare', 'cup', 'know', 'difficult', ...</td>\n",
       "      <td>7864</td>\n",
       "      <td>213</td>\n",
       "      <td>11</td>\n",
       "      <td>30</td>\n",
       "      <td>30</td>\n",
       "    </tr>\n",
       "    <tr>\n",
       "      <th>36840</th>\n",
       "      <td>t2_8g3ecofl</td>\n",
       "      <td>food you like in a single day, you're allowed ...</td>\n",
       "      <td>2001</td>\n",
       "      <td>24</td>\n",
       "      <td>2</td>\n",
       "      <td>['food', 'like', 'singl', 'day', 'allow', 'tak...</td>\n",
       "      <td>2183</td>\n",
       "      <td>97</td>\n",
       "      <td>10</td>\n",
       "      <td>11</td>\n",
       "      <td>11</td>\n",
       "    </tr>\n",
       "    <tr>\n",
       "      <th>35322</th>\n",
       "      <td>t2_txn1p</td>\n",
       "      <td>so frustrating! Right. I am just frustrated th...</td>\n",
       "      <td>1999</td>\n",
       "      <td>26</td>\n",
       "      <td>2</td>\n",
       "      <td>['frustrat', 'right', 'frustrat', 'thing', 'li...</td>\n",
       "      <td>3929</td>\n",
       "      <td>142</td>\n",
       "      <td>0</td>\n",
       "      <td>17</td>\n",
       "      <td>17</td>\n",
       "    </tr>\n",
       "    <tr>\n",
       "      <th>33673</th>\n",
       "      <td>t2_46463x14</td>\n",
       "      <td>and smelly. shower? i’ll eat in the shower, ge...</td>\n",
       "      <td>1998</td>\n",
       "      <td>27</td>\n",
       "      <td>2</td>\n",
       "      <td>['smelli', 'shower', 'eat', 'shower', 'get', '...</td>\n",
       "      <td>7819</td>\n",
       "      <td>235</td>\n",
       "      <td>1</td>\n",
       "      <td>35</td>\n",
       "      <td>35</td>\n",
       "    </tr>\n",
       "  </tbody>\n",
       "</table>\n",
       "</div>"
      ],
      "text/plain": [
       "         auhtor_ID  ... num_contractions\n",
       "34865   t2_3h3t0mb  ...               41\n",
       "38303  t2_ga9jkp22  ...               30\n",
       "36840  t2_8g3ecofl  ...               11\n",
       "35322     t2_txn1p  ...               17\n",
       "33673  t2_46463x14  ...               35\n",
       "\n",
       "[5 rows x 11 columns]"
      ]
     },
     "execution_count": 66,
     "metadata": {},
     "output_type": "execute_result"
    }
   ],
   "source": [
    "df.head(5)"
   ]
  },
  {
   "cell_type": "markdown",
   "id": "4236db20",
   "metadata": {},
   "source": [
    "## Ridge regression and Random Forest: Predicting with tokens"
   ]
  },
  {
   "cell_type": "code",
   "execution_count": 67,
   "id": "6fba4087",
   "metadata": {},
   "outputs": [],
   "source": [
    "# Setup of models\n",
    "X = df['clean_post']\n",
    "y = df['age_range']\n",
    "\n",
    "# Define the Ridge Regression Pipeline\n",
    "def ridge_regression_pipeline():\n",
    "    return Pipeline([\n",
    "        ('tfidf', TfidfVectorizer(max_features=10000)),\n",
    "        ('ridge', Ridge(alpha=1.0))\n",
    "    ])\n",
    "\n",
    "# Define the Random Forest Pipeline\n",
    "def random_forest_pipeline():\n",
    "    return Pipeline([\n",
    "        ('vectorizer', CountVectorizer(max_features=15000)),\n",
    "        ('rf', RandomForestRegressor(n_estimators=10, random_state=42))\n",
    "    ])\n",
    "\n",
    "# Perform 5-fold cross-validation\n",
    "kf = KFold(n_splits=5, shuffle=True, random_state=42)"
   ]
  },
  {
   "cell_type": "code",
   "execution_count": 68,
   "id": "6cac4d39",
   "metadata": {},
   "outputs": [
    {
     "name": "stdout",
     "output_type": "stream",
     "text": [
      "Ridge Regression MAE: 0.86 ± 0.04\n"
     ]
    }
   ],
   "source": [
    "# MAE Ridge Regression\n",
    "ridge_pipeline = ridge_regression_pipeline()\n",
    "score = cross_val_score(ridge_pipeline, X, y, scoring='neg_mean_absolute_error', cv=kf)\n",
    "print(f\"Ridge Regression MAE: {-score.mean():.2f} ± {score.std():.2f}\")"
   ]
  },
  {
   "cell_type": "code",
   "execution_count": 69,
   "id": "f26f8230",
   "metadata": {},
   "outputs": [
    {
     "name": "stderr",
     "output_type": "stream",
     "text": [
      "Cross-validating Ridge Regression: 5it [00:01,  4.01it/s]\n"
     ]
    }
   ],
   "source": [
    "# Training Ridge Regression\n",
    "all_predictions = []\n",
    "\n",
    "for train_index, test_index in tqdm(kf.split(X), desc=\"Cross-validating Ridge Regression\"):\n",
    "    X_train, X_test = X.iloc[train_index], X.iloc[test_index]\n",
    "    y_train, y_test = y.iloc[train_index], y.iloc[test_index]\n",
    "    \n",
    "    ridge_pipeline.fit(X_train, y_train)\n",
    "    predictions = ridge_pipeline.predict(X_test)\n",
    "    all_predictions.extend(predictions)\n",
    "    \n",
    "all_predictions = [int(pred) for pred in all_predictions]"
   ]
  },
  {
   "cell_type": "code",
   "execution_count": 72,
   "id": "c552f84e",
   "metadata": {},
   "outputs": [
    {
     "data": {
      "text/html": [
       "<div>\n",
       "<style scoped>\n",
       "    .dataframe tbody tr th:only-of-type {\n",
       "        vertical-align: middle;\n",
       "    }\n",
       "\n",
       "    .dataframe tbody tr th {\n",
       "        vertical-align: top;\n",
       "    }\n",
       "\n",
       "    .dataframe thead th {\n",
       "        text-align: right;\n",
       "    }\n",
       "</style>\n",
       "<table border=\"1\" class=\"dataframe\">\n",
       "  <thead>\n",
       "    <tr style=\"text-align: right;\">\n",
       "      <th></th>\n",
       "      <th>post</th>\n",
       "      <th>clean_post</th>\n",
       "      <th>age_range</th>\n",
       "      <th>ridge_prediction</th>\n",
       "    </tr>\n",
       "  </thead>\n",
       "  <tbody>\n",
       "    <tr>\n",
       "      <th>34865</th>\n",
       "      <td>record was 285 in May) **New States:** Illinoi...</td>\n",
       "      <td>['record', 'may', 'new', 'state', 'illinoi', '...</td>\n",
       "      <td>2</td>\n",
       "      <td>3</td>\n",
       "    </tr>\n",
       "    <tr>\n",
       "      <th>38303</th>\n",
       "      <td>Girly I am 20 with barely an a cup. I know it’...</td>\n",
       "      <td>['girli', 'bare', 'cup', 'know', 'difficult', ...</td>\n",
       "      <td>2</td>\n",
       "      <td>3</td>\n",
       "    </tr>\n",
       "    <tr>\n",
       "      <th>36840</th>\n",
       "      <td>food you like in a single day, you're allowed ...</td>\n",
       "      <td>['food', 'like', 'singl', 'day', 'allow', 'tak...</td>\n",
       "      <td>2</td>\n",
       "      <td>3</td>\n",
       "    </tr>\n",
       "    <tr>\n",
       "      <th>35322</th>\n",
       "      <td>so frustrating! Right. I am just frustrated th...</td>\n",
       "      <td>['frustrat', 'right', 'frustrat', 'thing', 'li...</td>\n",
       "      <td>2</td>\n",
       "      <td>3</td>\n",
       "    </tr>\n",
       "    <tr>\n",
       "      <th>33673</th>\n",
       "      <td>and smelly. shower? i’ll eat in the shower, ge...</td>\n",
       "      <td>['smelli', 'shower', 'eat', 'shower', 'get', '...</td>\n",
       "      <td>2</td>\n",
       "      <td>3</td>\n",
       "    </tr>\n",
       "  </tbody>\n",
       "</table>\n",
       "</div>"
      ],
      "text/plain": [
       "                                                    post  ... ridge_prediction\n",
       "34865  record was 285 in May) **New States:** Illinoi...  ...                3\n",
       "38303  Girly I am 20 with barely an a cup. I know it’...  ...                3\n",
       "36840  food you like in a single day, you're allowed ...  ...                3\n",
       "35322  so frustrating! Right. I am just frustrated th...  ...                3\n",
       "33673  and smelly. shower? i’ll eat in the shower, ge...  ...                3\n",
       "\n",
       "[5 rows x 4 columns]"
      ]
     },
     "execution_count": 72,
     "metadata": {},
     "output_type": "execute_result"
    }
   ],
   "source": [
    "# Store results in a DataFrame\n",
    "df['ridge_prediction'] = all_predictions\n",
    "df[['post', 'clean_post', 'age_range', 'ridge_prediction']].head()"
   ]
  },
  {
   "cell_type": "code",
   "execution_count": 53,
   "id": "e7ac5e0d",
   "metadata": {},
   "outputs": [
    {
     "name": "stdout",
     "output_type": "stream",
     "text": [
      "Random Forest MAE: 0.91 ± 0.04\n"
     ]
    }
   ],
   "source": [
    "# MAE Random Forest\n",
    "forest_pipeline = random_forest_pipeline()\n",
    "score = cross_val_score(forest_pipeline, X, y, scoring='neg_mean_absolute_error', cv=kf)\n",
    "print(f\"Random Forest MAE: {-score.mean():.2f} ± {score.std():.2f}\")"
   ]
  },
  {
   "cell_type": "code",
   "execution_count": 54,
   "id": "349d933f",
   "metadata": {},
   "outputs": [
    {
     "name": "stderr",
     "output_type": "stream",
     "text": [
      "Cross-validating Random Forest: 5it [00:27,  5.45s/it]\n"
     ]
    }
   ],
   "source": [
    "# Training Random Forest\n",
    "all_predictions = []\n",
    "\n",
    "for train_index, test_index in tqdm(kf.split(X), desc=\"Cross-validating Random Forest\"):\n",
    "    X_train, X_test = X.iloc[train_index], X.iloc[test_index]\n",
    "    y_train, y_test = y.iloc[train_index], y.iloc[test_index]\n",
    "    \n",
    "    forest_pipeline.fit(X_train, y_train)\n",
    "    predictions = forest_pipeline.predict(X_test)\n",
    "    all_predictions.extend(predictions)\n",
    "    \n",
    "all_predictions = [int(pred) for pred in all_predictions]"
   ]
  },
  {
   "cell_type": "code",
   "execution_count": 73,
   "id": "4b9f7c8d",
   "metadata": {},
   "outputs": [
    {
     "data": {
      "text/html": [
       "<div>\n",
       "<style scoped>\n",
       "    .dataframe tbody tr th:only-of-type {\n",
       "        vertical-align: middle;\n",
       "    }\n",
       "\n",
       "    .dataframe tbody tr th {\n",
       "        vertical-align: top;\n",
       "    }\n",
       "\n",
       "    .dataframe thead th {\n",
       "        text-align: right;\n",
       "    }\n",
       "</style>\n",
       "<table border=\"1\" class=\"dataframe\">\n",
       "  <thead>\n",
       "    <tr style=\"text-align: right;\">\n",
       "      <th></th>\n",
       "      <th>post</th>\n",
       "      <th>clean_post</th>\n",
       "      <th>age_range</th>\n",
       "      <th>forest_prediction</th>\n",
       "    </tr>\n",
       "  </thead>\n",
       "  <tbody>\n",
       "    <tr>\n",
       "      <th>34865</th>\n",
       "      <td>record was 285 in May) **New States:** Illinoi...</td>\n",
       "      <td>['record', 'may', 'new', 'state', 'illinoi', '...</td>\n",
       "      <td>2</td>\n",
       "      <td>3</td>\n",
       "    </tr>\n",
       "    <tr>\n",
       "      <th>38303</th>\n",
       "      <td>Girly I am 20 with barely an a cup. I know it’...</td>\n",
       "      <td>['girli', 'bare', 'cup', 'know', 'difficult', ...</td>\n",
       "      <td>2</td>\n",
       "      <td>3</td>\n",
       "    </tr>\n",
       "    <tr>\n",
       "      <th>36840</th>\n",
       "      <td>food you like in a single day, you're allowed ...</td>\n",
       "      <td>['food', 'like', 'singl', 'day', 'allow', 'tak...</td>\n",
       "      <td>2</td>\n",
       "      <td>3</td>\n",
       "    </tr>\n",
       "    <tr>\n",
       "      <th>35322</th>\n",
       "      <td>so frustrating! Right. I am just frustrated th...</td>\n",
       "      <td>['frustrat', 'right', 'frustrat', 'thing', 'li...</td>\n",
       "      <td>2</td>\n",
       "      <td>3</td>\n",
       "    </tr>\n",
       "    <tr>\n",
       "      <th>33673</th>\n",
       "      <td>and smelly. shower? i’ll eat in the shower, ge...</td>\n",
       "      <td>['smelli', 'shower', 'eat', 'shower', 'get', '...</td>\n",
       "      <td>2</td>\n",
       "      <td>3</td>\n",
       "    </tr>\n",
       "  </tbody>\n",
       "</table>\n",
       "</div>"
      ],
      "text/plain": [
       "                                                    post  ... forest_prediction\n",
       "34865  record was 285 in May) **New States:** Illinoi...  ...                 3\n",
       "38303  Girly I am 20 with barely an a cup. I know it’...  ...                 3\n",
       "36840  food you like in a single day, you're allowed ...  ...                 3\n",
       "35322  so frustrating! Right. I am just frustrated th...  ...                 3\n",
       "33673  and smelly. shower? i’ll eat in the shower, ge...  ...                 3\n",
       "\n",
       "[5 rows x 4 columns]"
      ]
     },
     "execution_count": 73,
     "metadata": {},
     "output_type": "execute_result"
    }
   ],
   "source": [
    "# Store results in a DataFrame\n",
    "df['forest_prediction'] = all_predictions\n",
    "df[['post', 'clean_post', 'age_range', 'forest_prediction']].head()"
   ]
  },
  {
   "cell_type": "markdown",
   "id": "093610c3",
   "metadata": {},
   "source": [
    "## Ridge regression and Random Forest: Predicting with stylometry features"
   ]
  },
  {
   "cell_type": "code",
   "execution_count": 96,
   "id": "dc40167b",
   "metadata": {},
   "outputs": [],
   "source": [
    "# Setup of models\n",
    "X = df[['post', 'num_characters', 'num_special_symbols', 'num_emojis', 'num_contractions']]\n",
    "y = df['age_range']\n",
    "\n",
    "# Define the Ridge Regression Pipeline\n",
    "def ridge_regression_pipeline():\n",
    "    return Pipeline([\n",
    "        ('preprocessor', ColumnTransformer(\n",
    "            transformers=[\n",
    "                ('text', TfidfVectorizer(max_features=55000), 'post'),  # Process the 'post' text\n",
    "                ('numerical', FunctionTransformer(), ['num_characters', 'num_special_symbols', 'num_emojis', 'num_contractions'])\n",
    "            ]\n",
    "        )),\n",
    "        ('regressor', Ridge())\n",
    "    ])\n",
    "\n",
    "# Define the Random Forest Pipeline\n",
    "def random_forest_pipeline():\n",
    "    # Define the column transformer\n",
    "    preprocessor = ColumnTransformer(\n",
    "        transformers=[\n",
    "            ('text', CountVectorizer(max_features=15000), 'post'),\n",
    "            ('num', StandardScaler(), ['num_characters', 'num_special_symbols', 'num_emojis'])\n",
    "        ]\n",
    "    )\n",
    "    \n",
    "    # Create the pipeline\n",
    "    pipeline = Pipeline([\n",
    "        ('preprocessor', preprocessor),\n",
    "        ('rf', RandomForestRegressor(n_estimators=25, random_state=42))\n",
    "    ])\n",
    "    \n",
    "    return pipeline\n",
    "\n",
    "# Perform 5-fold cross-validation\n",
    "kf = KFold(n_splits=5, shuffle=True, random_state=42)"
   ]
  },
  {
   "cell_type": "code",
   "execution_count": 103,
   "id": "971eb7ac",
   "metadata": {},
   "outputs": [
    {
     "name": "stdout",
     "output_type": "stream",
     "text": [
      "Ridge Regression MAE: 0.86 ± 0.04\n"
     ]
    }
   ],
   "source": [
    "# MAE Ridge Regression\n",
    "ridge_pipeline = ridge_regression_pipeline()\n",
    "score = cross_val_score(ridge_pipeline, X, y, scoring='neg_mean_absolute_error', cv=kf)\n",
    "print(f\"Ridge Regression MAE: {-score.mean():.2f} ± {score.std():.2f}\")"
   ]
  },
  {
   "cell_type": "code",
   "execution_count": 104,
   "id": "f83c0e88",
   "metadata": {},
   "outputs": [
    {
     "name": "stderr",
     "output_type": "stream",
     "text": [
      "Cross-validating Ridge Regression: 5it [00:02,  1.93it/s]\n"
     ]
    }
   ],
   "source": [
    "# Training Ridge Regression\n",
    "all_predictions = []\n",
    "\n",
    "for train_index, test_index in tqdm(kf.split(X), desc=\"Cross-validating Ridge Regression\"):\n",
    "    X_train, X_test = X.iloc[train_index], X.iloc[test_index]\n",
    "    y_train, y_test = y.iloc[train_index], y.iloc[test_index]\n",
    "\n",
    "    ridge_pipeline.fit(X_train, y_train)\n",
    "    predictions = ridge_pipeline.predict(X_test)\n",
    "    all_predictions.extend(predictions)\n",
    "    \n",
    "all_predictions = [int(pred) for pred in all_predictions]"
   ]
  },
  {
   "cell_type": "code",
   "execution_count": 105,
   "id": "cc8f216d",
   "metadata": {},
   "outputs": [
    {
     "data": {
      "text/html": [
       "<div>\n",
       "<style scoped>\n",
       "    .dataframe tbody tr th:only-of-type {\n",
       "        vertical-align: middle;\n",
       "    }\n",
       "\n",
       "    .dataframe tbody tr th {\n",
       "        vertical-align: top;\n",
       "    }\n",
       "\n",
       "    .dataframe thead th {\n",
       "        text-align: right;\n",
       "    }\n",
       "</style>\n",
       "<table border=\"1\" class=\"dataframe\">\n",
       "  <thead>\n",
       "    <tr style=\"text-align: right;\">\n",
       "      <th></th>\n",
       "      <th>post</th>\n",
       "      <th>clean_post</th>\n",
       "      <th>age_range</th>\n",
       "      <th>ridge_prediction_+features</th>\n",
       "    </tr>\n",
       "  </thead>\n",
       "  <tbody>\n",
       "    <tr>\n",
       "      <th>34865</th>\n",
       "      <td>record was 285 in May) **New States:** Illinoi...</td>\n",
       "      <td>['record', 'may', 'new', 'state', 'illinoi', '...</td>\n",
       "      <td>2</td>\n",
       "      <td>3</td>\n",
       "    </tr>\n",
       "    <tr>\n",
       "      <th>38303</th>\n",
       "      <td>Girly I am 20 with barely an a cup. I know it’...</td>\n",
       "      <td>['girli', 'bare', 'cup', 'know', 'difficult', ...</td>\n",
       "      <td>2</td>\n",
       "      <td>3</td>\n",
       "    </tr>\n",
       "    <tr>\n",
       "      <th>36840</th>\n",
       "      <td>food you like in a single day, you're allowed ...</td>\n",
       "      <td>['food', 'like', 'singl', 'day', 'allow', 'tak...</td>\n",
       "      <td>2</td>\n",
       "      <td>4</td>\n",
       "    </tr>\n",
       "    <tr>\n",
       "      <th>35322</th>\n",
       "      <td>so frustrating! Right. I am just frustrated th...</td>\n",
       "      <td>['frustrat', 'right', 'frustrat', 'thing', 'li...</td>\n",
       "      <td>2</td>\n",
       "      <td>3</td>\n",
       "    </tr>\n",
       "    <tr>\n",
       "      <th>33673</th>\n",
       "      <td>and smelly. shower? i’ll eat in the shower, ge...</td>\n",
       "      <td>['smelli', 'shower', 'eat', 'shower', 'get', '...</td>\n",
       "      <td>2</td>\n",
       "      <td>3</td>\n",
       "    </tr>\n",
       "  </tbody>\n",
       "</table>\n",
       "</div>"
      ],
      "text/plain": [
       "                                                    post  ... ridge_prediction_+features\n",
       "34865  record was 285 in May) **New States:** Illinoi...  ...                          3\n",
       "38303  Girly I am 20 with barely an a cup. I know it’...  ...                          3\n",
       "36840  food you like in a single day, you're allowed ...  ...                          4\n",
       "35322  so frustrating! Right. I am just frustrated th...  ...                          3\n",
       "33673  and smelly. shower? i’ll eat in the shower, ge...  ...                          3\n",
       "\n",
       "[5 rows x 4 columns]"
      ]
     },
     "execution_count": 105,
     "metadata": {},
     "output_type": "execute_result"
    }
   ],
   "source": [
    "# Store results in a DataFrame\n",
    "df['ridge_prediction_+features'] = all_predictions\n",
    "df[['post', 'clean_post', 'age_range', 'ridge_prediction_+features']].head()"
   ]
  },
  {
   "cell_type": "code",
   "execution_count": 99,
   "id": "76a485c3",
   "metadata": {},
   "outputs": [
    {
     "name": "stdout",
     "output_type": "stream",
     "text": [
      "Random Forest MAE: 0.92 ± 0.04\n"
     ]
    }
   ],
   "source": [
    "# MAE Random Forest\n",
    "forest_pipeline = random_forest_pipeline()\n",
    "score = cross_val_score(forest_pipeline, X, y, scoring='neg_mean_absolute_error', cv=kf)\n",
    "print(f\"Random Forest MAE: {-score.mean():.2f} ± {score.std():.2f}\")"
   ]
  },
  {
   "cell_type": "code",
   "execution_count": 100,
   "id": "e81f57e3",
   "metadata": {},
   "outputs": [
    {
     "name": "stderr",
     "output_type": "stream",
     "text": [
      "Cross-validating Random Forest: 5it [00:28,  5.66s/it]\n"
     ]
    }
   ],
   "source": [
    "# Training Random Forest\n",
    "all_predictions = []\n",
    "\n",
    "for train_index, test_index in tqdm(kf.split(X), desc=\"Cross-validating Random Forest\"):\n",
    "    X_train, X_test = X.iloc[train_index], X.iloc[test_index]\n",
    "    y_train, y_test = y.iloc[train_index], y.iloc[test_index]\n",
    "    \n",
    "    forest_pipeline.fit(X_train, y_train)\n",
    "    predictions = forest_pipeline.predict(X_test)\n",
    "    all_predictions.extend(predictions)\n",
    "    \n",
    "all_predictions = [int(pred) for pred in all_predictions]"
   ]
  },
  {
   "cell_type": "code",
   "execution_count": 102,
   "id": "806ed439",
   "metadata": {},
   "outputs": [
    {
     "data": {
      "text/html": [
       "<div>\n",
       "<style scoped>\n",
       "    .dataframe tbody tr th:only-of-type {\n",
       "        vertical-align: middle;\n",
       "    }\n",
       "\n",
       "    .dataframe tbody tr th {\n",
       "        vertical-align: top;\n",
       "    }\n",
       "\n",
       "    .dataframe thead th {\n",
       "        text-align: right;\n",
       "    }\n",
       "</style>\n",
       "<table border=\"1\" class=\"dataframe\">\n",
       "  <thead>\n",
       "    <tr style=\"text-align: right;\">\n",
       "      <th></th>\n",
       "      <th>post</th>\n",
       "      <th>clean_post</th>\n",
       "      <th>age_range</th>\n",
       "      <th>forest_prediction_+features</th>\n",
       "    </tr>\n",
       "  </thead>\n",
       "  <tbody>\n",
       "    <tr>\n",
       "      <th>34865</th>\n",
       "      <td>record was 285 in May) **New States:** Illinoi...</td>\n",
       "      <td>['record', 'may', 'new', 'state', 'illinoi', '...</td>\n",
       "      <td>2</td>\n",
       "      <td>3</td>\n",
       "    </tr>\n",
       "    <tr>\n",
       "      <th>38303</th>\n",
       "      <td>Girly I am 20 with barely an a cup. I know it’...</td>\n",
       "      <td>['girli', 'bare', 'cup', 'know', 'difficult', ...</td>\n",
       "      <td>2</td>\n",
       "      <td>3</td>\n",
       "    </tr>\n",
       "    <tr>\n",
       "      <th>36840</th>\n",
       "      <td>food you like in a single day, you're allowed ...</td>\n",
       "      <td>['food', 'like', 'singl', 'day', 'allow', 'tak...</td>\n",
       "      <td>2</td>\n",
       "      <td>4</td>\n",
       "    </tr>\n",
       "    <tr>\n",
       "      <th>35322</th>\n",
       "      <td>so frustrating! Right. I am just frustrated th...</td>\n",
       "      <td>['frustrat', 'right', 'frustrat', 'thing', 'li...</td>\n",
       "      <td>2</td>\n",
       "      <td>3</td>\n",
       "    </tr>\n",
       "    <tr>\n",
       "      <th>33673</th>\n",
       "      <td>and smelly. shower? i’ll eat in the shower, ge...</td>\n",
       "      <td>['smelli', 'shower', 'eat', 'shower', 'get', '...</td>\n",
       "      <td>2</td>\n",
       "      <td>3</td>\n",
       "    </tr>\n",
       "  </tbody>\n",
       "</table>\n",
       "</div>"
      ],
      "text/plain": [
       "                                                    post  ... forest_prediction_+features\n",
       "34865  record was 285 in May) **New States:** Illinoi...  ...                           3\n",
       "38303  Girly I am 20 with barely an a cup. I know it’...  ...                           3\n",
       "36840  food you like in a single day, you're allowed ...  ...                           4\n",
       "35322  so frustrating! Right. I am just frustrated th...  ...                           3\n",
       "33673  and smelly. shower? i’ll eat in the shower, ge...  ...                           3\n",
       "\n",
       "[5 rows x 4 columns]"
      ]
     },
     "execution_count": 102,
     "metadata": {},
     "output_type": "execute_result"
    }
   ],
   "source": [
    "# Store results in a DataFrame\n",
    "df['forest_prediction_+features'] = all_predictions\n",
    "df[['post', 'clean_post', 'age_range', 'forest_prediction_+features']].head()"
   ]
  },
  {
   "cell_type": "markdown",
   "id": "c11ffca1",
   "metadata": {},
   "source": [
    "## Save dataframe"
   ]
  },
  {
   "cell_type": "code",
   "execution_count": 106,
   "id": "d09f35b9",
   "metadata": {},
   "outputs": [],
   "source": [
    "# get dataframe name\n",
    "name_df = None\n",
    "globals_copy = globals().copy()\n",
    "for name, value in globals_copy.items():\n",
    "    if value is df and name != 'df':\n",
    "        name_df = name\n",
    "        break\n",
    "    \n",
    "# to pickle\n",
    "if not os.path.exists('predictions_data'):\n",
    "    os.makedirs('predictions_data')\n",
    "df.to_pickle(f'predictions_data/{name_df}.pkl')"
   ]
  }
 ],
 "metadata": {
  "kernelspec": {
   "display_name": ".venv",
   "language": "python",
   "name": "python3"
  },
  "language_info": {
   "codemirror_mode": {
    "name": "ipython",
    "version": 3
   },
   "file_extension": ".py",
   "mimetype": "text/x-python",
   "name": "python",
   "nbconvert_exporter": "python",
   "pygments_lexer": "ipython3",
   "version": "3.12.8"
  }
 },
 "nbformat": 4,
 "nbformat_minor": 5
}
