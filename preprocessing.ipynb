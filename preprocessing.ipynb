{
 "cells": [
  {
   "cell_type": "code",
   "execution_count": 19,
   "metadata": {},
   "outputs": [],
   "source": [
    "import numpy as np\n",
    "import pandas as pd\n",
    "import os\n",
    "import nltk\n",
    "import matplotlib.pyplot as plt\n",
    "import seaborn as sns\n",
    "import random\n",
    "from tqdm import tqdm\n",
    "from datetime import datetime"
   ]
  },
  {
   "cell_type": "code",
   "execution_count": 5,
   "metadata": {},
   "outputs": [
    {
     "data": {
      "text/plain": [
       "\"\\nfiles = os.listdir('data')\\ndct = dict()\\nfor file in files:\\n    path = os.path.join('data', file)\\n    df = pd.read_csv(path)\\n    dct[file] = df.shape\\n    print(df.head())\\n\\nprint(dct)\\n\""
      ]
     },
     "execution_count": 5,
     "metadata": {},
     "output_type": "execute_result"
    }
   ],
   "source": [
    "\"\"\"\n",
    "files = os.listdir('data')\n",
    "dct = dict()\n",
    "for file in files:\n",
    "    path = os.path.join('data', file)\n",
    "    df = pd.read_csv(path)\n",
    "    dct[file] = df.shape\n",
    "    print(df.head())\n",
    "\n",
    "print(dct)\n",
    "\"\"\""
   ]
  },
  {
   "cell_type": "code",
   "execution_count": 6,
   "metadata": {},
   "outputs": [
    {
     "data": {
      "text/html": [
       "<div>\n",
       "<style scoped>\n",
       "    .dataframe tbody tr th:only-of-type {\n",
       "        vertical-align: middle;\n",
       "    }\n",
       "\n",
       "    .dataframe tbody tr th {\n",
       "        vertical-align: top;\n",
       "    }\n",
       "\n",
       "    .dataframe thead th {\n",
       "        text-align: right;\n",
       "    }\n",
       "</style>\n",
       "<table border=\"1\" class=\"dataframe\">\n",
       "  <thead>\n",
       "    <tr style=\"text-align: right;\">\n",
       "      <th></th>\n",
       "      <th>auhtor_ID</th>\n",
       "      <th>post</th>\n",
       "      <th>birth_year</th>\n",
       "    </tr>\n",
       "  </thead>\n",
       "  <tbody>\n",
       "    <tr>\n",
       "      <th>28446</th>\n",
       "      <td>t2_9v6260me</td>\n",
       "      <td>a trope among this sub and almost everyone joi...</td>\n",
       "      <td>1948</td>\n",
       "    </tr>\n",
       "    <tr>\n",
       "      <th>28445</th>\n",
       "      <td>t2_9v6260me</td>\n",
       "      <td>door question” decorated with an extreme helpi...</td>\n",
       "      <td>1948</td>\n",
       "    </tr>\n",
       "    <tr>\n",
       "      <th>28444</th>\n",
       "      <td>t2_9v6260me</td>\n",
       "      <td>Unless you live at home, why would you put up ...</td>\n",
       "      <td>1948</td>\n",
       "    </tr>\n",
       "    <tr>\n",
       "      <th>28456</th>\n",
       "      <td>t2_9v6260me</td>\n",
       "      <td>my mind) any possibility of another religion b...</td>\n",
       "      <td>1948</td>\n",
       "    </tr>\n",
       "    <tr>\n",
       "      <th>28457</th>\n",
       "      <td>t2_9v6260me</td>\n",
       "      <td>and our mental health is linked to our physica...</td>\n",
       "      <td>1948</td>\n",
       "    </tr>\n",
       "  </tbody>\n",
       "</table>\n",
       "</div>"
      ],
      "text/plain": [
       "         auhtor_ID                                               post  \\\n",
       "28446  t2_9v6260me  a trope among this sub and almost everyone joi...   \n",
       "28445  t2_9v6260me  door question” decorated with an extreme helpi...   \n",
       "28444  t2_9v6260me  Unless you live at home, why would you put up ...   \n",
       "28456  t2_9v6260me  my mind) any possibility of another religion b...   \n",
       "28457  t2_9v6260me  and our mental health is linked to our physica...   \n",
       "\n",
       "       birth_year  \n",
       "28446        1948  \n",
       "28445        1948  \n",
       "28444        1948  \n",
       "28456        1948  \n",
       "28457        1948  "
      ]
     },
     "execution_count": 6,
     "metadata": {},
     "output_type": "execute_result"
    }
   ],
   "source": [
    "path = 'data/birth_year.csv'\n",
    "df_birthyear = pd.read_csv(path)\n",
    "df_birthyear.sort_values(by=\"birth_year\", ascending=True, inplace=True)\n",
    "df_birthyear.head()"
   ]
  },
  {
   "cell_type": "code",
   "execution_count": 7,
   "metadata": {},
   "outputs": [
    {
     "data": {
      "image/png": "[encoded data removed]",
      "text/plain": [
       "<Figure size 1000x600 with 1 Axes>"
      ]
     },
     "metadata": {},
     "output_type": "display_data"
    }
   ],
   "source": [
    "# plot a piechart with birth years\n",
    "df_count = df_birthyear.value_counts('birth_year').sort_index()\n",
    "fig = plt.figure(figsize=(10, 6))\n",
    "ax = df_count.plot.bar()\n",
    "plt.title('Birth Year Distribution');"
   ]
  },
  {
   "cell_type": "code",
   "execution_count": 12,
   "metadata": {},
   "outputs": [
    {
     "data": {
      "text/html": [
       "<div>\n",
       "<style scoped>\n",
       "    .dataframe tbody tr th:only-of-type {\n",
       "        vertical-align: middle;\n",
       "    }\n",
       "\n",
       "    .dataframe tbody tr th {\n",
       "        vertical-align: top;\n",
       "    }\n",
       "\n",
       "    .dataframe thead th {\n",
       "        text-align: right;\n",
       "    }\n",
       "</style>\n",
       "<table border=\"1\" class=\"dataframe\">\n",
       "  <thead>\n",
       "    <tr style=\"text-align: right;\">\n",
       "      <th></th>\n",
       "      <th>auhtor_ID</th>\n",
       "      <th>post</th>\n",
       "      <th>birth_year</th>\n",
       "      <th>age</th>\n",
       "      <th>age_range</th>\n",
       "    </tr>\n",
       "  </thead>\n",
       "  <tbody>\n",
       "    <tr>\n",
       "      <th>28446</th>\n",
       "      <td>t2_9v6260me</td>\n",
       "      <td>a trope among this sub and almost everyone joi...</td>\n",
       "      <td>1948</td>\n",
       "      <td>73</td>\n",
       "      <td>7</td>\n",
       "    </tr>\n",
       "    <tr>\n",
       "      <th>28445</th>\n",
       "      <td>t2_9v6260me</td>\n",
       "      <td>door question” decorated with an extreme helpi...</td>\n",
       "      <td>1948</td>\n",
       "      <td>73</td>\n",
       "      <td>7</td>\n",
       "    </tr>\n",
       "    <tr>\n",
       "      <th>28444</th>\n",
       "      <td>t2_9v6260me</td>\n",
       "      <td>Unless you live at home, why would you put up ...</td>\n",
       "      <td>1948</td>\n",
       "      <td>73</td>\n",
       "      <td>7</td>\n",
       "    </tr>\n",
       "    <tr>\n",
       "      <th>28456</th>\n",
       "      <td>t2_9v6260me</td>\n",
       "      <td>my mind) any possibility of another religion b...</td>\n",
       "      <td>1948</td>\n",
       "      <td>73</td>\n",
       "      <td>7</td>\n",
       "    </tr>\n",
       "    <tr>\n",
       "      <th>28457</th>\n",
       "      <td>t2_9v6260me</td>\n",
       "      <td>and our mental health is linked to our physica...</td>\n",
       "      <td>1948</td>\n",
       "      <td>73</td>\n",
       "      <td>7</td>\n",
       "    </tr>\n",
       "  </tbody>\n",
       "</table>\n",
       "</div>"
      ],
      "text/plain": [
       "         auhtor_ID                                               post  \\\n",
       "28446  t2_9v6260me  a trope among this sub and almost everyone joi...   \n",
       "28445  t2_9v6260me  door question” decorated with an extreme helpi...   \n",
       "28444  t2_9v6260me  Unless you live at home, why would you put up ...   \n",
       "28456  t2_9v6260me  my mind) any possibility of another religion b...   \n",
       "28457  t2_9v6260me  and our mental health is linked to our physica...   \n",
       "\n",
       "       birth_year  age  age_range  \n",
       "28446        1948   73          7  \n",
       "28445        1948   73          7  \n",
       "28444        1948   73          7  \n",
       "28456        1948   73          7  \n",
       "28457        1948   73          7  "
      ]
     },
     "execution_count": 12,
     "metadata": {},
     "output_type": "execute_result"
    }
   ],
   "source": [
    "delay = 0                           # in years, to account for the time between publishing and now\n",
    "current_year = datetime.now().year\n",
    "df_birthyear['age'] = current_year - df_birthyear['birth_year'] - delay\n",
    "df_birthyear['age_range'] = df_birthyear['age'] // 10\n",
    "df_birthyear.head()"
   ]
  },
  {
   "cell_type": "code",
   "execution_count": 21,
   "metadata": {},
   "outputs": [
    {
     "data": {
      "image/png": "[encoded data removed]",
      "text/plain": [
       "<Figure size 1000x600 with 1 Axes>"
      ]
     },
     "metadata": {},
     "output_type": "display_data"
    }
   ],
   "source": [
    "# Create a temporary DataFrame with unique authors\n",
    "unique_authors = df_birthyear.loc[df_birthyear['auhtor_ID'].drop_duplicates().index]\n",
    "\n",
    "# Plot the age distribution\n",
    "plt.figure(figsize=(10, 6))\n",
    "sns.countplot(x='age_range', data=df_birthyear)\n",
    "plt.xlabel('Age Range')\n",
    "plt.ylabel('Count')\n",
    "plt.title('Count of Authors by Age Range')\n",
    "plt.xticks(rotation=45)  # Rotate x-axis labels if needed\n",
    "plt.show()"
   ]
  },
  {
   "cell_type": "markdown",
   "metadata": {},
   "source": [
    "# Preprocessing using nltk"
   ]
  },
  {
   "cell_type": "code",
   "execution_count": 25,
   "metadata": {},
   "outputs": [
    {
     "name": "stderr",
     "output_type": "stream",
     "text": [
      "[nltk_data] Downloading package stopwords to\n",
      "[nltk_data]     C:\\Users\\zitag\\AppData\\Roaming\\nltk_data...\n",
      "[nltk_data]   Package stopwords is already up-to-date!\n",
      "[nltk_data] Downloading package punkt_tab to\n",
      "[nltk_data]     C:\\Users\\zitag\\AppData\\Roaming\\nltk_data...\n",
      "[nltk_data]   Package punkt_tab is already up-to-date!\n"
     ]
    }
   ],
   "source": [
    "from nltk.tokenize import word_tokenize\n",
    "from nltk.corpus import stopwords\n",
    "from nltk.stem import PorterStemmer\n",
    "from collections import Counter\n",
    "nltk.download('stopwords')\n",
    "nltk.download('punkt_tab')\n",
    "import contractions\n",
    "import unicodedata\n",
    "import re"
   ]
  },
  {
   "cell_type": "code",
   "execution_count": 26,
   "metadata": {},
   "outputs": [
    {
     "name": "stderr",
     "output_type": "stream",
     "text": [
      "100%|██████████| 41873/41873 [11:14<00:00, 62.08it/s]\n"
     ]
    }
   ],
   "source": [
    "df_birthyear['clean_post'] = np.nan\n",
    "\n",
    "stemmer = PorterStemmer()\n",
    "stop_words = set(stopwords.words('english'))\n",
    "\n",
    "def clean_post(post):\n",
    "    words = word_tokenize(post.lower())\n",
    "    words = [contractions.fix(word) for word in words]\n",
    "    words = [unicodedata.normalize('NFKD', word).encode('ASCII', 'ignore').decode('utf-8') for word in words]\n",
    "    words = [re.sub(r\"(https|http)?:\\S*\", \"\", word) for word in words]\n",
    "    words = [word for word in words if word.isalpha()]\n",
    "    words = [word for word in words if word not in stop_words]\n",
    "    words = [stemmer.stem(word) for word in words]\n",
    "    return str(words)\n",
    "\n",
    "tqdm.pandas()\n",
    "df_birthyear['clean_post'] = df_birthyear['post'].progress_apply(clean_post)\n",
    "df_birthyear.reset_index(drop=True, inplace=True)"
   ]
  },
  {
   "cell_type": "code",
   "execution_count": 27,
   "metadata": {},
   "outputs": [
    {
     "data": {
      "text/html": [
       "<div>\n",
       "<style scoped>\n",
       "    .dataframe tbody tr th:only-of-type {\n",
       "        vertical-align: middle;\n",
       "    }\n",
       "\n",
       "    .dataframe tbody tr th {\n",
       "        vertical-align: top;\n",
       "    }\n",
       "\n",
       "    .dataframe thead th {\n",
       "        text-align: right;\n",
       "    }\n",
       "</style>\n",
       "<table border=\"1\" class=\"dataframe\">\n",
       "  <thead>\n",
       "    <tr style=\"text-align: right;\">\n",
       "      <th></th>\n",
       "      <th>auhtor_ID</th>\n",
       "      <th>post</th>\n",
       "      <th>birth_year</th>\n",
       "      <th>age</th>\n",
       "      <th>age_range</th>\n",
       "      <th>clean_post</th>\n",
       "    </tr>\n",
       "  </thead>\n",
       "  <tbody>\n",
       "    <tr>\n",
       "      <th>0</th>\n",
       "      <td>t2_9v6260me</td>\n",
       "      <td>a trope among this sub and almost everyone joi...</td>\n",
       "      <td>1948</td>\n",
       "      <td>73</td>\n",
       "      <td>7</td>\n",
       "      <td>['trope', 'among', 'sub', 'almost', 'everyon',...</td>\n",
       "    </tr>\n",
       "    <tr>\n",
       "      <th>1</th>\n",
       "      <td>t2_9v6260me</td>\n",
       "      <td>door question” decorated with an extreme helpi...</td>\n",
       "      <td>1948</td>\n",
       "      <td>73</td>\n",
       "      <td>7</td>\n",
       "      <td>['door', 'question', 'decor', 'extrem', 'help'...</td>\n",
       "    </tr>\n",
       "    <tr>\n",
       "      <th>2</th>\n",
       "      <td>t2_9v6260me</td>\n",
       "      <td>Unless you live at home, why would you put up ...</td>\n",
       "      <td>1948</td>\n",
       "      <td>73</td>\n",
       "      <td>7</td>\n",
       "      <td>['unless', 'live', 'home', 'would', 'put', 'ki...</td>\n",
       "    </tr>\n",
       "    <tr>\n",
       "      <th>3</th>\n",
       "      <td>t2_9v6260me</td>\n",
       "      <td>my mind) any possibility of another religion b...</td>\n",
       "      <td>1948</td>\n",
       "      <td>73</td>\n",
       "      <td>7</td>\n",
       "      <td>['mind', 'possibl', 'anoth', 'religion', 'wort...</td>\n",
       "    </tr>\n",
       "    <tr>\n",
       "      <th>4</th>\n",
       "      <td>t2_9v6260me</td>\n",
       "      <td>and our mental health is linked to our physica...</td>\n",
       "      <td>1948</td>\n",
       "      <td>73</td>\n",
       "      <td>7</td>\n",
       "      <td>['mental', 'health', 'link', 'physic', 'health...</td>\n",
       "    </tr>\n",
       "  </tbody>\n",
       "</table>\n",
       "</div>"
      ],
      "text/plain": [
       "     auhtor_ID                                               post  birth_year  \\\n",
       "0  t2_9v6260me  a trope among this sub and almost everyone joi...        1948   \n",
       "1  t2_9v6260me  door question” decorated with an extreme helpi...        1948   \n",
       "2  t2_9v6260me  Unless you live at home, why would you put up ...        1948   \n",
       "3  t2_9v6260me  my mind) any possibility of another religion b...        1948   \n",
       "4  t2_9v6260me  and our mental health is linked to our physica...        1948   \n",
       "\n",
       "   age  age_range                                         clean_post  \n",
       "0   73          7  ['trope', 'among', 'sub', 'almost', 'everyon',...  \n",
       "1   73          7  ['door', 'question', 'decor', 'extrem', 'help'...  \n",
       "2   73          7  ['unless', 'live', 'home', 'would', 'put', 'ki...  \n",
       "3   73          7  ['mind', 'possibl', 'anoth', 'religion', 'wort...  \n",
       "4   73          7  ['mental', 'health', 'link', 'physic', 'health...  "
      ]
     },
     "execution_count": 27,
     "metadata": {},
     "output_type": "execute_result"
    }
   ],
   "source": [
    "df_birthyear.head()"
   ]
  },
  {
   "cell_type": "code",
   "execution_count": 28,
   "metadata": {},
   "outputs": [],
   "source": [
    "# to pickle\n",
    "df_birthyear.to_pickle('df_birthyear.pkl')"
   ]
  },
  {
   "cell_type": "markdown",
   "metadata": {},
   "source": [
    "## Function breakdown"
   ]
  },
  {
   "cell_type": "code",
   "execution_count": 29,
   "metadata": {},
   "outputs": [
    {
     "name": "stdout",
     "output_type": "stream",
     "text": [
      "even when I'm on a cut. I realised these 3 things 1. I'm wayyyyy more active than them (more calories out) 2. I eat healthier, low calorie dense foods (less calories in) 3. I don't give a fuck what they eat, because I'm getting jacked and they aren't lmao. If you get judged who cares Have you tried steak and potatoes? I'd say about 20. How come you want to go down to 145 You look great, and will look a loooot better at 155, you'll be skinny as fuck at 145 160/65 by October is probably doable, but I honestly don't know enough about water cuts for weigh-ins and whatever. Maybe hire a coach? You only need 2-2.2g of protein per kg of bodyweight, and any protein you consume will be used for muscle building to an extent, even if its under that, just not optimal. 220g is probably way too high, so don't stress because 150g for your bodyweight is fine tbh The reason \"diets fail\" is because when people are done dieting, they immediately rebound back to their old diets, unhealthy foods, massive portions, high calorie stuff. If you stick to healthy foods and only snack on junk occasionally, you won't rebound. Type of diet doesn't matter, what matters is calories in vs calories out, so you'll want to eat less and move more, to put it simply lol Although (piggybacking off my other comment) one strategy you can try is to time your carbs around workouts. So basically going keto for your non pre and post workout meals. If you had more time you could try a diet break for a week or 2 at maintenance calories just to \"reset\" your metabolism. Something else you may want to try are fat burners, research is limited on them actually working, but I'm on a pretty aggressive minicut right now, and I've been taking oxyshred every morning. Can't say it's boosted weight loss, but it's killed my appetite, and kept me energized. I've never taken caffeine pills, but I do take preworkout (which are basically glorified coffees with a bunch of other shit), similarly to fat burners, limited research on them actually being effective, but they definitely help me (even if it's just psychologically). Oxyshred is the only thermogenic thing I've tried, and I'd recommend it if you can afford it. But, it's definitely not a need if you still have energy, and feel satiated during the diet. I've found that fish oil (omega-3) has helped, but on top of that, healthy diet, exercise, self-care, and changing bedsheets. I'm not sure about that, some people claim you only need 1g/lb of LEAN bodyweight, but I'd just stick to the figure of 1g/lb, regardless. I'd be curious to see if there's any research on that, though To build on this, once I nailed my back training, it REALLY fixed my posture Idk man, to me it looks like your chest grew more than your tris Umm yeah, that is how it works. I eat like 170g of protein per day (I weight 150) This, but I made the mistake od dirty bulking during the first half of my first bulk, and really put on way too much fat, its way harder to get massively fat off chicken, broccoli and rice lol When I was obese it was because I'd have 1 or 2 family bags of chips night in my room when no one could see me, quiet easy yo put on weight when you're casually downing 2000+ calls a night for a snack You don't use Biceps for face pulls. If you're doing your back work properly? Your Biceps should be pretty fresh for curls and other isolations. But you can try moving them closer to the beginning if you want and see if you get better results that way A good rate of gain that minimises fat is 0.25-0.5%/week so for you that would be 0.3-0.6lb/week With proper form biceps are used very minimally, a tertiary muscle group of the exercise, if anything. They definitely shouldn't be used enough to comprise isolations Yes, but also off of junk food Yeah for sure, this is my second cut, and I honestly haven't been too hungry other than the fact that I'm suuuuuper sluggish during workouts. After a few months. I didnt realise any changes until I looked at an old photo of myself and realised \"what the fuck? When did that happen?\" I had pecs, my shoulders were wider, my back was fucking massive. I never realised them grow, but my god was I shocked and pleased when I finally noticed. That's a lot of calories. Are you sure you're not gaining? How much did you weigh a month ago vs today? Fad diets aren't special, just eat what you want, when you want, that agrees with you, that fits into your macro and caloric goals. 40 mins of walking there and back is only like 200 cals burnt at most. So just eat more. Then either you have an undiagnosed medical condition, or aren't actually eating 4300 cals a day. Do you weigh and track your food? Edit: also, have your lifts at least gone up? Then, ngl homie, you're probably making a mistake with your tracking. See how the calorie bump goes, and if you still aren't gaining weight and 100% sure you're eating in a massive surplus, maybe go see a doc. Edit: forgot to mention, also don't take one-off measurements, weight fluctuates. Nevertheless, as you get bigger, your metabolism will speed up, and you'll need to eat more. Can you add meals and recipes in MacroFactor, like you can in MFP? Thinking of swapping over as MFP removed the barcode scanner (although, I still haven't updated the app and can still use it ahaha) Do you eat like that everyday? Or was it one off? Because let's say your maintenance is 3200 cals or so, if you eat 4400 cals one day, then just 3000 for the other 6 days of the week, you've basically been at maintenance for the whole week. J make sure you're consistent with your diet. I'll give you the benefit of the doubt, and assume you are tracking accurately, because a lot of dudes who claim to be hardhainers literally just don't eat. But, stick to 4300 or whatever for a few weeks, and if your weekly average ain't going up, bump up the cals by 10%, then keep monitoring, and rinse and repeat. Then just fucking eat more, be patient Why? Nonfat is lower in calories, and higher in protein, so it's really up to you Is this one-off? Are do you eat like this everyday? No way you don't gain weight off eating 4000 cals every single day unless you're training for a marathon. Well that could be why you're not gaining. Say you have a ridiculously fast metabolism (high NEAT, or whatever) and you're maintenance is 3500, those 2 days sub 3000 could be putting you in a defecit for the week, irrespective of your high days. How much did you weigh 3 weeks ago vs today? Don't take one-off measurements, for one, you could've been dehydrated this morning, and bloated 3 weeks ago - weigh yourself a few times a week, average it out, then readjust cals accordingly. If you're benching properly, you shouldn't be hitting your shoulders that hard, only the front delt is used in the push, and rear, minimally, to stabilise. Maybe don't go to failure, instead stick to 8 reps, and as the other guy mentioned add some weight. Seems dumb, especially on a gaining diet. Carbs are good, better pumps, better workouts, fuller muscles from glycogen. Likewise I'm glad that works for you, and at least you aren't one of those keto dudes who thinks carbs are the devil lol. I used to be a bit of a carbophobe, but once I bumped my carbs up to 400ish/g per day, my workouts were INSANELY good, like PR after PR. Unfortunately that was way too many cals/day, and I've had to cut back for the mean time, oh well. Are you skinny now? Or still fat? Because if you're overweight you should cut down or recomp until you're at a lower bf% to improve your P ratios, and so that any bulking you do will be more likely to build more muscle than fat People have been nicer to me since I've stopped being obese. Then people started being attracted to me once I put on some muscle. It feels nice, but kinda reveals that people suck. I like to wear a singlet under my pump cover (a baggy sweater or hoodie) It feels awesome when I look in the mirror, rip off the cover and have an insane pump. Egotistical, sure, but I love it. Iirc there's no agreed on limit like 1g/lb of protein, as the data suggests a lot of different things, and there's a lot of individual\n"
     ]
    }
   ],
   "source": [
    "i = random.randint(0, len(df_birthyear))\n",
    "post = df_birthyear['post'][i]\n",
    "print(post)"
   ]
  },
  {
   "cell_type": "markdown",
   "metadata": {},
   "source": [
    "### Tokenization\n",
    "split the sentence up in to smaller part, here it is split up into words"
   ]
  },
  {
   "cell_type": "code",
   "execution_count": 30,
   "metadata": {},
   "outputs": [
    {
     "name": "stdout",
     "output_type": "stream",
     "text": [
      "['even', 'when', 'i', \"'m\", 'on', 'a', 'cut', '.', 'i', 'realised', 'these', '3', 'things', '1.', 'i', \"'m\", 'wayyyyy', 'more', 'active', 'than', 'them', '(', 'more', 'calories', 'out', ')', '2.', 'i', 'eat', 'healthier', ',', 'low', 'calorie', 'dense', 'foods', '(', 'less', 'calories', 'in', ')', '3.', 'i', 'do', \"n't\", 'give', 'a', 'fuck', 'what', 'they', 'eat', ',', 'because', 'i', \"'m\", 'getting', 'jacked', 'and', 'they', 'are', \"n't\", 'lmao', '.', 'if', 'you', 'get', 'judged', 'who', 'cares', 'have', 'you', 'tried', 'steak', 'and', 'potatoes', '?', 'i', \"'d\", 'say', 'about', '20.', 'how', 'come', 'you', 'want', 'to', 'go', 'down', 'to', '145', 'you', 'look', 'great', ',', 'and', 'will', 'look', 'a', 'loooot', 'better', 'at', '155', ',', 'you', \"'ll\", 'be', 'skinny', 'as', 'fuck', 'at', '145', '160/65', 'by', 'october', 'is', 'probably', 'doable', ',', 'but', 'i', 'honestly', 'do', \"n't\", 'know', 'enough', 'about', 'water', 'cuts', 'for', 'weigh-ins', 'and', 'whatever', '.', 'maybe', 'hire', 'a', 'coach', '?', 'you', 'only', 'need', '2-2.2g', 'of', 'protein', 'per', 'kg', 'of', 'bodyweight', ',', 'and', 'any', 'protein', 'you', 'consume', 'will', 'be', 'used', 'for', 'muscle', 'building', 'to', 'an', 'extent', ',', 'even', 'if', 'its', 'under', 'that', ',', 'just', 'not', 'optimal', '.', '220g', 'is', 'probably', 'way', 'too', 'high', ',', 'so', 'do', \"n't\", 'stress', 'because', '150g', 'for', 'your', 'bodyweight', 'is', 'fine', 'tbh', 'the', 'reason', '``', 'diets', 'fail', \"''\", 'is', 'because', 'when', 'people', 'are', 'done', 'dieting', ',', 'they', 'immediately', 'rebound', 'back', 'to', 'their', 'old', 'diets', ',', 'unhealthy', 'foods', ',', 'massive', 'portions', ',', 'high', 'calorie', 'stuff', '.', 'if', 'you', 'stick', 'to', 'healthy', 'foods', 'and', 'only', 'snack', 'on', 'junk', 'occasionally', ',', 'you', 'wo', \"n't\", 'rebound', '.', 'type', 'of', 'diet', 'does', \"n't\", 'matter', ',', 'what', 'matters', 'is', 'calories', 'in', 'vs', 'calories', 'out', ',', 'so', 'you', \"'ll\", 'want', 'to', 'eat', 'less', 'and', 'move', 'more', ',', 'to', 'put', 'it', 'simply', 'lol', 'although', '(', 'piggybacking', 'off', 'my', 'other', 'comment', ')', 'one', 'strategy', 'you', 'can', 'try', 'is', 'to', 'time', 'your', 'carbs', 'around', 'workouts', '.', 'so', 'basically', 'going', 'keto', 'for', 'your', 'non', 'pre', 'and', 'post', 'workout', 'meals', '.', 'if', 'you', 'had', 'more', 'time', 'you', 'could', 'try', 'a', 'diet', 'break', 'for', 'a', 'week', 'or', '2', 'at', 'maintenance', 'calories', 'just', 'to', '``', 'reset', \"''\", 'your', 'metabolism', '.', 'something', 'else', 'you', 'may', 'want', 'to', 'try', 'are', 'fat', 'burners', ',', 'research', 'is', 'limited', 'on', 'them', 'actually', 'working', ',', 'but', 'i', \"'m\", 'on', 'a', 'pretty', 'aggressive', 'minicut', 'right', 'now', ',', 'and', 'i', \"'ve\", 'been', 'taking', 'oxyshred', 'every', 'morning', '.', 'ca', \"n't\", 'say', 'it', \"'s\", 'boosted', 'weight', 'loss', ',', 'but', 'it', \"'s\", 'killed', 'my', 'appetite', ',', 'and', 'kept', 'me', 'energized', '.', 'i', \"'ve\", 'never', 'taken', 'caffeine', 'pills', ',', 'but', 'i', 'do', 'take', 'preworkout', '(', 'which', 'are', 'basically', 'glorified', 'coffees', 'with', 'a', 'bunch', 'of', 'other', 'shit', ')', ',', 'similarly', 'to', 'fat', 'burners', ',', 'limited', 'research', 'on', 'them', 'actually', 'being', 'effective', ',', 'but', 'they', 'definitely', 'help', 'me', '(', 'even', 'if', 'it', \"'s\", 'just', 'psychologically', ')', '.', 'oxyshred', 'is', 'the', 'only', 'thermogenic', 'thing', 'i', \"'ve\", 'tried', ',', 'and', 'i', \"'d\", 'recommend', 'it', 'if', 'you', 'can', 'afford', 'it', '.', 'but', ',', 'it', \"'s\", 'definitely', 'not', 'a', 'need', 'if', 'you', 'still', 'have', 'energy', ',', 'and', 'feel', 'satiated', 'during', 'the', 'diet', '.', 'i', \"'ve\", 'found', 'that', 'fish', 'oil', '(', 'omega-3', ')', 'has', 'helped', ',', 'but', 'on', 'top', 'of', 'that', ',', 'healthy', 'diet', ',', 'exercise', ',', 'self-care', ',', 'and', 'changing', 'bedsheets', '.', 'i', \"'m\", 'not', 'sure', 'about', 'that', ',', 'some', 'people', 'claim', 'you', 'only', 'need', '1g/lb', 'of', 'lean', 'bodyweight', ',', 'but', 'i', \"'d\", 'just', 'stick', 'to', 'the', 'figure', 'of', '1g/lb', ',', 'regardless', '.', 'i', \"'d\", 'be', 'curious', 'to', 'see', 'if', 'there', \"'s\", 'any', 'research', 'on', 'that', ',', 'though', 'to', 'build', 'on', 'this', ',', 'once', 'i', 'nailed', 'my', 'back', 'training', ',', 'it', 'really', 'fixed', 'my', 'posture', 'idk', 'man', ',', 'to', 'me', 'it', 'looks', 'like', 'your', 'chest', 'grew', 'more', 'than', 'your', 'tris', 'umm', 'yeah', ',', 'that', 'is', 'how', 'it', 'works', '.', 'i', 'eat', 'like', '170g', 'of', 'protein', 'per', 'day', '(', 'i', 'weight', '150', ')', 'this', ',', 'but', 'i', 'made', 'the', 'mistake', 'od', 'dirty', 'bulking', 'during', 'the', 'first', 'half', 'of', 'my', 'first', 'bulk', ',', 'and', 'really', 'put', 'on', 'way', 'too', 'much', 'fat', ',', 'its', 'way', 'harder', 'to', 'get', 'massively', 'fat', 'off', 'chicken', ',', 'broccoli', 'and', 'rice', 'lol', 'when', 'i', 'was', 'obese', 'it', 'was', 'because', 'i', \"'d\", 'have', '1', 'or', '2', 'family', 'bags', 'of', 'chips', 'night', 'in', 'my', 'room', 'when', 'no', 'one', 'could', 'see', 'me', ',', 'quiet', 'easy', 'yo', 'put', 'on', 'weight', 'when', 'you', \"'re\", 'casually', 'downing', '2000+', 'calls', 'a', 'night', 'for', 'a', 'snack', 'you', 'do', \"n't\", 'use', 'biceps', 'for', 'face', 'pulls', '.', 'if', 'you', \"'re\", 'doing', 'your', 'back', 'work', 'properly', '?', 'your', 'biceps', 'should', 'be', 'pretty', 'fresh', 'for', 'curls', 'and', 'other', 'isolations', '.', 'but', 'you', 'can', 'try', 'moving', 'them', 'closer', 'to', 'the', 'beginning', 'if', 'you', 'want', 'and', 'see', 'if', 'you', 'get', 'better', 'results', 'that', 'way', 'a', 'good', 'rate', 'of', 'gain', 'that', 'minimises', 'fat', 'is', '0.25-0.5', '%', '/week', 'so', 'for', 'you', 'that', 'would', 'be', '0.3-0.6lb/week', 'with', 'proper', 'form', 'biceps', 'are', 'used', 'very', 'minimally', ',', 'a', 'tertiary', 'muscle', 'group', 'of', 'the', 'exercise', ',', 'if', 'anything', '.', 'they', 'definitely', 'should', \"n't\", 'be', 'used', 'enough', 'to', 'comprise', 'isolations', 'yes', ',', 'but', 'also', 'off', 'of', 'junk', 'food', 'yeah', 'for', 'sure', ',', 'this', 'is', 'my', 'second', 'cut', ',', 'and', 'i', 'honestly', 'have', \"n't\", 'been', 'too', 'hungry', 'other', 'than', 'the', 'fact', 'that', 'i', \"'m\", 'suuuuuper', 'sluggish', 'during', 'workouts', '.', 'after', 'a', 'few', 'months', '.', 'i', 'didnt', 'realise', 'any', 'changes', 'until', 'i', 'looked', 'at', 'an', 'old', 'photo', 'of', 'myself', 'and', 'realised', '``', 'what', 'the', 'fuck', '?', 'when', 'did', 'that', 'happen', '?', \"''\", 'i', 'had', 'pecs', ',', 'my', 'shoulders', 'were', 'wider', ',', 'my', 'back', 'was', 'fucking', 'massive', '.', 'i', 'never', 'realised', 'them', 'grow', ',', 'but', 'my', 'god', 'was', 'i', 'shocked', 'and', 'pleased', 'when', 'i', 'finally', 'noticed', '.', 'that', \"'s\", 'a', 'lot', 'of', 'calories', '.', 'are', 'you', 'sure', 'you', \"'re\", 'not', 'gaining', '?', 'how', 'much', 'did', 'you', 'weigh', 'a', 'month', 'ago', 'vs', 'today', '?', 'fad', 'diets', 'are', \"n't\", 'special', ',', 'just', 'eat', 'what', 'you', 'want', ',', 'when', 'you', 'want', ',', 'that', 'agrees', 'with', 'you', ',', 'that', 'fits', 'into', 'your', 'macro', 'and', 'caloric', 'goals', '.', '40', 'mins', 'of', 'walking', 'there', 'and', 'back', 'is', 'only', 'like', '200', 'cals', 'burnt', 'at', 'most', '.', 'so', 'just', 'eat', 'more', '.', 'then', 'either', 'you', 'have', 'an', 'undiagnosed', 'medical', 'condition', ',', 'or', 'are', \"n't\", 'actually', 'eating', '4300', 'cals', 'a', 'day', '.', 'do', 'you', 'weigh', 'and', 'track', 'your', 'food', '?', 'edit', ':', 'also', ',', 'have', 'your', 'lifts', 'at', 'least', 'gone', 'up', '?', 'then', ',', 'ngl', 'homie', ',', 'you', \"'re\", 'probably', 'making', 'a', 'mistake', 'with', 'your', 'tracking', '.', 'see', 'how', 'the', 'calorie', 'bump', 'goes', ',', 'and', 'if', 'you', 'still', 'are', \"n't\", 'gaining', 'weight', 'and', '100', '%', 'sure', 'you', \"'re\", 'eating', 'in', 'a', 'massive', 'surplus', ',', 'maybe', 'go', 'see', 'a', 'doc', '.', 'edit', ':', 'forgot', 'to', 'mention', ',', 'also', 'do', \"n't\", 'take', 'one-off', 'measurements', ',', 'weight', 'fluctuates', '.', 'nevertheless', ',', 'as', 'you', 'get', 'bigger', ',', 'your', 'metabolism', 'will', 'speed', 'up', ',', 'and', 'you', \"'ll\", 'need', 'to', 'eat', 'more', '.', 'can', 'you', 'add', 'meals', 'and', 'recipes', 'in', 'macrofactor', ',', 'like', 'you', 'can', 'in', 'mfp', '?', 'thinking', 'of', 'swapping', 'over', 'as', 'mfp', 'removed', 'the', 'barcode', 'scanner', '(', 'although', ',', 'i', 'still', 'have', \"n't\", 'updated', 'the', 'app', 'and', 'can', 'still', 'use', 'it', 'ahaha', ')', 'do', 'you', 'eat', 'like', 'that', 'everyday', '?', 'or', 'was', 'it', 'one', 'off', '?', 'because', 'let', \"'s\", 'say', 'your', 'maintenance', 'is', '3200', 'cals', 'or', 'so', ',', 'if', 'you', 'eat', '4400', 'cals', 'one', 'day', ',', 'then', 'just', '3000', 'for', 'the', 'other', '6', 'days', 'of', 'the', 'week', ',', 'you', \"'ve\", 'basically', 'been', 'at', 'maintenance', 'for', 'the', 'whole', 'week', '.', 'j', 'make', 'sure', 'you', \"'re\", 'consistent', 'with', 'your', 'diet', '.', 'i', \"'ll\", 'give', 'you', 'the', 'benefit', 'of', 'the', 'doubt', ',', 'and', 'assume', 'you', 'are', 'tracking', 'accurately', ',', 'because', 'a', 'lot', 'of', 'dudes', 'who', 'claim', 'to', 'be', 'hardhainers', 'literally', 'just', 'do', \"n't\", 'eat', '.', 'but', ',', 'stick', 'to', '4300', 'or', 'whatever', 'for', 'a', 'few', 'weeks', ',', 'and', 'if', 'your', 'weekly', 'average', 'ai', \"n't\", 'going', 'up', ',', 'bump', 'up', 'the', 'cals', 'by', '10', '%', ',', 'then', 'keep', 'monitoring', ',', 'and', 'rinse', 'and', 'repeat', '.', 'then', 'just', 'fucking', 'eat', 'more', ',', 'be', 'patient', 'why', '?', 'nonfat', 'is', 'lower', 'in', 'calories', ',', 'and', 'higher', 'in', 'protein', ',', 'so', 'it', \"'s\", 'really', 'up', 'to', 'you', 'is', 'this', 'one-off', '?', 'are', 'do', 'you', 'eat', 'like', 'this', 'everyday', '?', 'no', 'way', 'you', 'do', \"n't\", 'gain', 'weight', 'off', 'eating', '4000', 'cals', 'every', 'single', 'day', 'unless', 'you', \"'re\", 'training', 'for', 'a', 'marathon', '.', 'well', 'that', 'could', 'be', 'why', 'you', \"'re\", 'not', 'gaining', '.', 'say', 'you', 'have', 'a', 'ridiculously', 'fast', 'metabolism', '(', 'high', 'neat', ',', 'or', 'whatever', ')', 'and', 'you', \"'re\", 'maintenance', 'is', '3500', ',', 'those', '2', 'days', 'sub', '3000', 'could', 'be', 'putting', 'you', 'in', 'a', 'defecit', 'for', 'the', 'week', ',', 'irrespective', 'of', 'your', 'high', 'days', '.', 'how', 'much', 'did', 'you', 'weigh', '3', 'weeks', 'ago', 'vs', 'today', '?', 'do', \"n't\", 'take', 'one-off', 'measurements', ',', 'for', 'one', ',', 'you', 'could', \"'ve\", 'been', 'dehydrated', 'this', 'morning', ',', 'and', 'bloated', '3', 'weeks', 'ago', '-', 'weigh', 'yourself', 'a', 'few', 'times', 'a', 'week', ',', 'average', 'it', 'out', ',', 'then', 'readjust', 'cals', 'accordingly', '.', 'if', 'you', \"'re\", 'benching', 'properly', ',', 'you', 'should', \"n't\", 'be', 'hitting', 'your', 'shoulders', 'that', 'hard', ',', 'only', 'the', 'front', 'delt', 'is', 'used', 'in', 'the', 'push', ',', 'and', 'rear', ',', 'minimally', ',', 'to', 'stabilise', '.', 'maybe', 'do', \"n't\", 'go', 'to', 'failure', ',', 'instead', 'stick', 'to', '8', 'reps', ',', 'and', 'as', 'the', 'other', 'guy', 'mentioned', 'add', 'some', 'weight', '.', 'seems', 'dumb', ',', 'especially', 'on', 'a', 'gaining', 'diet', '.', 'carbs', 'are', 'good', ',', 'better', 'pumps', ',', 'better', 'workouts', ',', 'fuller', 'muscles', 'from', 'glycogen', '.', 'likewise', 'i', \"'m\", 'glad', 'that', 'works', 'for', 'you', ',', 'and', 'at', 'least', 'you', 'are', \"n't\", 'one', 'of', 'those', 'keto', 'dudes', 'who', 'thinks', 'carbs', 'are', 'the', 'devil', 'lol', '.', 'i', 'used', 'to', 'be', 'a', 'bit', 'of', 'a', 'carbophobe', ',', 'but', 'once', 'i', 'bumped', 'my', 'carbs', 'up', 'to', '400ish/g', 'per', 'day', ',', 'my', 'workouts', 'were', 'insanely', 'good', ',', 'like', 'pr', 'after', 'pr', '.', 'unfortunately', 'that', 'was', 'way', 'too', 'many', 'cals/day', ',', 'and', 'i', \"'ve\", 'had', 'to', 'cut', 'back', 'for', 'the', 'mean', 'time', ',', 'oh', 'well', '.', 'are', 'you', 'skinny', 'now', '?', 'or', 'still', 'fat', '?', 'because', 'if', 'you', \"'re\", 'overweight', 'you', 'should', 'cut', 'down', 'or', 'recomp', 'until', 'you', \"'re\", 'at', 'a', 'lower', 'bf', '%', 'to', 'improve', 'your', 'p', 'ratios', ',', 'and', 'so', 'that', 'any', 'bulking', 'you', 'do', 'will', 'be', 'more', 'likely', 'to', 'build', 'more', 'muscle', 'than', 'fat', 'people', 'have', 'been', 'nicer', 'to', 'me', 'since', 'i', \"'ve\", 'stopped', 'being', 'obese', '.', 'then', 'people', 'started', 'being', 'attracted', 'to', 'me', 'once', 'i', 'put', 'on', 'some', 'muscle', '.', 'it', 'feels', 'nice', ',', 'but', 'kinda', 'reveals', 'that', 'people', 'suck', '.', 'i', 'like', 'to', 'wear', 'a', 'singlet', 'under', 'my', 'pump', 'cover', '(', 'a', 'baggy', 'sweater', 'or', 'hoodie', ')', 'it', 'feels', 'awesome', 'when', 'i', 'look', 'in', 'the', 'mirror', ',', 'rip', 'off', 'the', 'cover', 'and', 'have', 'an', 'insane', 'pump', '.', 'egotistical', ',', 'sure', ',', 'but', 'i', 'love', 'it', '.', 'iirc', 'there', \"'s\", 'no', 'agreed', 'on', 'limit', 'like', '1g/lb', 'of', 'protein', ',', 'as', 'the', 'data', 'suggests', 'a', 'lot', 'of', 'different', 'things', ',', 'and', 'there', \"'s\", 'a', 'lot', 'of', 'individual']\n"
     ]
    }
   ],
   "source": [
    "words = word_tokenize(post.lower())\n",
    "print(words)"
   ]
  },
  {
   "cell_type": "markdown",
   "metadata": {},
   "source": [
    "### Removing all characters except letters\n",
    "\n",
    "idea: maybe we should keep exclamantion/question marks and other characters, like ;) that could predict age potentially"
   ]
  },
  {
   "cell_type": "code",
   "execution_count": 31,
   "metadata": {},
   "outputs": [
    {
     "name": "stdout",
     "output_type": "stream",
     "text": [
      "['even', 'when', 'i', 'on', 'a', 'cut', 'i', 'realised', 'these', 'things', 'i', 'wayyyyy', 'more', 'active', 'than', 'them', 'more', 'calories', 'out', 'i', 'eat', 'healthier', 'low', 'calorie', 'dense', 'foods', 'less', 'calories', 'in', 'i', 'do', 'give', 'a', 'fuck', 'what', 'they', 'eat', 'because', 'i', 'getting', 'jacked', 'and', 'they', 'are', 'lmao', 'if', 'you', 'get', 'judged', 'who', 'cares', 'have', 'you', 'tried', 'steak', 'and', 'potatoes', 'i', 'say', 'about', 'how', 'come', 'you', 'want', 'to', 'go', 'down', 'to', 'you', 'look', 'great', 'and', 'will', 'look', 'a', 'loooot', 'better', 'at', 'you', 'be', 'skinny', 'as', 'fuck', 'at', 'by', 'october', 'is', 'probably', 'doable', 'but', 'i', 'honestly', 'do', 'know', 'enough', 'about', 'water', 'cuts', 'for', 'and', 'whatever', 'maybe', 'hire', 'a', 'coach', 'you', 'only', 'need', 'of', 'protein', 'per', 'kg', 'of', 'bodyweight', 'and', 'any', 'protein', 'you', 'consume', 'will', 'be', 'used', 'for', 'muscle', 'building', 'to', 'an', 'extent', 'even', 'if', 'its', 'under', 'that', 'just', 'not', 'optimal', 'is', 'probably', 'way', 'too', 'high', 'so', 'do', 'stress', 'because', 'for', 'your', 'bodyweight', 'is', 'fine', 'tbh', 'the', 'reason', 'diets', 'fail', 'is', 'because', 'when', 'people', 'are', 'done', 'dieting', 'they', 'immediately', 'rebound', 'back', 'to', 'their', 'old', 'diets', 'unhealthy', 'foods', 'massive', 'portions', 'high', 'calorie', 'stuff', 'if', 'you', 'stick', 'to', 'healthy', 'foods', 'and', 'only', 'snack', 'on', 'junk', 'occasionally', 'you', 'wo', 'rebound', 'type', 'of', 'diet', 'does', 'matter', 'what', 'matters', 'is', 'calories', 'in', 'vs', 'calories', 'out', 'so', 'you', 'want', 'to', 'eat', 'less', 'and', 'move', 'more', 'to', 'put', 'it', 'simply', 'lol', 'although', 'piggybacking', 'off', 'my', 'other', 'comment', 'one', 'strategy', 'you', 'can', 'try', 'is', 'to', 'time', 'your', 'carbs', 'around', 'workouts', 'so', 'basically', 'going', 'keto', 'for', 'your', 'non', 'pre', 'and', 'post', 'workout', 'meals', 'if', 'you', 'had', 'more', 'time', 'you', 'could', 'try', 'a', 'diet', 'break', 'for', 'a', 'week', 'or', 'at', 'maintenance', 'calories', 'just', 'to', 'reset', 'your', 'metabolism', 'something', 'else', 'you', 'may', 'want', 'to', 'try', 'are', 'fat', 'burners', 'research', 'is', 'limited', 'on', 'them', 'actually', 'working', 'but', 'i', 'on', 'a', 'pretty', 'aggressive', 'minicut', 'right', 'now', 'and', 'i', 'been', 'taking', 'oxyshred', 'every', 'morning', 'ca', 'say', 'it', 'boosted', 'weight', 'loss', 'but', 'it', 'killed', 'my', 'appetite', 'and', 'kept', 'me', 'energized', 'i', 'never', 'taken', 'caffeine', 'pills', 'but', 'i', 'do', 'take', 'preworkout', 'which', 'are', 'basically', 'glorified', 'coffees', 'with', 'a', 'bunch', 'of', 'other', 'shit', 'similarly', 'to', 'fat', 'burners', 'limited', 'research', 'on', 'them', 'actually', 'being', 'effective', 'but', 'they', 'definitely', 'help', 'me', 'even', 'if', 'it', 'just', 'psychologically', 'oxyshred', 'is', 'the', 'only', 'thermogenic', 'thing', 'i', 'tried', 'and', 'i', 'recommend', 'it', 'if', 'you', 'can', 'afford', 'it', 'but', 'it', 'definitely', 'not', 'a', 'need', 'if', 'you', 'still', 'have', 'energy', 'and', 'feel', 'satiated', 'during', 'the', 'diet', 'i', 'found', 'that', 'fish', 'oil', 'has', 'helped', 'but', 'on', 'top', 'of', 'that', 'healthy', 'diet', 'exercise', 'and', 'changing', 'bedsheets', 'i', 'not', 'sure', 'about', 'that', 'some', 'people', 'claim', 'you', 'only', 'need', 'of', 'lean', 'bodyweight', 'but', 'i', 'just', 'stick', 'to', 'the', 'figure', 'of', 'regardless', 'i', 'be', 'curious', 'to', 'see', 'if', 'there', 'any', 'research', 'on', 'that', 'though', 'to', 'build', 'on', 'this', 'once', 'i', 'nailed', 'my', 'back', 'training', 'it', 'really', 'fixed', 'my', 'posture', 'idk', 'man', 'to', 'me', 'it', 'looks', 'like', 'your', 'chest', 'grew', 'more', 'than', 'your', 'tris', 'umm', 'yeah', 'that', 'is', 'how', 'it', 'works', 'i', 'eat', 'like', 'of', 'protein', 'per', 'day', 'i', 'weight', 'this', 'but', 'i', 'made', 'the', 'mistake', 'od', 'dirty', 'bulking', 'during', 'the', 'first', 'half', 'of', 'my', 'first', 'bulk', 'and', 'really', 'put', 'on', 'way', 'too', 'much', 'fat', 'its', 'way', 'harder', 'to', 'get', 'massively', 'fat', 'off', 'chicken', 'broccoli', 'and', 'rice', 'lol', 'when', 'i', 'was', 'obese', 'it', 'was', 'because', 'i', 'have', 'or', 'family', 'bags', 'of', 'chips', 'night', 'in', 'my', 'room', 'when', 'no', 'one', 'could', 'see', 'me', 'quiet', 'easy', 'yo', 'put', 'on', 'weight', 'when', 'you', 'casually', 'downing', 'calls', 'a', 'night', 'for', 'a', 'snack', 'you', 'do', 'use', 'biceps', 'for', 'face', 'pulls', 'if', 'you', 'doing', 'your', 'back', 'work', 'properly', 'your', 'biceps', 'should', 'be', 'pretty', 'fresh', 'for', 'curls', 'and', 'other', 'isolations', 'but', 'you', 'can', 'try', 'moving', 'them', 'closer', 'to', 'the', 'beginning', 'if', 'you', 'want', 'and', 'see', 'if', 'you', 'get', 'better', 'results', 'that', 'way', 'a', 'good', 'rate', 'of', 'gain', 'that', 'minimises', 'fat', 'is', 'so', 'for', 'you', 'that', 'would', 'be', 'with', 'proper', 'form', 'biceps', 'are', 'used', 'very', 'minimally', 'a', 'tertiary', 'muscle', 'group', 'of', 'the', 'exercise', 'if', 'anything', 'they', 'definitely', 'should', 'be', 'used', 'enough', 'to', 'comprise', 'isolations', 'yes', 'but', 'also', 'off', 'of', 'junk', 'food', 'yeah', 'for', 'sure', 'this', 'is', 'my', 'second', 'cut', 'and', 'i', 'honestly', 'have', 'been', 'too', 'hungry', 'other', 'than', 'the', 'fact', 'that', 'i', 'suuuuuper', 'sluggish', 'during', 'workouts', 'after', 'a', 'few', 'months', 'i', 'didnt', 'realise', 'any', 'changes', 'until', 'i', 'looked', 'at', 'an', 'old', 'photo', 'of', 'myself', 'and', 'realised', 'what', 'the', 'fuck', 'when', 'did', 'that', 'happen', 'i', 'had', 'pecs', 'my', 'shoulders', 'were', 'wider', 'my', 'back', 'was', 'fucking', 'massive', 'i', 'never', 'realised', 'them', 'grow', 'but', 'my', 'god', 'was', 'i', 'shocked', 'and', 'pleased', 'when', 'i', 'finally', 'noticed', 'that', 'a', 'lot', 'of', 'calories', 'are', 'you', 'sure', 'you', 'not', 'gaining', 'how', 'much', 'did', 'you', 'weigh', 'a', 'month', 'ago', 'vs', 'today', 'fad', 'diets', 'are', 'special', 'just', 'eat', 'what', 'you', 'want', 'when', 'you', 'want', 'that', 'agrees', 'with', 'you', 'that', 'fits', 'into', 'your', 'macro', 'and', 'caloric', 'goals', 'mins', 'of', 'walking', 'there', 'and', 'back', 'is', 'only', 'like', 'cals', 'burnt', 'at', 'most', 'so', 'just', 'eat', 'more', 'then', 'either', 'you', 'have', 'an', 'undiagnosed', 'medical', 'condition', 'or', 'are', 'actually', 'eating', 'cals', 'a', 'day', 'do', 'you', 'weigh', 'and', 'track', 'your', 'food', 'edit', 'also', 'have', 'your', 'lifts', 'at', 'least', 'gone', 'up', 'then', 'ngl', 'homie', 'you', 'probably', 'making', 'a', 'mistake', 'with', 'your', 'tracking', 'see', 'how', 'the', 'calorie', 'bump', 'goes', 'and', 'if', 'you', 'still', 'are', 'gaining', 'weight', 'and', 'sure', 'you', 'eating', 'in', 'a', 'massive', 'surplus', 'maybe', 'go', 'see', 'a', 'doc', 'edit', 'forgot', 'to', 'mention', 'also', 'do', 'take', 'measurements', 'weight', 'fluctuates', 'nevertheless', 'as', 'you', 'get', 'bigger', 'your', 'metabolism', 'will', 'speed', 'up', 'and', 'you', 'need', 'to', 'eat', 'more', 'can', 'you', 'add', 'meals', 'and', 'recipes', 'in', 'macrofactor', 'like', 'you', 'can', 'in', 'mfp', 'thinking', 'of', 'swapping', 'over', 'as', 'mfp', 'removed', 'the', 'barcode', 'scanner', 'although', 'i', 'still', 'have', 'updated', 'the', 'app', 'and', 'can', 'still', 'use', 'it', 'ahaha', 'do', 'you', 'eat', 'like', 'that', 'everyday', 'or', 'was', 'it', 'one', 'off', 'because', 'let', 'say', 'your', 'maintenance', 'is', 'cals', 'or', 'so', 'if', 'you', 'eat', 'cals', 'one', 'day', 'then', 'just', 'for', 'the', 'other', 'days', 'of', 'the', 'week', 'you', 'basically', 'been', 'at', 'maintenance', 'for', 'the', 'whole', 'week', 'j', 'make', 'sure', 'you', 'consistent', 'with', 'your', 'diet', 'i', 'give', 'you', 'the', 'benefit', 'of', 'the', 'doubt', 'and', 'assume', 'you', 'are', 'tracking', 'accurately', 'because', 'a', 'lot', 'of', 'dudes', 'who', 'claim', 'to', 'be', 'hardhainers', 'literally', 'just', 'do', 'eat', 'but', 'stick', 'to', 'or', 'whatever', 'for', 'a', 'few', 'weeks', 'and', 'if', 'your', 'weekly', 'average', 'ai', 'going', 'up', 'bump', 'up', 'the', 'cals', 'by', 'then', 'keep', 'monitoring', 'and', 'rinse', 'and', 'repeat', 'then', 'just', 'fucking', 'eat', 'more', 'be', 'patient', 'why', 'nonfat', 'is', 'lower', 'in', 'calories', 'and', 'higher', 'in', 'protein', 'so', 'it', 'really', 'up', 'to', 'you', 'is', 'this', 'are', 'do', 'you', 'eat', 'like', 'this', 'everyday', 'no', 'way', 'you', 'do', 'gain', 'weight', 'off', 'eating', 'cals', 'every', 'single', 'day', 'unless', 'you', 'training', 'for', 'a', 'marathon', 'well', 'that', 'could', 'be', 'why', 'you', 'not', 'gaining', 'say', 'you', 'have', 'a', 'ridiculously', 'fast', 'metabolism', 'high', 'neat', 'or', 'whatever', 'and', 'you', 'maintenance', 'is', 'those', 'days', 'sub', 'could', 'be', 'putting', 'you', 'in', 'a', 'defecit', 'for', 'the', 'week', 'irrespective', 'of', 'your', 'high', 'days', 'how', 'much', 'did', 'you', 'weigh', 'weeks', 'ago', 'vs', 'today', 'do', 'take', 'measurements', 'for', 'one', 'you', 'could', 'been', 'dehydrated', 'this', 'morning', 'and', 'bloated', 'weeks', 'ago', 'weigh', 'yourself', 'a', 'few', 'times', 'a', 'week', 'average', 'it', 'out', 'then', 'readjust', 'cals', 'accordingly', 'if', 'you', 'benching', 'properly', 'you', 'should', 'be', 'hitting', 'your', 'shoulders', 'that', 'hard', 'only', 'the', 'front', 'delt', 'is', 'used', 'in', 'the', 'push', 'and', 'rear', 'minimally', 'to', 'stabilise', 'maybe', 'do', 'go', 'to', 'failure', 'instead', 'stick', 'to', 'reps', 'and', 'as', 'the', 'other', 'guy', 'mentioned', 'add', 'some', 'weight', 'seems', 'dumb', 'especially', 'on', 'a', 'gaining', 'diet', 'carbs', 'are', 'good', 'better', 'pumps', 'better', 'workouts', 'fuller', 'muscles', 'from', 'glycogen', 'likewise', 'i', 'glad', 'that', 'works', 'for', 'you', 'and', 'at', 'least', 'you', 'are', 'one', 'of', 'those', 'keto', 'dudes', 'who', 'thinks', 'carbs', 'are', 'the', 'devil', 'lol', 'i', 'used', 'to', 'be', 'a', 'bit', 'of', 'a', 'carbophobe', 'but', 'once', 'i', 'bumped', 'my', 'carbs', 'up', 'to', 'per', 'day', 'my', 'workouts', 'were', 'insanely', 'good', 'like', 'pr', 'after', 'pr', 'unfortunately', 'that', 'was', 'way', 'too', 'many', 'and', 'i', 'had', 'to', 'cut', 'back', 'for', 'the', 'mean', 'time', 'oh', 'well', 'are', 'you', 'skinny', 'now', 'or', 'still', 'fat', 'because', 'if', 'you', 'overweight', 'you', 'should', 'cut', 'down', 'or', 'recomp', 'until', 'you', 'at', 'a', 'lower', 'bf', 'to', 'improve', 'your', 'p', 'ratios', 'and', 'so', 'that', 'any', 'bulking', 'you', 'do', 'will', 'be', 'more', 'likely', 'to', 'build', 'more', 'muscle', 'than', 'fat', 'people', 'have', 'been', 'nicer', 'to', 'me', 'since', 'i', 'stopped', 'being', 'obese', 'then', 'people', 'started', 'being', 'attracted', 'to', 'me', 'once', 'i', 'put', 'on', 'some', 'muscle', 'it', 'feels', 'nice', 'but', 'kinda', 'reveals', 'that', 'people', 'suck', 'i', 'like', 'to', 'wear', 'a', 'singlet', 'under', 'my', 'pump', 'cover', 'a', 'baggy', 'sweater', 'or', 'hoodie', 'it', 'feels', 'awesome', 'when', 'i', 'look', 'in', 'the', 'mirror', 'rip', 'off', 'the', 'cover', 'and', 'have', 'an', 'insane', 'pump', 'egotistical', 'sure', 'but', 'i', 'love', 'it', 'iirc', 'there', 'no', 'agreed', 'on', 'limit', 'like', 'of', 'protein', 'as', 'the', 'data', 'suggests', 'a', 'lot', 'of', 'different', 'things', 'and', 'there', 'a', 'lot', 'of', 'individual']\n"
     ]
    }
   ],
   "source": [
    "words = [word for word in words if word.isalpha()]\n",
    "print(words)"
   ]
  },
  {
   "cell_type": "markdown",
   "metadata": {},
   "source": [
    "### Removing stopwords\n",
    "Stopwords are frequently occurring words in a language that are frequently omitted from natural language processing (NLP) tasks due to their low significance for deciphering textual meaning. The particular list of stopwords can change based on the language being studied and the context. The following is a broad list of stopword categories:\n",
    "\n",
    "*Common Stopwords*: These are the most frequently occurring words in a language and are often removed during text preprocessing. Examples include “the,” “is,” “in,” “for,” “where,” “when,” “to,” “at,” etc.\n",
    "\n",
    "*Custom Stopwords*: Depending on the specific task or domain, additional words may be considered as stopwords. These could be domain-specific terms that don’t contribute much to the overall meaning. For example, in a medical context, words like “patient” or “treatment” might be considered as custom stopwords.\n",
    "\n",
    "*Numerical Stopwords*: Numbers and numeric characters may be treated as stopwords in certain cases, especially when the analysis is focused on the meaning of the text rather than specific numerical values\n",
    "\n",
    "*Single-Character Stopwords*: Single characters, such as “a,” “I,” “s,” or “x,” may be considered stopwords, particularly in cases where they don’t convey much meaning on their own.\n",
    "\n",
    "*Contextual Stopwords*: Words that are stopwords in one context but meaningful in another may be considered as contextual stopwords. For instance, the word “will” might be a stopword in the context of general language processing but could be important in predicting future events."
   ]
  },
  {
   "cell_type": "code",
   "execution_count": 32,
   "metadata": {},
   "outputs": [
    {
     "name": "stdout",
     "output_type": "stream",
     "text": [
      "['even', 'cut', 'realised', 'things', 'wayyyyy', 'active', 'calories', 'eat', 'healthier', 'low', 'calorie', 'dense', 'foods', 'less', 'calories', 'give', 'fuck', 'eat', 'getting', 'jacked', 'lmao', 'get', 'judged', 'cares', 'tried', 'steak', 'potatoes', 'say', 'come', 'want', 'go', 'look', 'great', 'look', 'loooot', 'better', 'skinny', 'fuck', 'october', 'probably', 'doable', 'honestly', 'know', 'enough', 'water', 'cuts', 'whatever', 'maybe', 'hire', 'coach', 'need', 'protein', 'per', 'kg', 'bodyweight', 'protein', 'consume', 'used', 'muscle', 'building', 'extent', 'even', 'optimal', 'probably', 'way', 'high', 'stress', 'bodyweight', 'fine', 'tbh', 'reason', 'diets', 'fail', 'people', 'done', 'dieting', 'immediately', 'rebound', 'back', 'old', 'diets', 'unhealthy', 'foods', 'massive', 'portions', 'high', 'calorie', 'stuff', 'stick', 'healthy', 'foods', 'snack', 'junk', 'occasionally', 'wo', 'rebound', 'type', 'diet', 'matter', 'matters', 'calories', 'vs', 'calories', 'want', 'eat', 'less', 'move', 'put', 'simply', 'lol', 'although', 'piggybacking', 'comment', 'one', 'strategy', 'try', 'time', 'carbs', 'around', 'workouts', 'basically', 'going', 'keto', 'non', 'pre', 'post', 'workout', 'meals', 'time', 'could', 'try', 'diet', 'break', 'week', 'maintenance', 'calories', 'reset', 'metabolism', 'something', 'else', 'may', 'want', 'try', 'fat', 'burners', 'research', 'limited', 'actually', 'working', 'pretty', 'aggressive', 'minicut', 'right', 'taking', 'oxyshred', 'every', 'morning', 'ca', 'say', 'boosted', 'weight', 'loss', 'killed', 'appetite', 'kept', 'energized', 'never', 'taken', 'caffeine', 'pills', 'take', 'preworkout', 'basically', 'glorified', 'coffees', 'bunch', 'shit', 'similarly', 'fat', 'burners', 'limited', 'research', 'actually', 'effective', 'definitely', 'help', 'even', 'psychologically', 'oxyshred', 'thermogenic', 'thing', 'tried', 'recommend', 'afford', 'definitely', 'need', 'still', 'energy', 'feel', 'satiated', 'diet', 'found', 'fish', 'oil', 'helped', 'top', 'healthy', 'diet', 'exercise', 'changing', 'bedsheets', 'sure', 'people', 'claim', 'need', 'lean', 'bodyweight', 'stick', 'figure', 'regardless', 'curious', 'see', 'research', 'though', 'build', 'nailed', 'back', 'training', 'really', 'fixed', 'posture', 'idk', 'man', 'looks', 'like', 'chest', 'grew', 'tris', 'umm', 'yeah', 'works', 'eat', 'like', 'protein', 'per', 'day', 'weight', 'made', 'mistake', 'od', 'dirty', 'bulking', 'first', 'half', 'first', 'bulk', 'really', 'put', 'way', 'much', 'fat', 'way', 'harder', 'get', 'massively', 'fat', 'chicken', 'broccoli', 'rice', 'lol', 'obese', 'family', 'bags', 'chips', 'night', 'room', 'one', 'could', 'see', 'quiet', 'easy', 'yo', 'put', 'weight', 'casually', 'downing', 'calls', 'night', 'snack', 'use', 'biceps', 'face', 'pulls', 'back', 'work', 'properly', 'biceps', 'pretty', 'fresh', 'curls', 'isolations', 'try', 'moving', 'closer', 'beginning', 'want', 'see', 'get', 'better', 'results', 'way', 'good', 'rate', 'gain', 'minimises', 'fat', 'would', 'proper', 'form', 'biceps', 'used', 'minimally', 'tertiary', 'muscle', 'group', 'exercise', 'anything', 'definitely', 'used', 'enough', 'comprise', 'isolations', 'yes', 'also', 'junk', 'food', 'yeah', 'sure', 'second', 'cut', 'honestly', 'hungry', 'fact', 'suuuuuper', 'sluggish', 'workouts', 'months', 'didnt', 'realise', 'changes', 'looked', 'old', 'photo', 'realised', 'fuck', 'happen', 'pecs', 'shoulders', 'wider', 'back', 'fucking', 'massive', 'never', 'realised', 'grow', 'god', 'shocked', 'pleased', 'finally', 'noticed', 'lot', 'calories', 'sure', 'gaining', 'much', 'weigh', 'month', 'ago', 'vs', 'today', 'fad', 'diets', 'special', 'eat', 'want', 'want', 'agrees', 'fits', 'macro', 'caloric', 'goals', 'mins', 'walking', 'back', 'like', 'cals', 'burnt', 'eat', 'either', 'undiagnosed', 'medical', 'condition', 'actually', 'eating', 'cals', 'day', 'weigh', 'track', 'food', 'edit', 'also', 'lifts', 'least', 'gone', 'ngl', 'homie', 'probably', 'making', 'mistake', 'tracking', 'see', 'calorie', 'bump', 'goes', 'still', 'gaining', 'weight', 'sure', 'eating', 'massive', 'surplus', 'maybe', 'go', 'see', 'doc', 'edit', 'forgot', 'mention', 'also', 'take', 'measurements', 'weight', 'fluctuates', 'nevertheless', 'get', 'bigger', 'metabolism', 'speed', 'need', 'eat', 'add', 'meals', 'recipes', 'macrofactor', 'like', 'mfp', 'thinking', 'swapping', 'mfp', 'removed', 'barcode', 'scanner', 'although', 'still', 'updated', 'app', 'still', 'use', 'ahaha', 'eat', 'like', 'everyday', 'one', 'let', 'say', 'maintenance', 'cals', 'eat', 'cals', 'one', 'day', 'days', 'week', 'basically', 'maintenance', 'whole', 'week', 'j', 'make', 'sure', 'consistent', 'diet', 'give', 'benefit', 'doubt', 'assume', 'tracking', 'accurately', 'lot', 'dudes', 'claim', 'hardhainers', 'literally', 'eat', 'stick', 'whatever', 'weeks', 'weekly', 'average', 'ai', 'going', 'bump', 'cals', 'keep', 'monitoring', 'rinse', 'repeat', 'fucking', 'eat', 'patient', 'nonfat', 'lower', 'calories', 'higher', 'protein', 'really', 'eat', 'like', 'everyday', 'way', 'gain', 'weight', 'eating', 'cals', 'every', 'single', 'day', 'unless', 'training', 'marathon', 'well', 'could', 'gaining', 'say', 'ridiculously', 'fast', 'metabolism', 'high', 'neat', 'whatever', 'maintenance', 'days', 'sub', 'could', 'putting', 'defecit', 'week', 'irrespective', 'high', 'days', 'much', 'weigh', 'weeks', 'ago', 'vs', 'today', 'take', 'measurements', 'one', 'could', 'dehydrated', 'morning', 'bloated', 'weeks', 'ago', 'weigh', 'times', 'week', 'average', 'readjust', 'cals', 'accordingly', 'benching', 'properly', 'hitting', 'shoulders', 'hard', 'front', 'delt', 'used', 'push', 'rear', 'minimally', 'stabilise', 'maybe', 'go', 'failure', 'instead', 'stick', 'reps', 'guy', 'mentioned', 'add', 'weight', 'seems', 'dumb', 'especially', 'gaining', 'diet', 'carbs', 'good', 'better', 'pumps', 'better', 'workouts', 'fuller', 'muscles', 'glycogen', 'likewise', 'glad', 'works', 'least', 'one', 'keto', 'dudes', 'thinks', 'carbs', 'devil', 'lol', 'used', 'bit', 'carbophobe', 'bumped', 'carbs', 'per', 'day', 'workouts', 'insanely', 'good', 'like', 'pr', 'pr', 'unfortunately', 'way', 'many', 'cut', 'back', 'mean', 'time', 'oh', 'well', 'skinny', 'still', 'fat', 'overweight', 'cut', 'recomp', 'lower', 'bf', 'improve', 'p', 'ratios', 'bulking', 'likely', 'build', 'muscle', 'fat', 'people', 'nicer', 'since', 'stopped', 'obese', 'people', 'started', 'attracted', 'put', 'muscle', 'feels', 'nice', 'kinda', 'reveals', 'people', 'suck', 'like', 'wear', 'singlet', 'pump', 'cover', 'baggy', 'sweater', 'hoodie', 'feels', 'awesome', 'look', 'mirror', 'rip', 'cover', 'insane', 'pump', 'egotistical', 'sure', 'love', 'iirc', 'agreed', 'limit', 'like', 'protein', 'data', 'suggests', 'lot', 'different', 'things', 'lot', 'individual']\n"
     ]
    }
   ],
   "source": [
    "words = [word for word in words if word not in stopwords.words('english')]  #removes english stopwords\n",
    "print(words)"
   ]
  },
  {
   "cell_type": "code",
   "execution_count": 33,
   "metadata": {},
   "outputs": [
    {
     "name": "stdout",
     "output_type": "stream",
     "text": [
      "[('eat', 12), ('like', 9), ('calories', 7), ('fat', 7), ('weight', 7), ('cals', 7), ('want', 6), ('way', 6), ('back', 6), ('diet', 6)]\n"
     ]
    }
   ],
   "source": [
    "word_freq = Counter(words)\n",
    "print(word_freq.most_common(10))"
   ]
  }
 ],
 "metadata": {
  "kernelspec": {
   "display_name": ".venv",
   "language": "python",
   "name": "python3"
  },
  "language_info": {
   "codemirror_mode": {
    "name": "ipython",
    "version": 3
   },
   "file_extension": ".py",
   "mimetype": "text/x-python",
   "name": "python",
   "nbconvert_exporter": "python",
   "pygments_lexer": "ipython3",
   "version": "3.12.8"
  }
 },
 "nbformat": 4,
 "nbformat_minor": 2
}
