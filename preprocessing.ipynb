{
 "cells": [
  {
   "cell_type": "code",
   "execution_count": 1,
   "metadata": {},
   "outputs": [],
   "source": [
    "import numpy as np\n",
    "import pandas as pd\n",
    "import os\n",
    "import nltk\n",
    "import matplotlib.pyplot as plt\n",
    "import seaborn as sns\n",
    "import random\n",
    "from tqdm import tqdm\n",
    "from datetime import datetime"
   ]
  },
  {
   "cell_type": "code",
   "execution_count": 2,
   "metadata": {},
   "outputs": [
    {
     "data": {
      "text/plain": [
       "\"\\nfiles = os.listdir('data')\\ndct = dict()\\nfor file in files:\\n    path = os.path.join('data', file)\\n    df = pd.read_csv(path)\\n    dct[file] = df.shape\\n    print(df.head())\\n\\nprint(dct)\\n\""
      ]
     },
     "execution_count": 2,
     "metadata": {},
     "output_type": "execute_result"
    }
   ],
   "source": [
    "\"\"\"\n",
    "files = os.listdir('data')\n",
    "dct = dict()\n",
    "for file in files:\n",
    "    path = os.path.join('data', file)\n",
    "    df = pd.read_csv(path)\n",
    "    dct[file] = df.shape\n",
    "    print(df.head())\n",
    "\n",
    "print(dct)\n",
    "\"\"\""
   ]
  },
  {
   "cell_type": "code",
   "execution_count": 3,
   "metadata": {},
   "outputs": [
    {
     "data": {
      "text/html": [
       "<div>\n",
       "<style scoped>\n",
       "    .dataframe tbody tr th:only-of-type {\n",
       "        vertical-align: middle;\n",
       "    }\n",
       "\n",
       "    .dataframe tbody tr th {\n",
       "        vertical-align: top;\n",
       "    }\n",
       "\n",
       "    .dataframe thead th {\n",
       "        text-align: right;\n",
       "    }\n",
       "</style>\n",
       "<table border=\"1\" class=\"dataframe\">\n",
       "  <thead>\n",
       "    <tr style=\"text-align: right;\">\n",
       "      <th></th>\n",
       "      <th>auhtor_ID</th>\n",
       "      <th>post</th>\n",
       "      <th>birth_year</th>\n",
       "    </tr>\n",
       "  </thead>\n",
       "  <tbody>\n",
       "    <tr>\n",
       "      <th>28446</th>\n",
       "      <td>t2_9v6260me</td>\n",
       "      <td>a trope among this sub and almost everyone joi...</td>\n",
       "      <td>1948</td>\n",
       "    </tr>\n",
       "    <tr>\n",
       "      <th>28445</th>\n",
       "      <td>t2_9v6260me</td>\n",
       "      <td>door question” decorated with an extreme helpi...</td>\n",
       "      <td>1948</td>\n",
       "    </tr>\n",
       "    <tr>\n",
       "      <th>28444</th>\n",
       "      <td>t2_9v6260me</td>\n",
       "      <td>Unless you live at home, why would you put up ...</td>\n",
       "      <td>1948</td>\n",
       "    </tr>\n",
       "    <tr>\n",
       "      <th>28456</th>\n",
       "      <td>t2_9v6260me</td>\n",
       "      <td>my mind) any possibility of another religion b...</td>\n",
       "      <td>1948</td>\n",
       "    </tr>\n",
       "    <tr>\n",
       "      <th>28457</th>\n",
       "      <td>t2_9v6260me</td>\n",
       "      <td>and our mental health is linked to our physica...</td>\n",
       "      <td>1948</td>\n",
       "    </tr>\n",
       "  </tbody>\n",
       "</table>\n",
       "</div>"
      ],
      "text/plain": [
       "         auhtor_ID                                               post  \\\n",
       "28446  t2_9v6260me  a trope among this sub and almost everyone joi...   \n",
       "28445  t2_9v6260me  door question” decorated with an extreme helpi...   \n",
       "28444  t2_9v6260me  Unless you live at home, why would you put up ...   \n",
       "28456  t2_9v6260me  my mind) any possibility of another religion b...   \n",
       "28457  t2_9v6260me  and our mental health is linked to our physica...   \n",
       "\n",
       "       birth_year  \n",
       "28446        1948  \n",
       "28445        1948  \n",
       "28444        1948  \n",
       "28456        1948  \n",
       "28457        1948  "
      ]
     },
     "execution_count": 3,
     "metadata": {},
     "output_type": "execute_result"
    }
   ],
   "source": [
    "path = 'data/birth_year.csv'\n",
    "df_birthyear = pd.read_csv(path)\n",
    "df_birthyear.sort_values(by=\"birth_year\", ascending=True, inplace=True)\n",
    "df_birthyear.head()"
   ]
  },
  {
   "cell_type": "code",
   "execution_count": 4,
   "metadata": {},
   "outputs": [
    {
     "data": {
      "image/png": "[encoded data removed]",
      "text/plain": [
       "<Figure size 1000x600 with 1 Axes>"
      ]
     },
     "metadata": {},
     "output_type": "display_data"
    }
   ],
   "source": [
    "# plot a piechart with birth years\n",
    "df_count = df_birthyear.value_counts('birth_year').sort_index()\n",
    "fig = plt.figure(figsize=(10, 6))\n",
    "ax = df_count.plot.bar()\n",
    "plt.title('Birth Year Distribution');"
   ]
  },
  {
   "cell_type": "code",
   "execution_count": 5,
   "metadata": {},
   "outputs": [
    {
     "data": {
      "text/html": [
       "<div>\n",
       "<style scoped>\n",
       "    .dataframe tbody tr th:only-of-type {\n",
       "        vertical-align: middle;\n",
       "    }\n",
       "\n",
       "    .dataframe tbody tr th {\n",
       "        vertical-align: top;\n",
       "    }\n",
       "\n",
       "    .dataframe thead th {\n",
       "        text-align: right;\n",
       "    }\n",
       "</style>\n",
       "<table border=\"1\" class=\"dataframe\">\n",
       "  <thead>\n",
       "    <tr style=\"text-align: right;\">\n",
       "      <th></th>\n",
       "      <th>auhtor_ID</th>\n",
       "      <th>post</th>\n",
       "      <th>birth_year</th>\n",
       "      <th>age</th>\n",
       "      <th>age_range</th>\n",
       "    </tr>\n",
       "  </thead>\n",
       "  <tbody>\n",
       "    <tr>\n",
       "      <th>11388</th>\n",
       "      <td>t2_aikaukqc</td>\n",
       "      <td>experience than you might imagine. Have you co...</td>\n",
       "      <td>1966</td>\n",
       "      <td>59</td>\n",
       "      <td>5</td>\n",
       "    </tr>\n",
       "    <tr>\n",
       "      <th>11397</th>\n",
       "      <td>t2_aikaukqc</td>\n",
       "      <td>of total betrayal created him. His half siblin...</td>\n",
       "      <td>1966</td>\n",
       "      <td>59</td>\n",
       "      <td>5</td>\n",
       "    </tr>\n",
       "    <tr>\n",
       "      <th>11398</th>\n",
       "      <td>t2_aikaukqc</td>\n",
       "      <td>likely be started on a med called Metformin or...</td>\n",
       "      <td>1966</td>\n",
       "      <td>59</td>\n",
       "      <td>5</td>\n",
       "    </tr>\n",
       "    <tr>\n",
       "      <th>11399</th>\n",
       "      <td>t2_aikaukqc</td>\n",
       "      <td>it in writing and witnessed. Dogs are amazing....</td>\n",
       "      <td>1966</td>\n",
       "      <td>59</td>\n",
       "      <td>5</td>\n",
       "    </tr>\n",
       "    <tr>\n",
       "      <th>11413</th>\n",
       "      <td>t2_aikaukqc</td>\n",
       "      <td>and I will give you some other companies to lo...</td>\n",
       "      <td>1966</td>\n",
       "      <td>59</td>\n",
       "      <td>5</td>\n",
       "    </tr>\n",
       "  </tbody>\n",
       "</table>\n",
       "</div>"
      ],
      "text/plain": [
       "         auhtor_ID                                               post  \\\n",
       "11388  t2_aikaukqc  experience than you might imagine. Have you co...   \n",
       "11397  t2_aikaukqc  of total betrayal created him. His half siblin...   \n",
       "11398  t2_aikaukqc  likely be started on a med called Metformin or...   \n",
       "11399  t2_aikaukqc  it in writing and witnessed. Dogs are amazing....   \n",
       "11413  t2_aikaukqc  and I will give you some other companies to lo...   \n",
       "\n",
       "       birth_year  age  age_range  \n",
       "11388        1966   59          5  \n",
       "11397        1966   59          5  \n",
       "11398        1966   59          5  \n",
       "11399        1966   59          5  \n",
       "11413        1966   59          5  "
      ]
     },
     "execution_count": 5,
     "metadata": {},
     "output_type": "execute_result"
    }
   ],
   "source": [
    "delay = 0                           # in years, to account for the time between publishing and now\n",
    "current_year = datetime.now().year\n",
    "df_birthyear['age'] = current_year - df_birthyear['birth_year'] - delay\n",
    "df_birthyear['age_range'] = df_birthyear['age'] // 10\n",
    "df_birthyear = df_birthyear[(df_birthyear['age_range'] >= 2) & (df_birthyear['age_range'] <= 5)]\n",
    "df_birthyear.head()"
   ]
  },
  {
   "cell_type": "code",
   "execution_count": 6,
   "metadata": {},
   "outputs": [
    {
     "data": {
      "image/png": "[encoded data removed]",
      "text/plain": [
       "<Figure size 1000x600 with 1 Axes>"
      ]
     },
     "metadata": {},
     "output_type": "display_data"
    }
   ],
   "source": [
    "# Create a temporary DataFrame with unique authors\n",
    "unique_authors = df_birthyear.loc[df_birthyear['auhtor_ID'].drop_duplicates().index]\n",
    "\n",
    "# Plot the age distribution\n",
    "plt.figure(figsize=(10, 6))\n",
    "sns.countplot(x='age_range', data=unique_authors)\n",
    "plt.xlabel('Age Range')\n",
    "plt.ylabel('Count')\n",
    "plt.title('Count of Authors by Age Range')\n",
    "plt.xticks(rotation=45)  # Rotate x-axis labels if needed\n",
    "plt.show()"
   ]
  },
  {
   "cell_type": "markdown",
   "metadata": {},
   "source": [
    "# Preprocessing using nltk"
   ]
  },
  {
   "cell_type": "code",
   "execution_count": 7,
   "metadata": {},
   "outputs": [
    {
     "name": "stderr",
     "output_type": "stream",
     "text": [
      "[nltk_data] Downloading package stopwords to\n",
      "[nltk_data]     C:\\Users\\zitag\\AppData\\Roaming\\nltk_data...\n",
      "[nltk_data]   Package stopwords is already up-to-date!\n",
      "[nltk_data] Downloading package punkt_tab to\n",
      "[nltk_data]     C:\\Users\\zitag\\AppData\\Roaming\\nltk_data...\n",
      "[nltk_data]   Package punkt_tab is already up-to-date!\n"
     ]
    }
   ],
   "source": [
    "from nltk.tokenize import word_tokenize\n",
    "from nltk.corpus import stopwords\n",
    "from nltk.stem import PorterStemmer\n",
    "from collections import Counter\n",
    "nltk.download('stopwords')\n",
    "nltk.download('punkt_tab')\n",
    "import contractions\n",
    "import unicodedata\n",
    "import re"
   ]
  },
  {
   "cell_type": "code",
   "execution_count": 8,
   "metadata": {},
   "outputs": [
    {
     "name": "stderr",
     "output_type": "stream",
     "text": [
      "100%|██████████| 39254/39254 [10:20<00:00, 63.30it/s]\n"
     ]
    }
   ],
   "source": [
    "df_birthyear['clean_post'] = np.nan\n",
    "\n",
    "stemmer = PorterStemmer()\n",
    "stop_words = set(stopwords.words('english'))\n",
    "\n",
    "def clean_post(post):\n",
    "    words = word_tokenize(post.lower())\n",
    "    words = [contractions.fix(word) for word in words]\n",
    "    words = [unicodedata.normalize('NFKD', word).encode('ASCII', 'ignore').decode('utf-8') for word in words]\n",
    "    words = [re.sub(r\"(https|http)?:\\S*\", \"\", word) for word in words]\n",
    "    words = [word for word in words if word.isalpha()]\n",
    "    words = [word for word in words if word not in stop_words]\n",
    "    words = [stemmer.stem(word) for word in words]\n",
    "    return str(words)\n",
    "\n",
    "tqdm.pandas()\n",
    "df_birthyear['clean_post'] = df_birthyear['post'].progress_apply(clean_post)\n",
    "df_birthyear.reset_index(drop=True, inplace=True)"
   ]
  },
  {
   "cell_type": "code",
   "execution_count": 9,
   "metadata": {},
   "outputs": [
    {
     "data": {
      "text/html": [
       "<div>\n",
       "<style scoped>\n",
       "    .dataframe tbody tr th:only-of-type {\n",
       "        vertical-align: middle;\n",
       "    }\n",
       "\n",
       "    .dataframe tbody tr th {\n",
       "        vertical-align: top;\n",
       "    }\n",
       "\n",
       "    .dataframe thead th {\n",
       "        text-align: right;\n",
       "    }\n",
       "</style>\n",
       "<table border=\"1\" class=\"dataframe\">\n",
       "  <thead>\n",
       "    <tr style=\"text-align: right;\">\n",
       "      <th></th>\n",
       "      <th>auhtor_ID</th>\n",
       "      <th>post</th>\n",
       "      <th>birth_year</th>\n",
       "      <th>age</th>\n",
       "      <th>age_range</th>\n",
       "      <th>clean_post</th>\n",
       "    </tr>\n",
       "  </thead>\n",
       "  <tbody>\n",
       "    <tr>\n",
       "      <th>0</th>\n",
       "      <td>t2_aikaukqc</td>\n",
       "      <td>experience than you might imagine. Have you co...</td>\n",
       "      <td>1966</td>\n",
       "      <td>59</td>\n",
       "      <td>5</td>\n",
       "      <td>['experi', 'might', 'imagin', 'consid', 'built...</td>\n",
       "    </tr>\n",
       "    <tr>\n",
       "      <th>1</th>\n",
       "      <td>t2_aikaukqc</td>\n",
       "      <td>of total betrayal created him. His half siblin...</td>\n",
       "      <td>1966</td>\n",
       "      <td>59</td>\n",
       "      <td>5</td>\n",
       "      <td>['total', 'betray', 'creat', 'half', 'sibl', '...</td>\n",
       "    </tr>\n",
       "    <tr>\n",
       "      <th>2</th>\n",
       "      <td>t2_aikaukqc</td>\n",
       "      <td>likely be started on a med called Metformin or...</td>\n",
       "      <td>1966</td>\n",
       "      <td>59</td>\n",
       "      <td>5</td>\n",
       "      <td>['like', 'start', 'med', 'call', 'metformin', ...</td>\n",
       "    </tr>\n",
       "    <tr>\n",
       "      <th>3</th>\n",
       "      <td>t2_aikaukqc</td>\n",
       "      <td>it in writing and witnessed. Dogs are amazing....</td>\n",
       "      <td>1966</td>\n",
       "      <td>59</td>\n",
       "      <td>5</td>\n",
       "      <td>['write', 'wit', 'dog', 'amaz', 'need', 'abl',...</td>\n",
       "    </tr>\n",
       "    <tr>\n",
       "      <th>4</th>\n",
       "      <td>t2_aikaukqc</td>\n",
       "      <td>and I will give you some other companies to lo...</td>\n",
       "      <td>1966</td>\n",
       "      <td>59</td>\n",
       "      <td>5</td>\n",
       "      <td>['give', 'compani', 'look', 'send', 'resum', '...</td>\n",
       "    </tr>\n",
       "  </tbody>\n",
       "</table>\n",
       "</div>"
      ],
      "text/plain": [
       "     auhtor_ID                                               post  birth_year  \\\n",
       "0  t2_aikaukqc  experience than you might imagine. Have you co...        1966   \n",
       "1  t2_aikaukqc  of total betrayal created him. His half siblin...        1966   \n",
       "2  t2_aikaukqc  likely be started on a med called Metformin or...        1966   \n",
       "3  t2_aikaukqc  it in writing and witnessed. Dogs are amazing....        1966   \n",
       "4  t2_aikaukqc  and I will give you some other companies to lo...        1966   \n",
       "\n",
       "   age  age_range                                         clean_post  \n",
       "0   59          5  ['experi', 'might', 'imagin', 'consid', 'built...  \n",
       "1   59          5  ['total', 'betray', 'creat', 'half', 'sibl', '...  \n",
       "2   59          5  ['like', 'start', 'med', 'call', 'metformin', ...  \n",
       "3   59          5  ['write', 'wit', 'dog', 'amaz', 'need', 'abl',...  \n",
       "4   59          5  ['give', 'compani', 'look', 'send', 'resum', '...  "
      ]
     },
     "execution_count": 9,
     "metadata": {},
     "output_type": "execute_result"
    }
   ],
   "source": [
    "df_birthyear.head()"
   ]
  },
  {
   "cell_type": "markdown",
   "metadata": {},
   "source": [
    "## Normal df_unique_author df by age"
   ]
  },
  {
   "cell_type": "code",
   "execution_count": 10,
   "metadata": {},
   "outputs": [
    {
     "data": {
      "text/html": [
       "<div>\n",
       "<style scoped>\n",
       "    .dataframe tbody tr th:only-of-type {\n",
       "        vertical-align: middle;\n",
       "    }\n",
       "\n",
       "    .dataframe tbody tr th {\n",
       "        vertical-align: top;\n",
       "    }\n",
       "\n",
       "    .dataframe thead th {\n",
       "        text-align: right;\n",
       "    }\n",
       "</style>\n",
       "<table border=\"1\" class=\"dataframe\">\n",
       "  <thead>\n",
       "    <tr style=\"text-align: right;\">\n",
       "      <th></th>\n",
       "      <th>auhtor_ID</th>\n",
       "      <th>post</th>\n",
       "      <th>birth_year</th>\n",
       "      <th>age</th>\n",
       "      <th>age_range</th>\n",
       "      <th>clean_post</th>\n",
       "    </tr>\n",
       "  </thead>\n",
       "  <tbody>\n",
       "    <tr>\n",
       "      <th>34865</th>\n",
       "      <td>t2_3h3t0mb</td>\n",
       "      <td>record was 285 in May) **New States:** Illinoi...</td>\n",
       "      <td>1999</td>\n",
       "      <td>26</td>\n",
       "      <td>2</td>\n",
       "      <td>['record', 'may', 'new', 'state', 'illinoi', '...</td>\n",
       "    </tr>\n",
       "    <tr>\n",
       "      <th>38303</th>\n",
       "      <td>t2_ga9jkp22</td>\n",
       "      <td>Girly I am 20 with barely an a cup. I know it’...</td>\n",
       "      <td>2003</td>\n",
       "      <td>22</td>\n",
       "      <td>2</td>\n",
       "      <td>['girli', 'bare', 'cup', 'know', 'difficult', ...</td>\n",
       "    </tr>\n",
       "    <tr>\n",
       "      <th>36840</th>\n",
       "      <td>t2_8g3ecofl</td>\n",
       "      <td>food you like in a single day, you're allowed ...</td>\n",
       "      <td>2001</td>\n",
       "      <td>24</td>\n",
       "      <td>2</td>\n",
       "      <td>['food', 'like', 'singl', 'day', 'allow', 'tak...</td>\n",
       "    </tr>\n",
       "    <tr>\n",
       "      <th>35322</th>\n",
       "      <td>t2_txn1p</td>\n",
       "      <td>so frustrating! Right. I am just frustrated th...</td>\n",
       "      <td>1999</td>\n",
       "      <td>26</td>\n",
       "      <td>2</td>\n",
       "      <td>['frustrat', 'right', 'frustrat', 'thing', 'li...</td>\n",
       "    </tr>\n",
       "    <tr>\n",
       "      <th>33673</th>\n",
       "      <td>t2_46463x14</td>\n",
       "      <td>and smelly. shower? i’ll eat in the shower, ge...</td>\n",
       "      <td>1998</td>\n",
       "      <td>27</td>\n",
       "      <td>2</td>\n",
       "      <td>['smelli', 'shower', 'eat', 'shower', 'get', '...</td>\n",
       "    </tr>\n",
       "  </tbody>\n",
       "</table>\n",
       "</div>"
      ],
      "text/plain": [
       "         auhtor_ID                                               post  \\\n",
       "34865   t2_3h3t0mb  record was 285 in May) **New States:** Illinoi...   \n",
       "38303  t2_ga9jkp22  Girly I am 20 with barely an a cup. I know it’...   \n",
       "36840  t2_8g3ecofl  food you like in a single day, you're allowed ...   \n",
       "35322     t2_txn1p  so frustrating! Right. I am just frustrated th...   \n",
       "33673  t2_46463x14  and smelly. shower? i’ll eat in the shower, ge...   \n",
       "\n",
       "       birth_year  age  age_range  \\\n",
       "34865        1999   26          2   \n",
       "38303        2003   22          2   \n",
       "36840        2001   24          2   \n",
       "35322        1999   26          2   \n",
       "33673        1998   27          2   \n",
       "\n",
       "                                              clean_post  \n",
       "34865  ['record', 'may', 'new', 'state', 'illinoi', '...  \n",
       "38303  ['girli', 'bare', 'cup', 'know', 'difficult', ...  \n",
       "36840  ['food', 'like', 'singl', 'day', 'allow', 'tak...  \n",
       "35322  ['frustrat', 'right', 'frustrat', 'thing', 'li...  \n",
       "33673  ['smelli', 'shower', 'eat', 'shower', 'get', '...  "
      ]
     },
     "execution_count": 10,
     "metadata": {},
     "output_type": "execute_result"
    }
   ],
   "source": [
    "# sample df_unique_authors based on age to normalize\n",
    "df_unique_authors = df_birthyear.drop_duplicates(subset='auhtor_ID')\n",
    "n_samples = 150\n",
    "df_normalized = df_unique_authors.groupby('age_range').sample(n=n_samples, random_state=42)\n",
    "df_normalized.head()"
   ]
  },
  {
   "cell_type": "code",
   "execution_count": 11,
   "metadata": {},
   "outputs": [
    {
     "data": {
      "text/plain": [
       "age_range\n",
       "2    150\n",
       "3    150\n",
       "4    150\n",
       "5    150\n",
       "Name: count, dtype: int64"
      ]
     },
     "execution_count": 11,
     "metadata": {},
     "output_type": "execute_result"
    }
   ],
   "source": [
    "# count age range in unique authors to check sampling\n",
    "df_normalized['age_range'].value_counts()"
   ]
  },
  {
   "cell_type": "markdown",
   "metadata": {},
   "source": [
    "## Save dataframes"
   ]
  },
  {
   "cell_type": "code",
   "execution_count": 12,
   "metadata": {},
   "outputs": [],
   "source": [
    "# to pickle\n",
    "if not os.path.exists('preprocessed_data'):\n",
    "    os.makedirs('preprocessed_data')\n",
    "df_birthyear.to_pickle('preprocessed_data/df_birthyear.pkl')\n",
    "df_normalized.to_pickle('preprocessed_data/df_normalized.pkl')"
   ]
  },
  {
   "cell_type": "markdown",
   "metadata": {},
   "source": [
    "## Extra: Function breakdown"
   ]
  },
  {
   "cell_type": "code",
   "execution_count": 13,
   "metadata": {},
   "outputs": [
    {
     "name": "stdout",
     "output_type": "stream",
     "text": [
      "did it while my wife was out of town and didn't tell her because she's kinda a hippy. Pictures? Rotor appears to be on backwards. Try and flip it around. That's super cool. What part of the world? This is correct Great! Ermahgherd!!!! Piiiiiiit-bbbbbuuuuul?!?!??!! Fists of Flour Doughjo in The Laurel is pretty good for pizza by the slice. He was in a horrific car accident and avoided film for years because his face was scarred. It basically completely changed the trajectory of his acting career. Yeah, but most people come to spiderman knowing at least a small bit of his history. It's not a totally new story that is confusing or hard to follow. What do you mean by delicious? Wait, your mom found the nudes and then proceeded to show them to the rest of your family? Why are you being so chill? I would go grey stone with her/minimal communication. That is beyond snooping. That is seriously disgusting bordering unforgivable. From your own mom. Use a rag so it will snag on any offending material. Also to protect your fingies. Tire levers work really well for this \"Why don't you just buy more money?\" - Poregon2 Tldr; Start a relationship with your bike shop. Bring in your bike and ask for an inspection. If it's all good get them a 6 pack of beer and tell them you'll see them in a couple months for another check up. If they do advise certain things then take their advice seriously. Having a good relationship with your LBS makes this sort of anxiety about getting a tuneup a lot less because you should trust your LBS to not rake you over the coals for a few bucks. If you just moved here you should go to Urban Ore in Berkeley regardless of what you need. It is a strange and wonderful place. There's an actual product called deeznutz. It's an ass cream for riding bikes. Sometimes it just takes a 20 Mule Team. AND don't pedal backwards Shit or get off the pot. I am so tired of being edged by this never ending claim that Trump is going down. I hate him. I hated him when he was just the youre fired shit lord. But we all know he is never going to pay for any of his transgressions. Come get me when there is a video of him being perp walked out of court and into prison. I would be willing to bet that the vast majority of these shootings listed were done with hand guns made by normal manufacturers(not ghost guns). Not sure what the mix of stolen vs. legally owned would be though. Should throw a few ping pong balls in there for her to play with Anything metric is not US-centric. Look into Wald training wheels, they are pretty universal. If the bike is lower quality aftermarket training wheels might not work, it might only be compatible with the ones that would have come with it. Some brands like Specialized are only compatible with the ones that are designed for their bikes. And finally, some brands like Cleary are anti-training wheels and are supposedly not compatible with any training wheel. If you post a picture of your problem we might be able to help sort it out better. Glue both the patch and the tube and let it sit for 10 mins before sticking together. It should not be even a bit slippery. Maybe he is personally insulted by leeks. I for one love their oniony goodness, and feel that they make for a wonderful addition to creamy potato cheddar soup. You also have to wait until it's pretty much dry, but still sticky before sticking them together. \"Hello brother, tell me what you told mom and dad when they needed a room to stay in and asked you for help, and that will be your answer.\" The easiest way to think about BB's is as though they are adaptors adapting your frame to your crank. So you have a BSA threaded frame and you currently have a SRAM GXP crank. So without changing your bottom bracket would have to get a crank that is GXP. The force 1x crank with 165mm crank length that you mentioned would work fine. If you change to a different brand of crank, new standard (I'm looking at you DUB) you would potentially (most likely) need a new bottom bracket that matches that standard. As far as the Dub Axs rival crank you mentioned, I don't think the 11 speed chain would play well with the 12 speed chainrings, and if you put the 12 speed flat top chain on it that wouldn't play well with the 11 speed rear mech. SRAM red is their highest level of road components. When you look at their numbering convention it is kinda clear. For their cassettes and chains they have the speed or #of gears followed by the quality. For a 11 speed cassette with red level quality it will have a # like: PG-1190 And the chain is: PC-1190 Force: PG-1170 for 11speed PG-1070 for 10 speed Chains would be: PC-1170 and PC-1070 Etc. As for anything that has a visual impact, i.e. shifters, cranks, ders, it will absolutely say \"Red\" somewhere on it. In the past 10 years it seems like there have been a lot fewer generational updates to Rival/Force/Red than DA/Ultegra/105. Anyway, the 90 denotes the highest quality in SRAM lineups. Tubeless sealant ruins clothes. That's my final answer. Pretty sure it switched to an 8 bolt standard, similar to, but not compatible with, the XX1 quark crank. So I am pretty confident there is no way to get your last gen DM quark onto a Axs rival, force or red crankset. url 10 speed Ultegra is \"6700\" When they updated to 11 speed it changed to \"6800\" Yeah, conti doesn't support local bike shops and does not protect their MAP. Pretty lame to be honest. Sucks when your cost is higher than some internet only tire shop in South Ossetia. Are you not white? Are persons of color less able to control their emotions? What a stupid ass question. The things you implied with it are just dumb. You could also try Wolf tooth GoatLink. It basically extends the der out so it can clear more. Works pretty well. Nobody lived on the first floor of that building. In fact no business were even setup yet. That bottom floor corner is a super weird business spot that has been vacant for maybe 4 years now and next door was a \"massage parlor\" that was abandoned when they started trying to renovate the building and next to that was the empty spot where coffee with a beat was. I don't think there are any ground floor apartments in that building. Damn, busted pipes on the second floor, that's total bollocks Good call. I always just called it a GoatLink because you can climb better with it. And I got artsy brains like that Alternative Facts™ Wasn't really even commenting on your comment. You are correct, they should not have changed course. The fact of the matter is that Ukraine is fighting a literal existential war for their literal survival against an invading force with, what the world considered, a far superior army. I actually don't understand why the Geneva convention would apply at all to the Ukrainians. It definitely applies to the Russians though, as it is a war of their choice and they are driving it, they are in control. Maybe if 2 countries agreed to war and the rules of engagement and then went at it then the rules would apply evenly. But the idea that you are not going to protect your house with every fiber of your being when someone comes in and starts killing your family for literally no reason is just foolish. To award medals or what? Yes, yes, war is the very cradle of civilized and thoughtful action. I cannot even fathom revenge on soldiers who just butchered a whole city. Completely unacceptable. /s Let's see how well you follow the Geneva conventions after you see a pile of murdered people from your town dumped in the middle of the street like trash. I'm certain you will hold the rule of law over your own personal feelings. Have a good evening. Take it to your local powder coater and get it powder coated what ever your favorite color is. You can also get textured/2 tone powder coats that are pretty unique. Tell me how many of these Russian soldiers will be prosecuted for their crimes by the ICC? None of them. none of them. There is 0% chance of justice being meted out by an impartial international court to these war criminals. I fundamentally agree that the Geneva convention are a good thing. I disagree though that they are effective in any way, shape or form at preventing war\n"
     ]
    }
   ],
   "source": [
    "i = random.randint(0, len(df_birthyear))\n",
    "post = df_birthyear['post'][i]\n",
    "print(post)"
   ]
  },
  {
   "cell_type": "markdown",
   "metadata": {},
   "source": [
    "### Tokenization\n",
    "split the sentence up in to smaller part, here it is split up into words"
   ]
  },
  {
   "cell_type": "code",
   "execution_count": 14,
   "metadata": {},
   "outputs": [
    {
     "name": "stdout",
     "output_type": "stream",
     "text": [
      "['did', 'it', 'while', 'my', 'wife', 'was', 'out', 'of', 'town', 'and', 'did', \"n't\", 'tell', 'her', 'because', 'she', \"'s\", 'kinda', 'a', 'hippy', '.', 'pictures', '?', 'rotor', 'appears', 'to', 'be', 'on', 'backwards', '.', 'try', 'and', 'flip', 'it', 'around', '.', 'that', \"'s\", 'super', 'cool', '.', 'what', 'part', 'of', 'the', 'world', '?', 'this', 'is', 'correct', 'great', '!', 'ermahgherd', '!', '!', '!', '!', 'piiiiiiit-bbbbbuuuuul', '?', '!', '?', '!', '?', '?', '!', '!', 'fists', 'of', 'flour', 'doughjo', 'in', 'the', 'laurel', 'is', 'pretty', 'good', 'for', 'pizza', 'by', 'the', 'slice', '.', 'he', 'was', 'in', 'a', 'horrific', 'car', 'accident', 'and', 'avoided', 'film', 'for', 'years', 'because', 'his', 'face', 'was', 'scarred', '.', 'it', 'basically', 'completely', 'changed', 'the', 'trajectory', 'of', 'his', 'acting', 'career', '.', 'yeah', ',', 'but', 'most', 'people', 'come', 'to', 'spiderman', 'knowing', 'at', 'least', 'a', 'small', 'bit', 'of', 'his', 'history', '.', 'it', \"'s\", 'not', 'a', 'totally', 'new', 'story', 'that', 'is', 'confusing', 'or', 'hard', 'to', 'follow', '.', 'what', 'do', 'you', 'mean', 'by', 'delicious', '?', 'wait', ',', 'your', 'mom', 'found', 'the', 'nudes', 'and', 'then', 'proceeded', 'to', 'show', 'them', 'to', 'the', 'rest', 'of', 'your', 'family', '?', 'why', 'are', 'you', 'being', 'so', 'chill', '?', 'i', 'would', 'go', 'grey', 'stone', 'with', 'her/minimal', 'communication', '.', 'that', 'is', 'beyond', 'snooping', '.', 'that', 'is', 'seriously', 'disgusting', 'bordering', 'unforgivable', '.', 'from', 'your', 'own', 'mom', '.', 'use', 'a', 'rag', 'so', 'it', 'will', 'snag', 'on', 'any', 'offending', 'material', '.', 'also', 'to', 'protect', 'your', 'fingies', '.', 'tire', 'levers', 'work', 'really', 'well', 'for', 'this', '``', 'why', 'do', \"n't\", 'you', 'just', 'buy', 'more', 'money', '?', \"''\", '-', 'poregon2', 'tldr', ';', 'start', 'a', 'relationship', 'with', 'your', 'bike', 'shop', '.', 'bring', 'in', 'your', 'bike', 'and', 'ask', 'for', 'an', 'inspection', '.', 'if', 'it', \"'s\", 'all', 'good', 'get', 'them', 'a', '6', 'pack', 'of', 'beer', 'and', 'tell', 'them', 'you', \"'ll\", 'see', 'them', 'in', 'a', 'couple', 'months', 'for', 'another', 'check', 'up', '.', 'if', 'they', 'do', 'advise', 'certain', 'things', 'then', 'take', 'their', 'advice', 'seriously', '.', 'having', 'a', 'good', 'relationship', 'with', 'your', 'lbs', 'makes', 'this', 'sort', 'of', 'anxiety', 'about', 'getting', 'a', 'tuneup', 'a', 'lot', 'less', 'because', 'you', 'should', 'trust', 'your', 'lbs', 'to', 'not', 'rake', 'you', 'over', 'the', 'coals', 'for', 'a', 'few', 'bucks', '.', 'if', 'you', 'just', 'moved', 'here', 'you', 'should', 'go', 'to', 'urban', 'ore', 'in', 'berkeley', 'regardless', 'of', 'what', 'you', 'need', '.', 'it', 'is', 'a', 'strange', 'and', 'wonderful', 'place', '.', 'there', \"'s\", 'an', 'actual', 'product', 'called', 'deeznutz', '.', 'it', \"'s\", 'an', 'ass', 'cream', 'for', 'riding', 'bikes', '.', 'sometimes', 'it', 'just', 'takes', 'a', '20', 'mule', 'team', '.', 'and', 'do', \"n't\", 'pedal', 'backwards', 'shit', 'or', 'get', 'off', 'the', 'pot', '.', 'i', 'am', 'so', 'tired', 'of', 'being', 'edged', 'by', 'this', 'never', 'ending', 'claim', 'that', 'trump', 'is', 'going', 'down', '.', 'i', 'hate', 'him', '.', 'i', 'hated', 'him', 'when', 'he', 'was', 'just', 'the', 'youre', 'fired', 'shit', 'lord', '.', 'but', 'we', 'all', 'know', 'he', 'is', 'never', 'going', 'to', 'pay', 'for', 'any', 'of', 'his', 'transgressions', '.', 'come', 'get', 'me', 'when', 'there', 'is', 'a', 'video', 'of', 'him', 'being', 'perp', 'walked', 'out', 'of', 'court', 'and', 'into', 'prison', '.', 'i', 'would', 'be', 'willing', 'to', 'bet', 'that', 'the', 'vast', 'majority', 'of', 'these', 'shootings', 'listed', 'were', 'done', 'with', 'hand', 'guns', 'made', 'by', 'normal', 'manufacturers', '(', 'not', 'ghost', 'guns', ')', '.', 'not', 'sure', 'what', 'the', 'mix', 'of', 'stolen', 'vs.', 'legally', 'owned', 'would', 'be', 'though', '.', 'should', 'throw', 'a', 'few', 'ping', 'pong', 'balls', 'in', 'there', 'for', 'her', 'to', 'play', 'with', 'anything', 'metric', 'is', 'not', 'us-centric', '.', 'look', 'into', 'wald', 'training', 'wheels', ',', 'they', 'are', 'pretty', 'universal', '.', 'if', 'the', 'bike', 'is', 'lower', 'quality', 'aftermarket', 'training', 'wheels', 'might', 'not', 'work', ',', 'it', 'might', 'only', 'be', 'compatible', 'with', 'the', 'ones', 'that', 'would', 'have', 'come', 'with', 'it', '.', 'some', 'brands', 'like', 'specialized', 'are', 'only', 'compatible', 'with', 'the', 'ones', 'that', 'are', 'designed', 'for', 'their', 'bikes', '.', 'and', 'finally', ',', 'some', 'brands', 'like', 'cleary', 'are', 'anti-training', 'wheels', 'and', 'are', 'supposedly', 'not', 'compatible', 'with', 'any', 'training', 'wheel', '.', 'if', 'you', 'post', 'a', 'picture', 'of', 'your', 'problem', 'we', 'might', 'be', 'able', 'to', 'help', 'sort', 'it', 'out', 'better', '.', 'glue', 'both', 'the', 'patch', 'and', 'the', 'tube', 'and', 'let', 'it', 'sit', 'for', '10', 'mins', 'before', 'sticking', 'together', '.', 'it', 'should', 'not', 'be', 'even', 'a', 'bit', 'slippery', '.', 'maybe', 'he', 'is', 'personally', 'insulted', 'by', 'leeks', '.', 'i', 'for', 'one', 'love', 'their', 'oniony', 'goodness', ',', 'and', 'feel', 'that', 'they', 'make', 'for', 'a', 'wonderful', 'addition', 'to', 'creamy', 'potato', 'cheddar', 'soup', '.', 'you', 'also', 'have', 'to', 'wait', 'until', 'it', \"'s\", 'pretty', 'much', 'dry', ',', 'but', 'still', 'sticky', 'before', 'sticking', 'them', 'together', '.', '``', 'hello', 'brother', ',', 'tell', 'me', 'what', 'you', 'told', 'mom', 'and', 'dad', 'when', 'they', 'needed', 'a', 'room', 'to', 'stay', 'in', 'and', 'asked', 'you', 'for', 'help', ',', 'and', 'that', 'will', 'be', 'your', 'answer', '.', \"''\", 'the', 'easiest', 'way', 'to', 'think', 'about', 'bb', \"'s\", 'is', 'as', 'though', 'they', 'are', 'adaptors', 'adapting', 'your', 'frame', 'to', 'your', 'crank', '.', 'so', 'you', 'have', 'a', 'bsa', 'threaded', 'frame', 'and', 'you', 'currently', 'have', 'a', 'sram', 'gxp', 'crank', '.', 'so', 'without', 'changing', 'your', 'bottom', 'bracket', 'would', 'have', 'to', 'get', 'a', 'crank', 'that', 'is', 'gxp', '.', 'the', 'force', '1x', 'crank', 'with', '165mm', 'crank', 'length', 'that', 'you', 'mentioned', 'would', 'work', 'fine', '.', 'if', 'you', 'change', 'to', 'a', 'different', 'brand', 'of', 'crank', ',', 'new', 'standard', '(', 'i', \"'m\", 'looking', 'at', 'you', 'dub', ')', 'you', 'would', 'potentially', '(', 'most', 'likely', ')', 'need', 'a', 'new', 'bottom', 'bracket', 'that', 'matches', 'that', 'standard', '.', 'as', 'far', 'as', 'the', 'dub', 'axs', 'rival', 'crank', 'you', 'mentioned', ',', 'i', 'do', \"n't\", 'think', 'the', '11', 'speed', 'chain', 'would', 'play', 'well', 'with', 'the', '12', 'speed', 'chainrings', ',', 'and', 'if', 'you', 'put', 'the', '12', 'speed', 'flat', 'top', 'chain', 'on', 'it', 'that', 'would', \"n't\", 'play', 'well', 'with', 'the', '11', 'speed', 'rear', 'mech', '.', 'sram', 'red', 'is', 'their', 'highest', 'level', 'of', 'road', 'components', '.', 'when', 'you', 'look', 'at', 'their', 'numbering', 'convention', 'it', 'is', 'kinda', 'clear', '.', 'for', 'their', 'cassettes', 'and', 'chains', 'they', 'have', 'the', 'speed', 'or', '#', 'of', 'gears', 'followed', 'by', 'the', 'quality', '.', 'for', 'a', '11', 'speed', 'cassette', 'with', 'red', 'level', 'quality', 'it', 'will', 'have', 'a', '#', 'like', ':', 'pg-1190', 'and', 'the', 'chain', 'is', ':', 'pc-1190', 'force', ':', 'pg-1170', 'for', '11speed', 'pg-1070', 'for', '10', 'speed', 'chains', 'would', 'be', ':', 'pc-1170', 'and', 'pc-1070', 'etc', '.', 'as', 'for', 'anything', 'that', 'has', 'a', 'visual', 'impact', ',', 'i.e', '.', 'shifters', ',', 'cranks', ',', 'ders', ',', 'it', 'will', 'absolutely', 'say', '``', 'red', \"''\", 'somewhere', 'on', 'it', '.', 'in', 'the', 'past', '10', 'years', 'it', 'seems', 'like', 'there', 'have', 'been', 'a', 'lot', 'fewer', 'generational', 'updates', 'to', 'rival/force/red', 'than', 'da/ultegra/105', '.', 'anyway', ',', 'the', '90', 'denotes', 'the', 'highest', 'quality', 'in', 'sram', 'lineups', '.', 'tubeless', 'sealant', 'ruins', 'clothes', '.', 'that', \"'s\", 'my', 'final', 'answer', '.', 'pretty', 'sure', 'it', 'switched', 'to', 'an', '8', 'bolt', 'standard', ',', 'similar', 'to', ',', 'but', 'not', 'compatible', 'with', ',', 'the', 'xx1', 'quark', 'crank', '.', 'so', 'i', 'am', 'pretty', 'confident', 'there', 'is', 'no', 'way', 'to', 'get', 'your', 'last', 'gen', 'dm', 'quark', 'onto', 'a', 'axs', 'rival', ',', 'force', 'or', 'red', 'crankset', '.', 'url', '10', 'speed', 'ultegra', 'is', '``', '6700', \"''\", 'when', 'they', 'updated', 'to', '11', 'speed', 'it', 'changed', 'to', '``', '6800', \"''\", 'yeah', ',', 'conti', 'does', \"n't\", 'support', 'local', 'bike', 'shops', 'and', 'does', 'not', 'protect', 'their', 'map', '.', 'pretty', 'lame', 'to', 'be', 'honest', '.', 'sucks', 'when', 'your', 'cost', 'is', 'higher', 'than', 'some', 'internet', 'only', 'tire', 'shop', 'in', 'south', 'ossetia', '.', 'are', 'you', 'not', 'white', '?', 'are', 'persons', 'of', 'color', 'less', 'able', 'to', 'control', 'their', 'emotions', '?', 'what', 'a', 'stupid', 'ass', 'question', '.', 'the', 'things', 'you', 'implied', 'with', 'it', 'are', 'just', 'dumb', '.', 'you', 'could', 'also', 'try', 'wolf', 'tooth', 'goatlink', '.', 'it', 'basically', 'extends', 'the', 'der', 'out', 'so', 'it', 'can', 'clear', 'more', '.', 'works', 'pretty', 'well', '.', 'nobody', 'lived', 'on', 'the', 'first', 'floor', 'of', 'that', 'building', '.', 'in', 'fact', 'no', 'business', 'were', 'even', 'setup', 'yet', '.', 'that', 'bottom', 'floor', 'corner', 'is', 'a', 'super', 'weird', 'business', 'spot', 'that', 'has', 'been', 'vacant', 'for', 'maybe', '4', 'years', 'now', 'and', 'next', 'door', 'was', 'a', '``', 'massage', 'parlor', \"''\", 'that', 'was', 'abandoned', 'when', 'they', 'started', 'trying', 'to', 'renovate', 'the', 'building', 'and', 'next', 'to', 'that', 'was', 'the', 'empty', 'spot', 'where', 'coffee', 'with', 'a', 'beat', 'was', '.', 'i', 'do', \"n't\", 'think', 'there', 'are', 'any', 'ground', 'floor', 'apartments', 'in', 'that', 'building', '.', 'damn', ',', 'busted', 'pipes', 'on', 'the', 'second', 'floor', ',', 'that', \"'s\", 'total', 'bollocks', 'good', 'call', '.', 'i', 'always', 'just', 'called', 'it', 'a', 'goatlink', 'because', 'you', 'can', 'climb', 'better', 'with', 'it', '.', 'and', 'i', 'got', 'artsy', 'brains', 'like', 'that', 'alternative', 'facts™', 'was', \"n't\", 'really', 'even', 'commenting', 'on', 'your', 'comment', '.', 'you', 'are', 'correct', ',', 'they', 'should', 'not', 'have', 'changed', 'course', '.', 'the', 'fact', 'of', 'the', 'matter', 'is', 'that', 'ukraine', 'is', 'fighting', 'a', 'literal', 'existential', 'war', 'for', 'their', 'literal', 'survival', 'against', 'an', 'invading', 'force', 'with', ',', 'what', 'the', 'world', 'considered', ',', 'a', 'far', 'superior', 'army', '.', 'i', 'actually', 'do', \"n't\", 'understand', 'why', 'the', 'geneva', 'convention', 'would', 'apply', 'at', 'all', 'to', 'the', 'ukrainians', '.', 'it', 'definitely', 'applies', 'to', 'the', 'russians', 'though', ',', 'as', 'it', 'is', 'a', 'war', 'of', 'their', 'choice', 'and', 'they', 'are', 'driving', 'it', ',', 'they', 'are', 'in', 'control', '.', 'maybe', 'if', '2', 'countries', 'agreed', 'to', 'war', 'and', 'the', 'rules', 'of', 'engagement', 'and', 'then', 'went', 'at', 'it', 'then', 'the', 'rules', 'would', 'apply', 'evenly', '.', 'but', 'the', 'idea', 'that', 'you', 'are', 'not', 'going', 'to', 'protect', 'your', 'house', 'with', 'every', 'fiber', 'of', 'your', 'being', 'when', 'someone', 'comes', 'in', 'and', 'starts', 'killing', 'your', 'family', 'for', 'literally', 'no', 'reason', 'is', 'just', 'foolish', '.', 'to', 'award', 'medals', 'or', 'what', '?', 'yes', ',', 'yes', ',', 'war', 'is', 'the', 'very', 'cradle', 'of', 'civilized', 'and', 'thoughtful', 'action', '.', 'i', 'can', 'not', 'even', 'fathom', 'revenge', 'on', 'soldiers', 'who', 'just', 'butchered', 'a', 'whole', 'city', '.', 'completely', 'unacceptable', '.', '/s', 'let', \"'s\", 'see', 'how', 'well', 'you', 'follow', 'the', 'geneva', 'conventions', 'after', 'you', 'see', 'a', 'pile', 'of', 'murdered', 'people', 'from', 'your', 'town', 'dumped', 'in', 'the', 'middle', 'of', 'the', 'street', 'like', 'trash', '.', 'i', \"'m\", 'certain', 'you', 'will', 'hold', 'the', 'rule', 'of', 'law', 'over', 'your', 'own', 'personal', 'feelings', '.', 'have', 'a', 'good', 'evening', '.', 'take', 'it', 'to', 'your', 'local', 'powder', 'coater', 'and', 'get', 'it', 'powder', 'coated', 'what', 'ever', 'your', 'favorite', 'color', 'is', '.', 'you', 'can', 'also', 'get', 'textured/2', 'tone', 'powder', 'coats', 'that', 'are', 'pretty', 'unique', '.', 'tell', 'me', 'how', 'many', 'of', 'these', 'russian', 'soldiers', 'will', 'be', 'prosecuted', 'for', 'their', 'crimes', 'by', 'the', 'icc', '?', 'none', 'of', 'them', '.', 'none', 'of', 'them', '.', 'there', 'is', '0', '%', 'chance', 'of', 'justice', 'being', 'meted', 'out', 'by', 'an', 'impartial', 'international', 'court', 'to', 'these', 'war', 'criminals', '.', 'i', 'fundamentally', 'agree', 'that', 'the', 'geneva', 'convention', 'are', 'a', 'good', 'thing', '.', 'i', 'disagree', 'though', 'that', 'they', 'are', 'effective', 'in', 'any', 'way', ',', 'shape', 'or', 'form', 'at', 'preventing', 'war']\n"
     ]
    }
   ],
   "source": [
    "words = word_tokenize(post.lower())\n",
    "print(words)"
   ]
  },
  {
   "cell_type": "markdown",
   "metadata": {},
   "source": [
    "### Removing all characters except letters\n",
    "\n",
    "idea: maybe we should keep exclamantion/question marks and other characters, like ;) that could predict age potentially"
   ]
  },
  {
   "cell_type": "code",
   "execution_count": 15,
   "metadata": {},
   "outputs": [
    {
     "name": "stdout",
     "output_type": "stream",
     "text": [
      "['did', 'it', 'while', 'my', 'wife', 'was', 'out', 'of', 'town', 'and', 'did', 'tell', 'her', 'because', 'she', 'kinda', 'a', 'hippy', 'pictures', 'rotor', 'appears', 'to', 'be', 'on', 'backwards', 'try', 'and', 'flip', 'it', 'around', 'that', 'super', 'cool', 'what', 'part', 'of', 'the', 'world', 'this', 'is', 'correct', 'great', 'ermahgherd', 'fists', 'of', 'flour', 'doughjo', 'in', 'the', 'laurel', 'is', 'pretty', 'good', 'for', 'pizza', 'by', 'the', 'slice', 'he', 'was', 'in', 'a', 'horrific', 'car', 'accident', 'and', 'avoided', 'film', 'for', 'years', 'because', 'his', 'face', 'was', 'scarred', 'it', 'basically', 'completely', 'changed', 'the', 'trajectory', 'of', 'his', 'acting', 'career', 'yeah', 'but', 'most', 'people', 'come', 'to', 'spiderman', 'knowing', 'at', 'least', 'a', 'small', 'bit', 'of', 'his', 'history', 'it', 'not', 'a', 'totally', 'new', 'story', 'that', 'is', 'confusing', 'or', 'hard', 'to', 'follow', 'what', 'do', 'you', 'mean', 'by', 'delicious', 'wait', 'your', 'mom', 'found', 'the', 'nudes', 'and', 'then', 'proceeded', 'to', 'show', 'them', 'to', 'the', 'rest', 'of', 'your', 'family', 'why', 'are', 'you', 'being', 'so', 'chill', 'i', 'would', 'go', 'grey', 'stone', 'with', 'communication', 'that', 'is', 'beyond', 'snooping', 'that', 'is', 'seriously', 'disgusting', 'bordering', 'unforgivable', 'from', 'your', 'own', 'mom', 'use', 'a', 'rag', 'so', 'it', 'will', 'snag', 'on', 'any', 'offending', 'material', 'also', 'to', 'protect', 'your', 'fingies', 'tire', 'levers', 'work', 'really', 'well', 'for', 'this', 'why', 'do', 'you', 'just', 'buy', 'more', 'money', 'tldr', 'start', 'a', 'relationship', 'with', 'your', 'bike', 'shop', 'bring', 'in', 'your', 'bike', 'and', 'ask', 'for', 'an', 'inspection', 'if', 'it', 'all', 'good', 'get', 'them', 'a', 'pack', 'of', 'beer', 'and', 'tell', 'them', 'you', 'see', 'them', 'in', 'a', 'couple', 'months', 'for', 'another', 'check', 'up', 'if', 'they', 'do', 'advise', 'certain', 'things', 'then', 'take', 'their', 'advice', 'seriously', 'having', 'a', 'good', 'relationship', 'with', 'your', 'lbs', 'makes', 'this', 'sort', 'of', 'anxiety', 'about', 'getting', 'a', 'tuneup', 'a', 'lot', 'less', 'because', 'you', 'should', 'trust', 'your', 'lbs', 'to', 'not', 'rake', 'you', 'over', 'the', 'coals', 'for', 'a', 'few', 'bucks', 'if', 'you', 'just', 'moved', 'here', 'you', 'should', 'go', 'to', 'urban', 'ore', 'in', 'berkeley', 'regardless', 'of', 'what', 'you', 'need', 'it', 'is', 'a', 'strange', 'and', 'wonderful', 'place', 'there', 'an', 'actual', 'product', 'called', 'deeznutz', 'it', 'an', 'ass', 'cream', 'for', 'riding', 'bikes', 'sometimes', 'it', 'just', 'takes', 'a', 'mule', 'team', 'and', 'do', 'pedal', 'backwards', 'shit', 'or', 'get', 'off', 'the', 'pot', 'i', 'am', 'so', 'tired', 'of', 'being', 'edged', 'by', 'this', 'never', 'ending', 'claim', 'that', 'trump', 'is', 'going', 'down', 'i', 'hate', 'him', 'i', 'hated', 'him', 'when', 'he', 'was', 'just', 'the', 'youre', 'fired', 'shit', 'lord', 'but', 'we', 'all', 'know', 'he', 'is', 'never', 'going', 'to', 'pay', 'for', 'any', 'of', 'his', 'transgressions', 'come', 'get', 'me', 'when', 'there', 'is', 'a', 'video', 'of', 'him', 'being', 'perp', 'walked', 'out', 'of', 'court', 'and', 'into', 'prison', 'i', 'would', 'be', 'willing', 'to', 'bet', 'that', 'the', 'vast', 'majority', 'of', 'these', 'shootings', 'listed', 'were', 'done', 'with', 'hand', 'guns', 'made', 'by', 'normal', 'manufacturers', 'not', 'ghost', 'guns', 'not', 'sure', 'what', 'the', 'mix', 'of', 'stolen', 'legally', 'owned', 'would', 'be', 'though', 'should', 'throw', 'a', 'few', 'ping', 'pong', 'balls', 'in', 'there', 'for', 'her', 'to', 'play', 'with', 'anything', 'metric', 'is', 'not', 'look', 'into', 'wald', 'training', 'wheels', 'they', 'are', 'pretty', 'universal', 'if', 'the', 'bike', 'is', 'lower', 'quality', 'aftermarket', 'training', 'wheels', 'might', 'not', 'work', 'it', 'might', 'only', 'be', 'compatible', 'with', 'the', 'ones', 'that', 'would', 'have', 'come', 'with', 'it', 'some', 'brands', 'like', 'specialized', 'are', 'only', 'compatible', 'with', 'the', 'ones', 'that', 'are', 'designed', 'for', 'their', 'bikes', 'and', 'finally', 'some', 'brands', 'like', 'cleary', 'are', 'wheels', 'and', 'are', 'supposedly', 'not', 'compatible', 'with', 'any', 'training', 'wheel', 'if', 'you', 'post', 'a', 'picture', 'of', 'your', 'problem', 'we', 'might', 'be', 'able', 'to', 'help', 'sort', 'it', 'out', 'better', 'glue', 'both', 'the', 'patch', 'and', 'the', 'tube', 'and', 'let', 'it', 'sit', 'for', 'mins', 'before', 'sticking', 'together', 'it', 'should', 'not', 'be', 'even', 'a', 'bit', 'slippery', 'maybe', 'he', 'is', 'personally', 'insulted', 'by', 'leeks', 'i', 'for', 'one', 'love', 'their', 'oniony', 'goodness', 'and', 'feel', 'that', 'they', 'make', 'for', 'a', 'wonderful', 'addition', 'to', 'creamy', 'potato', 'cheddar', 'soup', 'you', 'also', 'have', 'to', 'wait', 'until', 'it', 'pretty', 'much', 'dry', 'but', 'still', 'sticky', 'before', 'sticking', 'them', 'together', 'hello', 'brother', 'tell', 'me', 'what', 'you', 'told', 'mom', 'and', 'dad', 'when', 'they', 'needed', 'a', 'room', 'to', 'stay', 'in', 'and', 'asked', 'you', 'for', 'help', 'and', 'that', 'will', 'be', 'your', 'answer', 'the', 'easiest', 'way', 'to', 'think', 'about', 'bb', 'is', 'as', 'though', 'they', 'are', 'adaptors', 'adapting', 'your', 'frame', 'to', 'your', 'crank', 'so', 'you', 'have', 'a', 'bsa', 'threaded', 'frame', 'and', 'you', 'currently', 'have', 'a', 'sram', 'gxp', 'crank', 'so', 'without', 'changing', 'your', 'bottom', 'bracket', 'would', 'have', 'to', 'get', 'a', 'crank', 'that', 'is', 'gxp', 'the', 'force', 'crank', 'with', 'crank', 'length', 'that', 'you', 'mentioned', 'would', 'work', 'fine', 'if', 'you', 'change', 'to', 'a', 'different', 'brand', 'of', 'crank', 'new', 'standard', 'i', 'looking', 'at', 'you', 'dub', 'you', 'would', 'potentially', 'most', 'likely', 'need', 'a', 'new', 'bottom', 'bracket', 'that', 'matches', 'that', 'standard', 'as', 'far', 'as', 'the', 'dub', 'axs', 'rival', 'crank', 'you', 'mentioned', 'i', 'do', 'think', 'the', 'speed', 'chain', 'would', 'play', 'well', 'with', 'the', 'speed', 'chainrings', 'and', 'if', 'you', 'put', 'the', 'speed', 'flat', 'top', 'chain', 'on', 'it', 'that', 'would', 'play', 'well', 'with', 'the', 'speed', 'rear', 'mech', 'sram', 'red', 'is', 'their', 'highest', 'level', 'of', 'road', 'components', 'when', 'you', 'look', 'at', 'their', 'numbering', 'convention', 'it', 'is', 'kinda', 'clear', 'for', 'their', 'cassettes', 'and', 'chains', 'they', 'have', 'the', 'speed', 'or', 'of', 'gears', 'followed', 'by', 'the', 'quality', 'for', 'a', 'speed', 'cassette', 'with', 'red', 'level', 'quality', 'it', 'will', 'have', 'a', 'like', 'and', 'the', 'chain', 'is', 'force', 'for', 'for', 'speed', 'chains', 'would', 'be', 'and', 'etc', 'as', 'for', 'anything', 'that', 'has', 'a', 'visual', 'impact', 'shifters', 'cranks', 'ders', 'it', 'will', 'absolutely', 'say', 'red', 'somewhere', 'on', 'it', 'in', 'the', 'past', 'years', 'it', 'seems', 'like', 'there', 'have', 'been', 'a', 'lot', 'fewer', 'generational', 'updates', 'to', 'than', 'anyway', 'the', 'denotes', 'the', 'highest', 'quality', 'in', 'sram', 'lineups', 'tubeless', 'sealant', 'ruins', 'clothes', 'that', 'my', 'final', 'answer', 'pretty', 'sure', 'it', 'switched', 'to', 'an', 'bolt', 'standard', 'similar', 'to', 'but', 'not', 'compatible', 'with', 'the', 'quark', 'crank', 'so', 'i', 'am', 'pretty', 'confident', 'there', 'is', 'no', 'way', 'to', 'get', 'your', 'last', 'gen', 'dm', 'quark', 'onto', 'a', 'axs', 'rival', 'force', 'or', 'red', 'crankset', 'url', 'speed', 'ultegra', 'is', 'when', 'they', 'updated', 'to', 'speed', 'it', 'changed', 'to', 'yeah', 'conti', 'does', 'support', 'local', 'bike', 'shops', 'and', 'does', 'not', 'protect', 'their', 'map', 'pretty', 'lame', 'to', 'be', 'honest', 'sucks', 'when', 'your', 'cost', 'is', 'higher', 'than', 'some', 'internet', 'only', 'tire', 'shop', 'in', 'south', 'ossetia', 'are', 'you', 'not', 'white', 'are', 'persons', 'of', 'color', 'less', 'able', 'to', 'control', 'their', 'emotions', 'what', 'a', 'stupid', 'ass', 'question', 'the', 'things', 'you', 'implied', 'with', 'it', 'are', 'just', 'dumb', 'you', 'could', 'also', 'try', 'wolf', 'tooth', 'goatlink', 'it', 'basically', 'extends', 'the', 'der', 'out', 'so', 'it', 'can', 'clear', 'more', 'works', 'pretty', 'well', 'nobody', 'lived', 'on', 'the', 'first', 'floor', 'of', 'that', 'building', 'in', 'fact', 'no', 'business', 'were', 'even', 'setup', 'yet', 'that', 'bottom', 'floor', 'corner', 'is', 'a', 'super', 'weird', 'business', 'spot', 'that', 'has', 'been', 'vacant', 'for', 'maybe', 'years', 'now', 'and', 'next', 'door', 'was', 'a', 'massage', 'parlor', 'that', 'was', 'abandoned', 'when', 'they', 'started', 'trying', 'to', 'renovate', 'the', 'building', 'and', 'next', 'to', 'that', 'was', 'the', 'empty', 'spot', 'where', 'coffee', 'with', 'a', 'beat', 'was', 'i', 'do', 'think', 'there', 'are', 'any', 'ground', 'floor', 'apartments', 'in', 'that', 'building', 'damn', 'busted', 'pipes', 'on', 'the', 'second', 'floor', 'that', 'total', 'bollocks', 'good', 'call', 'i', 'always', 'just', 'called', 'it', 'a', 'goatlink', 'because', 'you', 'can', 'climb', 'better', 'with', 'it', 'and', 'i', 'got', 'artsy', 'brains', 'like', 'that', 'alternative', 'was', 'really', 'even', 'commenting', 'on', 'your', 'comment', 'you', 'are', 'correct', 'they', 'should', 'not', 'have', 'changed', 'course', 'the', 'fact', 'of', 'the', 'matter', 'is', 'that', 'ukraine', 'is', 'fighting', 'a', 'literal', 'existential', 'war', 'for', 'their', 'literal', 'survival', 'against', 'an', 'invading', 'force', 'with', 'what', 'the', 'world', 'considered', 'a', 'far', 'superior', 'army', 'i', 'actually', 'do', 'understand', 'why', 'the', 'geneva', 'convention', 'would', 'apply', 'at', 'all', 'to', 'the', 'ukrainians', 'it', 'definitely', 'applies', 'to', 'the', 'russians', 'though', 'as', 'it', 'is', 'a', 'war', 'of', 'their', 'choice', 'and', 'they', 'are', 'driving', 'it', 'they', 'are', 'in', 'control', 'maybe', 'if', 'countries', 'agreed', 'to', 'war', 'and', 'the', 'rules', 'of', 'engagement', 'and', 'then', 'went', 'at', 'it', 'then', 'the', 'rules', 'would', 'apply', 'evenly', 'but', 'the', 'idea', 'that', 'you', 'are', 'not', 'going', 'to', 'protect', 'your', 'house', 'with', 'every', 'fiber', 'of', 'your', 'being', 'when', 'someone', 'comes', 'in', 'and', 'starts', 'killing', 'your', 'family', 'for', 'literally', 'no', 'reason', 'is', 'just', 'foolish', 'to', 'award', 'medals', 'or', 'what', 'yes', 'yes', 'war', 'is', 'the', 'very', 'cradle', 'of', 'civilized', 'and', 'thoughtful', 'action', 'i', 'can', 'not', 'even', 'fathom', 'revenge', 'on', 'soldiers', 'who', 'just', 'butchered', 'a', 'whole', 'city', 'completely', 'unacceptable', 'let', 'see', 'how', 'well', 'you', 'follow', 'the', 'geneva', 'conventions', 'after', 'you', 'see', 'a', 'pile', 'of', 'murdered', 'people', 'from', 'your', 'town', 'dumped', 'in', 'the', 'middle', 'of', 'the', 'street', 'like', 'trash', 'i', 'certain', 'you', 'will', 'hold', 'the', 'rule', 'of', 'law', 'over', 'your', 'own', 'personal', 'feelings', 'have', 'a', 'good', 'evening', 'take', 'it', 'to', 'your', 'local', 'powder', 'coater', 'and', 'get', 'it', 'powder', 'coated', 'what', 'ever', 'your', 'favorite', 'color', 'is', 'you', 'can', 'also', 'get', 'tone', 'powder', 'coats', 'that', 'are', 'pretty', 'unique', 'tell', 'me', 'how', 'many', 'of', 'these', 'russian', 'soldiers', 'will', 'be', 'prosecuted', 'for', 'their', 'crimes', 'by', 'the', 'icc', 'none', 'of', 'them', 'none', 'of', 'them', 'there', 'is', 'chance', 'of', 'justice', 'being', 'meted', 'out', 'by', 'an', 'impartial', 'international', 'court', 'to', 'these', 'war', 'criminals', 'i', 'fundamentally', 'agree', 'that', 'the', 'geneva', 'convention', 'are', 'a', 'good', 'thing', 'i', 'disagree', 'though', 'that', 'they', 'are', 'effective', 'in', 'any', 'way', 'shape', 'or', 'form', 'at', 'preventing', 'war']\n"
     ]
    }
   ],
   "source": [
    "words = [word for word in words if word.isalpha()]\n",
    "print(words)"
   ]
  },
  {
   "cell_type": "markdown",
   "metadata": {},
   "source": [
    "### Removing stopwords\n",
    "Stopwords are frequently occurring words in a language that are frequently omitted from natural language processing (NLP) tasks due to their low significance for deciphering textual meaning. The particular list of stopwords can change based on the language being studied and the context. The following is a broad list of stopword categories:\n",
    "\n",
    "*Common Stopwords*: These are the most frequently occurring words in a language and are often removed during text preprocessing. Examples include “the,” “is,” “in,” “for,” “where,” “when,” “to,” “at,” etc.\n",
    "\n",
    "*Custom Stopwords*: Depending on the specific task or domain, additional words may be considered as stopwords. These could be domain-specific terms that don’t contribute much to the overall meaning. For example, in a medical context, words like “patient” or “treatment” might be considered as custom stopwords.\n",
    "\n",
    "*Numerical Stopwords*: Numbers and numeric characters may be treated as stopwords in certain cases, especially when the analysis is focused on the meaning of the text rather than specific numerical values\n",
    "\n",
    "*Single-Character Stopwords*: Single characters, such as “a,” “I,” “s,” or “x,” may be considered stopwords, particularly in cases where they don’t convey much meaning on their own.\n",
    "\n",
    "*Contextual Stopwords*: Words that are stopwords in one context but meaningful in another may be considered as contextual stopwords. For instance, the word “will” might be a stopword in the context of general language processing but could be important in predicting future events."
   ]
  },
  {
   "cell_type": "code",
   "execution_count": 16,
   "metadata": {},
   "outputs": [
    {
     "name": "stdout",
     "output_type": "stream",
     "text": [
      "['wife', 'town', 'tell', 'kinda', 'hippy', 'pictures', 'rotor', 'appears', 'backwards', 'try', 'flip', 'around', 'super', 'cool', 'part', 'world', 'correct', 'great', 'ermahgherd', 'fists', 'flour', 'doughjo', 'laurel', 'pretty', 'good', 'pizza', 'slice', 'horrific', 'car', 'accident', 'avoided', 'film', 'years', 'face', 'scarred', 'basically', 'completely', 'changed', 'trajectory', 'acting', 'career', 'yeah', 'people', 'come', 'spiderman', 'knowing', 'least', 'small', 'bit', 'history', 'totally', 'new', 'story', 'confusing', 'hard', 'follow', 'mean', 'delicious', 'wait', 'mom', 'found', 'nudes', 'proceeded', 'show', 'rest', 'family', 'chill', 'would', 'go', 'grey', 'stone', 'communication', 'beyond', 'snooping', 'seriously', 'disgusting', 'bordering', 'unforgivable', 'mom', 'use', 'rag', 'snag', 'offending', 'material', 'also', 'protect', 'fingies', 'tire', 'levers', 'work', 'really', 'well', 'buy', 'money', 'tldr', 'start', 'relationship', 'bike', 'shop', 'bring', 'bike', 'ask', 'inspection', 'good', 'get', 'pack', 'beer', 'tell', 'see', 'couple', 'months', 'another', 'check', 'advise', 'certain', 'things', 'take', 'advice', 'seriously', 'good', 'relationship', 'lbs', 'makes', 'sort', 'anxiety', 'getting', 'tuneup', 'lot', 'less', 'trust', 'lbs', 'rake', 'coals', 'bucks', 'moved', 'go', 'urban', 'ore', 'berkeley', 'regardless', 'need', 'strange', 'wonderful', 'place', 'actual', 'product', 'called', 'deeznutz', 'ass', 'cream', 'riding', 'bikes', 'sometimes', 'takes', 'mule', 'team', 'pedal', 'backwards', 'shit', 'get', 'pot', 'tired', 'edged', 'never', 'ending', 'claim', 'trump', 'going', 'hate', 'hated', 'youre', 'fired', 'shit', 'lord', 'know', 'never', 'going', 'pay', 'transgressions', 'come', 'get', 'video', 'perp', 'walked', 'court', 'prison', 'would', 'willing', 'bet', 'vast', 'majority', 'shootings', 'listed', 'done', 'hand', 'guns', 'made', 'normal', 'manufacturers', 'ghost', 'guns', 'sure', 'mix', 'stolen', 'legally', 'owned', 'would', 'though', 'throw', 'ping', 'pong', 'balls', 'play', 'anything', 'metric', 'look', 'wald', 'training', 'wheels', 'pretty', 'universal', 'bike', 'lower', 'quality', 'aftermarket', 'training', 'wheels', 'might', 'work', 'might', 'compatible', 'ones', 'would', 'come', 'brands', 'like', 'specialized', 'compatible', 'ones', 'designed', 'bikes', 'finally', 'brands', 'like', 'cleary', 'wheels', 'supposedly', 'compatible', 'training', 'wheel', 'post', 'picture', 'problem', 'might', 'able', 'help', 'sort', 'better', 'glue', 'patch', 'tube', 'let', 'sit', 'mins', 'sticking', 'together', 'even', 'bit', 'slippery', 'maybe', 'personally', 'insulted', 'leeks', 'one', 'love', 'oniony', 'goodness', 'feel', 'make', 'wonderful', 'addition', 'creamy', 'potato', 'cheddar', 'soup', 'also', 'wait', 'pretty', 'much', 'dry', 'still', 'sticky', 'sticking', 'together', 'hello', 'brother', 'tell', 'told', 'mom', 'dad', 'needed', 'room', 'stay', 'asked', 'help', 'answer', 'easiest', 'way', 'think', 'bb', 'though', 'adaptors', 'adapting', 'frame', 'crank', 'bsa', 'threaded', 'frame', 'currently', 'sram', 'gxp', 'crank', 'without', 'changing', 'bottom', 'bracket', 'would', 'get', 'crank', 'gxp', 'force', 'crank', 'crank', 'length', 'mentioned', 'would', 'work', 'fine', 'change', 'different', 'brand', 'crank', 'new', 'standard', 'looking', 'dub', 'would', 'potentially', 'likely', 'need', 'new', 'bottom', 'bracket', 'matches', 'standard', 'far', 'dub', 'axs', 'rival', 'crank', 'mentioned', 'think', 'speed', 'chain', 'would', 'play', 'well', 'speed', 'chainrings', 'put', 'speed', 'flat', 'top', 'chain', 'would', 'play', 'well', 'speed', 'rear', 'mech', 'sram', 'red', 'highest', 'level', 'road', 'components', 'look', 'numbering', 'convention', 'kinda', 'clear', 'cassettes', 'chains', 'speed', 'gears', 'followed', 'quality', 'speed', 'cassette', 'red', 'level', 'quality', 'like', 'chain', 'force', 'speed', 'chains', 'would', 'etc', 'anything', 'visual', 'impact', 'shifters', 'cranks', 'ders', 'absolutely', 'say', 'red', 'somewhere', 'past', 'years', 'seems', 'like', 'lot', 'fewer', 'generational', 'updates', 'anyway', 'denotes', 'highest', 'quality', 'sram', 'lineups', 'tubeless', 'sealant', 'ruins', 'clothes', 'final', 'answer', 'pretty', 'sure', 'switched', 'bolt', 'standard', 'similar', 'compatible', 'quark', 'crank', 'pretty', 'confident', 'way', 'get', 'last', 'gen', 'dm', 'quark', 'onto', 'axs', 'rival', 'force', 'red', 'crankset', 'url', 'speed', 'ultegra', 'updated', 'speed', 'changed', 'yeah', 'conti', 'support', 'local', 'bike', 'shops', 'protect', 'map', 'pretty', 'lame', 'honest', 'sucks', 'cost', 'higher', 'internet', 'tire', 'shop', 'south', 'ossetia', 'white', 'persons', 'color', 'less', 'able', 'control', 'emotions', 'stupid', 'ass', 'question', 'things', 'implied', 'dumb', 'could', 'also', 'try', 'wolf', 'tooth', 'goatlink', 'basically', 'extends', 'der', 'clear', 'works', 'pretty', 'well', 'nobody', 'lived', 'first', 'floor', 'building', 'fact', 'business', 'even', 'setup', 'yet', 'bottom', 'floor', 'corner', 'super', 'weird', 'business', 'spot', 'vacant', 'maybe', 'years', 'next', 'door', 'massage', 'parlor', 'abandoned', 'started', 'trying', 'renovate', 'building', 'next', 'empty', 'spot', 'coffee', 'beat', 'think', 'ground', 'floor', 'apartments', 'building', 'damn', 'busted', 'pipes', 'second', 'floor', 'total', 'bollocks', 'good', 'call', 'always', 'called', 'goatlink', 'climb', 'better', 'got', 'artsy', 'brains', 'like', 'alternative', 'really', 'even', 'commenting', 'comment', 'correct', 'changed', 'course', 'fact', 'matter', 'ukraine', 'fighting', 'literal', 'existential', 'war', 'literal', 'survival', 'invading', 'force', 'world', 'considered', 'far', 'superior', 'army', 'actually', 'understand', 'geneva', 'convention', 'would', 'apply', 'ukrainians', 'definitely', 'applies', 'russians', 'though', 'war', 'choice', 'driving', 'control', 'maybe', 'countries', 'agreed', 'war', 'rules', 'engagement', 'went', 'rules', 'would', 'apply', 'evenly', 'idea', 'going', 'protect', 'house', 'every', 'fiber', 'someone', 'comes', 'starts', 'killing', 'family', 'literally', 'reason', 'foolish', 'award', 'medals', 'yes', 'yes', 'war', 'cradle', 'civilized', 'thoughtful', 'action', 'even', 'fathom', 'revenge', 'soldiers', 'butchered', 'whole', 'city', 'completely', 'unacceptable', 'let', 'see', 'well', 'follow', 'geneva', 'conventions', 'see', 'pile', 'murdered', 'people', 'town', 'dumped', 'middle', 'street', 'like', 'trash', 'certain', 'hold', 'rule', 'law', 'personal', 'feelings', 'good', 'evening', 'take', 'local', 'powder', 'coater', 'get', 'powder', 'coated', 'ever', 'favorite', 'color', 'also', 'get', 'tone', 'powder', 'coats', 'pretty', 'unique', 'tell', 'many', 'russian', 'soldiers', 'prosecuted', 'crimes', 'icc', 'none', 'none', 'chance', 'justice', 'meted', 'impartial', 'international', 'court', 'war', 'criminals', 'fundamentally', 'agree', 'geneva', 'convention', 'good', 'thing', 'disagree', 'though', 'effective', 'way', 'shape', 'form', 'preventing', 'war']\n"
     ]
    }
   ],
   "source": [
    "words = [word for word in words if word not in stopwords.words('english')]  #removes english stopwords\n",
    "print(words)"
   ]
  },
  {
   "cell_type": "code",
   "execution_count": 17,
   "metadata": {},
   "outputs": [
    {
     "name": "stdout",
     "output_type": "stream",
     "text": [
      "[('would', 12), ('speed', 9), ('pretty', 8), ('crank', 8), ('get', 7), ('good', 6), ('like', 6), ('war', 6), ('well', 5), ('tell', 4)]\n"
     ]
    }
   ],
   "source": [
    "word_freq = Counter(words)\n",
    "print(word_freq.most_common(10))"
   ]
  }
 ],
 "metadata": {
  "kernelspec": {
   "display_name": ".venv",
   "language": "python",
   "name": "python3"
  },
  "language_info": {
   "codemirror_mode": {
    "name": "ipython",
    "version": 3
   },
   "file_extension": ".py",
   "mimetype": "text/x-python",
   "name": "python",
   "nbconvert_exporter": "python",
   "pygments_lexer": "ipython3",
   "version": "3.12.8"
  }
 },
 "nbformat": 4,
 "nbformat_minor": 2
}
