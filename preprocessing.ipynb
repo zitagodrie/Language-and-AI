{
 "cells": [
  {
   "cell_type": "code",
   "execution_count": 2,
   "metadata": {},
   "outputs": [],
   "source": [
    "import numpy as np\n",
    "import pandas as pd\n",
    "import os\n",
    "import nltk\n",
    "import matplotlib.pyplot as plt\n",
    "import random\n",
    "from tqdm import tqdm"
   ]
  },
  {
   "cell_type": "code",
   "execution_count": 3,
   "metadata": {},
   "outputs": [
    {
     "data": {
      "text/plain": [
       "\"\\nfiles = os.listdir('data')\\ndct = dict()\\nfor file in files:\\n    path = os.path.join('data', file)\\n    df = pd.read_csv(path)\\n    dct[file] = df.shape\\n    print(df.head())\\n\\nprint(dct)\\n\""
      ]
     },
     "execution_count": 3,
     "metadata": {},
     "output_type": "execute_result"
    }
   ],
   "source": [
    "\"\"\"\n",
    "files = os.listdir('data')\n",
    "dct = dict()\n",
    "for file in files:\n",
    "    path = os.path.join('data', file)\n",
    "    df = pd.read_csv(path)\n",
    "    dct[file] = df.shape\n",
    "    print(df.head())\n",
    "\n",
    "print(dct)\n",
    "\"\"\""
   ]
  },
  {
   "cell_type": "code",
   "execution_count": 4,
   "metadata": {},
   "outputs": [
    {
     "data": {
      "text/html": [
       "<div>\n",
       "<style scoped>\n",
       "    .dataframe tbody tr th:only-of-type {\n",
       "        vertical-align: middle;\n",
       "    }\n",
       "\n",
       "    .dataframe tbody tr th {\n",
       "        vertical-align: top;\n",
       "    }\n",
       "\n",
       "    .dataframe thead th {\n",
       "        text-align: right;\n",
       "    }\n",
       "</style>\n",
       "<table border=\"1\" class=\"dataframe\">\n",
       "  <thead>\n",
       "    <tr style=\"text-align: right;\">\n",
       "      <th></th>\n",
       "      <th>auhtor_ID</th>\n",
       "      <th>post</th>\n",
       "      <th>birth_year</th>\n",
       "    </tr>\n",
       "  </thead>\n",
       "  <tbody>\n",
       "    <tr>\n",
       "      <th>28446</th>\n",
       "      <td>t2_9v6260me</td>\n",
       "      <td>a trope among this sub and almost everyone joi...</td>\n",
       "      <td>1948</td>\n",
       "    </tr>\n",
       "    <tr>\n",
       "      <th>28445</th>\n",
       "      <td>t2_9v6260me</td>\n",
       "      <td>door question” decorated with an extreme helpi...</td>\n",
       "      <td>1948</td>\n",
       "    </tr>\n",
       "    <tr>\n",
       "      <th>28444</th>\n",
       "      <td>t2_9v6260me</td>\n",
       "      <td>Unless you live at home, why would you put up ...</td>\n",
       "      <td>1948</td>\n",
       "    </tr>\n",
       "    <tr>\n",
       "      <th>28456</th>\n",
       "      <td>t2_9v6260me</td>\n",
       "      <td>my mind) any possibility of another religion b...</td>\n",
       "      <td>1948</td>\n",
       "    </tr>\n",
       "    <tr>\n",
       "      <th>28457</th>\n",
       "      <td>t2_9v6260me</td>\n",
       "      <td>and our mental health is linked to our physica...</td>\n",
       "      <td>1948</td>\n",
       "    </tr>\n",
       "  </tbody>\n",
       "</table>\n",
       "</div>"
      ],
      "text/plain": [
       "         auhtor_ID                                               post  \\\n",
       "28446  t2_9v6260me  a trope among this sub and almost everyone joi...   \n",
       "28445  t2_9v6260me  door question” decorated with an extreme helpi...   \n",
       "28444  t2_9v6260me  Unless you live at home, why would you put up ...   \n",
       "28456  t2_9v6260me  my mind) any possibility of another religion b...   \n",
       "28457  t2_9v6260me  and our mental health is linked to our physica...   \n",
       "\n",
       "       birth_year  \n",
       "28446        1948  \n",
       "28445        1948  \n",
       "28444        1948  \n",
       "28456        1948  \n",
       "28457        1948  "
      ]
     },
     "execution_count": 4,
     "metadata": {},
     "output_type": "execute_result"
    }
   ],
   "source": [
    "path = 'data/birth_year.csv'\n",
    "df_birthyear = pd.read_csv(path)\n",
    "df_birthyear.sort_values(by=\"birth_year\", ascending=True, inplace=True)\n",
    "df_birthyear.head()"
   ]
  },
  {
   "cell_type": "code",
   "execution_count": 5,
   "metadata": {},
   "outputs": [
    {
     "data": {
      "image/png": "[encoded data removed]",
      "text/plain": [
       "<Figure size 1000x600 with 1 Axes>"
      ]
     },
     "metadata": {},
     "output_type": "display_data"
    }
   ],
   "source": [
    "# plot a piechart with birth years\n",
    "df_count = df_birthyear.value_counts('birth_year').sort_index()\n",
    "fig = plt.figure(figsize=(10, 6))\n",
    "ax = df_count.plot.bar()\n",
    "plt.title('Birth Year Distribution');"
   ]
  },
  {
   "cell_type": "markdown",
   "metadata": {},
   "source": [
    "Continue with this website, implement the spacy things to clean the data: https://course.spacy.io/en/chapter1"
   ]
  },
  {
   "cell_type": "markdown",
   "metadata": {},
   "source": [
    "# Preprocessing using nltk"
   ]
  },
  {
   "cell_type": "code",
   "execution_count": 8,
   "metadata": {},
   "outputs": [
    {
     "name": "stderr",
     "output_type": "stream",
     "text": [
      "[nltk_data] Downloading package stopwords to\n",
      "[nltk_data]     C:\\Users\\zitag\\AppData\\Roaming\\nltk_data...\n",
      "[nltk_data]   Package stopwords is already up-to-date!\n",
      "[nltk_data] Downloading package punkt_tab to\n",
      "[nltk_data]     C:\\Users\\zitag\\AppData\\Roaming\\nltk_data...\n",
      "[nltk_data]   Package punkt_tab is already up-to-date!\n"
     ]
    }
   ],
   "source": [
    "from nltk.tokenize import word_tokenize\n",
    "from nltk.corpus import stopwords\n",
    "from nltk.stem import PorterStemmer\n",
    "from collections import Counter\n",
    "nltk.download('stopwords')\n",
    "nltk.download('punkt_tab')\n",
    "import contractions\n",
    "import unicodedata\n",
    "import re"
   ]
  },
  {
   "cell_type": "code",
   "execution_count": 13,
   "metadata": {},
   "outputs": [
    {
     "name": "stderr",
     "output_type": "stream",
     "text": [
      "100%|██████████| 41873/41873 [14:23<00:00, 48.49it/s]\n"
     ]
    }
   ],
   "source": [
    "df_birthyear['clean_post'] = np.nan\n",
    "\n",
    "stemmer = PorterStemmer()\n",
    "stop_words = set(stopwords.words('english'))\n",
    "\n",
    "def clean_post(post):\n",
    "    words = word_tokenize(post.lower())\n",
    "    words = [contractions.fix(word) for word in words]\n",
    "    words = [unicodedata.normalize('NFKD', word).encode('ASCII', 'ignore').decode('utf-8') for word in words]\n",
    "    words = [re.sub(r\"(https|http)?:\\S*\", \"\", word) for word in words]\n",
    "    words = [word for word in words if word.isalpha()]\n",
    "    words = [word for word in words if word not in stop_words]\n",
    "    words = [stemmer.stem(word) for word in words]\n",
    "    return str(words)\n",
    "\n",
    "tqdm.pandas()\n",
    "df_birthyear['clean_post'] = df_birthyear['post'].progress_apply(clean_post)"
   ]
  },
  {
   "cell_type": "code",
   "execution_count": 14,
   "metadata": {},
   "outputs": [
    {
     "data": {
      "text/html": [
       "<div>\n",
       "<style scoped>\n",
       "    .dataframe tbody tr th:only-of-type {\n",
       "        vertical-align: middle;\n",
       "    }\n",
       "\n",
       "    .dataframe tbody tr th {\n",
       "        vertical-align: top;\n",
       "    }\n",
       "\n",
       "    .dataframe thead th {\n",
       "        text-align: right;\n",
       "    }\n",
       "</style>\n",
       "<table border=\"1\" class=\"dataframe\">\n",
       "  <thead>\n",
       "    <tr style=\"text-align: right;\">\n",
       "      <th></th>\n",
       "      <th>auhtor_ID</th>\n",
       "      <th>post</th>\n",
       "      <th>birth_year</th>\n",
       "      <th>clean_post</th>\n",
       "    </tr>\n",
       "  </thead>\n",
       "  <tbody>\n",
       "    <tr>\n",
       "      <th>28446</th>\n",
       "      <td>t2_9v6260me</td>\n",
       "      <td>a trope among this sub and almost everyone joi...</td>\n",
       "      <td>1948</td>\n",
       "      <td>['trope', 'among', 'sub', 'almost', 'everyon',...</td>\n",
       "    </tr>\n",
       "    <tr>\n",
       "      <th>28445</th>\n",
       "      <td>t2_9v6260me</td>\n",
       "      <td>door question” decorated with an extreme helpi...</td>\n",
       "      <td>1948</td>\n",
       "      <td>['door', 'question', 'decor', 'extrem', 'help'...</td>\n",
       "    </tr>\n",
       "    <tr>\n",
       "      <th>28444</th>\n",
       "      <td>t2_9v6260me</td>\n",
       "      <td>Unless you live at home, why would you put up ...</td>\n",
       "      <td>1948</td>\n",
       "      <td>['unless', 'live', 'home', 'would', 'put', 'ki...</td>\n",
       "    </tr>\n",
       "    <tr>\n",
       "      <th>28456</th>\n",
       "      <td>t2_9v6260me</td>\n",
       "      <td>my mind) any possibility of another religion b...</td>\n",
       "      <td>1948</td>\n",
       "      <td>['mind', 'possibl', 'anoth', 'religion', 'wort...</td>\n",
       "    </tr>\n",
       "    <tr>\n",
       "      <th>28457</th>\n",
       "      <td>t2_9v6260me</td>\n",
       "      <td>and our mental health is linked to our physica...</td>\n",
       "      <td>1948</td>\n",
       "      <td>['mental', 'health', 'link', 'physic', 'health...</td>\n",
       "    </tr>\n",
       "  </tbody>\n",
       "</table>\n",
       "</div>"
      ],
      "text/plain": [
       "         auhtor_ID                                               post  \\\n",
       "28446  t2_9v6260me  a trope among this sub and almost everyone joi...   \n",
       "28445  t2_9v6260me  door question” decorated with an extreme helpi...   \n",
       "28444  t2_9v6260me  Unless you live at home, why would you put up ...   \n",
       "28456  t2_9v6260me  my mind) any possibility of another religion b...   \n",
       "28457  t2_9v6260me  and our mental health is linked to our physica...   \n",
       "\n",
       "       birth_year                                         clean_post  \n",
       "28446        1948  ['trope', 'among', 'sub', 'almost', 'everyon',...  \n",
       "28445        1948  ['door', 'question', 'decor', 'extrem', 'help'...  \n",
       "28444        1948  ['unless', 'live', 'home', 'would', 'put', 'ki...  \n",
       "28456        1948  ['mind', 'possibl', 'anoth', 'religion', 'wort...  \n",
       "28457        1948  ['mental', 'health', 'link', 'physic', 'health...  "
      ]
     },
     "execution_count": 14,
     "metadata": {},
     "output_type": "execute_result"
    }
   ],
   "source": [
    "df_birthyear.head()"
   ]
  },
  {
   "cell_type": "code",
   "execution_count": 15,
   "metadata": {},
   "outputs": [],
   "source": [
    "# to pickle\n",
    "df_birthyear.to_pickle('df_birthyear.pkl')"
   ]
  },
  {
   "cell_type": "markdown",
   "metadata": {},
   "source": [
    "## Function breakdown"
   ]
  },
  {
   "cell_type": "code",
   "execution_count": 16,
   "metadata": {},
   "outputs": [
    {
     "name": "stdout",
     "output_type": "stream",
     "text": [
      "remember where I was and what I was doing when I heard the news. There was something about it that made it very sad compared to the numerous untimely deaths of celebrities that make the news. I suspect what made it so sad was how much he was enjoying life after basketball. He came off as so competitive that some thought that he would have trouble with life after basketball but it was quite the opposite. Why does the reason even matter if you've made up your mind that you're going to block him on everything? INFO: Why was Shaun's ex there? How did your relationship with Shaun start. Your MIL could have dragged the chair from the kitchen. What were you supposed to do? There were no chairs. Did they think you would have just left and went home since there were no chairs? It's almost as if they just didn't want you to be there. It may not be that simple though. What if Julissa had kids with Shaun (which is why she's there with Shaun) and Shaun's relationship with the OP started as an affair when Shaun was married to Julissa which is why Shaun's family doesn't like the OP? This is why I asked for more information. Maybe Shaun had kids with Julissa and Shaun's family hates the OP so much because their relationship started as the OP being the other woman. The OP is conveniently leaving lots of information out too. These Redditors have no life experience and were too simple-minded to notice too. How did your relationship with Shaun start? This is as manipulative as it gets. Would they have done the same thing if you guys were Vegan for reasons unrelated to religion? Most likely not. NTA and your wife's family actually owes you guys an apology. That is one of many possibilities. You seem to lack the intellectual capacity to understand that the point of my comment is that there are very logical reasons why the Shaun's ex would be there. There are also very logical reasons why Shaun's family dislikes the OP. The MIL is acting childish and there's no doubt about that but for all we know, the reasons why Shaun's MIL are so logical and understandable that we may be questioning why the OP would even consider going to their house for family gatherings. Is it really that hard to understand that there is lots of information the OP is leaving out though? Is it also really that difficult to remember that this is from the OP's point of view? The OP talks about how her MIL give her passive aggressive jabs. Parents typically don't act rude towards the signficant others of their children for no reason. If they do, it's usually because they know that it isn't in their son or daughter's best interest to be with them. That in itself should have raised some questions but the hivemind has no life experience which is why they didn't ask the questions that needed to be asked. Someone is welcome to challenge me on this but I suspect Daws' struggles last season may have rattled his confidence. Goalie is a very psychological position so it's typically not good for someone's development to keep calling them up just for them to have a whole new set of struggles. As good Daws was in some of his starts last season, he was awful on the road. That was how you can sum him up last season. Ask the person who their joke writer is and/or tell them you would like to meet their joke writer after complimenting their zings. They want to go on dates, not be a penpal for someone that is milking them for attention and validation. Is this really hard to understand? It takes more time getting a feel for a person through messaging than it does getting a feel for them when you see them in person. I saw that explanation in comments somewhere. This OP must not understand that there aren't local professional or even big-time college sports teams everywhere in the country. &gt;“your team?” This part is creepy at any level. I'll never refer to my favorite sports teams as \"my team\" or refer to them as \"we\". Why are you defending your inefficient process so much? Maybe because you know it's inefficient? Okay. Good luck with finding a pen pa....I mean relationship. You can't take a joke? You must be a delight to be in a relationship with. Forward my salutations to your cats. It's quite pathetic. And then there are the ones who are telling the OP he's overthinking it because they want to be able to justify talking to their exes while in a relationship. &gt;send of humor Send of humor? What's that? &gt;lmao You're too lame to laugh at your own jokes. You were so offended by me suggesting that you do online dating to look for pen pals (even jokingly) because you know that you do. My comment (which was meant to be a joke) triggered you because it called you out on something you do. Your need to text before meeting isn't your \"screening process\". You just want pen pals to give you attention and validation. I would never have suggested this if you didn't react the way you did to my comment which was clearly a joke. &gt;you must kill it with the ladies If the things I say turn off people like yourself, I need to keep doing what I'm doing. Have fun downvoting this comment which actually confirms how inferior you are to me. This is a really good point. Why would Elaine think a woman who is dating George and barely knows her buy a big salad she asked for? Plus, why wouldn't Elaine discuss reimbursement? EDIT: wouldn't It all depends on what your definition of the \"right guy\" is. You did the right thing except mentioning how you would like to be friends. If he thinks you just wanted a free meal, what does it matter to you? Move on. If you want to make friends, don't do it by going on dates. Okay. That's really vague. Is it safe to say that her having such a preference means that you along with other members of the friend group aren't bothered by it as long as you don't have to hear about her whining about feeling unsatisfied with her dating life? Be \"brutally honest\" with people like this and enjoy watching them not be able to handle it. The other part of this is that everyone cares what others think to some degree. For example, would you say that you don't care if your coworkers think you're dishonest or incompetent? It would be very difficult to accomplish your job tasks within a team setting if your coworkers view and treat you like someone who is dishonest and/or incompetent. There's a huge difference between not wanting others to think you're dishonest when you try to be honest for the most part and not wanting others to think you're boring or a dweeb. How they're always on time for work and/or social engagements. What if them thinking that of you creates hurdles that wouldn't be there if they didn't think that of you? So then it's not about being offended. It's about not wanting your life to be more difficult than it has to be. That's one example though. There's examples outside of the workplace where not wanting people to think certain things about you can be because you don't want to deal with unnecessary hurdles. My overall point is that even the people who actually care the least about what others think of them actually do care to a certain degree even for just functionality reasons. What are you talking about? The things I'm suggesting are pretty simple and instead of providing an intelligent response to them (most likely because you lack the intellectual capacity to do so) you're writing this responses to make yourself look like this wise, free thinking person. I'm not sure if your intelligence is below average or if you're trolling but I'm respectfully asking you to bother someone else with your grammatically incorrect responses that demonstrate a lack of understanding of what I'm suggesting. How much you want to bet this OP is the type to bitch and complain when they don't receive responses to their messages promptly enough? I (35M) I suspect the therapist either didn't say that or she talked to the therapist about the relationship but made it look toxic enough to where the therapist would say such a thing. It doesn't sound like the relationship has been toxic but if you mention the negative and exaggerate it, it will sound toxic to the therapist. Whether it's subconscious or not, she made up her mind what she and needed the therapist to justify it to herself. Even if you guys stayed together, she would have found a\n"
     ]
    }
   ],
   "source": [
    "i = random.randint(0, len(df_birthyear))\n",
    "post = df_birthyear['post'][i]\n",
    "print(post)"
   ]
  },
  {
   "cell_type": "markdown",
   "metadata": {},
   "source": [
    "### Tokenization\n",
    "split the sentence up in to smaller part, here it is split up into words"
   ]
  },
  {
   "cell_type": "code",
   "execution_count": 17,
   "metadata": {},
   "outputs": [
    {
     "name": "stdout",
     "output_type": "stream",
     "text": [
      "['remember', 'where', 'i', 'was', 'and', 'what', 'i', 'was', 'doing', 'when', 'i', 'heard', 'the', 'news', '.', 'there', 'was', 'something', 'about', 'it', 'that', 'made', 'it', 'very', 'sad', 'compared', 'to', 'the', 'numerous', 'untimely', 'deaths', 'of', 'celebrities', 'that', 'make', 'the', 'news', '.', 'i', 'suspect', 'what', 'made', 'it', 'so', 'sad', 'was', 'how', 'much', 'he', 'was', 'enjoying', 'life', 'after', 'basketball', '.', 'he', 'came', 'off', 'as', 'so', 'competitive', 'that', 'some', 'thought', 'that', 'he', 'would', 'have', 'trouble', 'with', 'life', 'after', 'basketball', 'but', 'it', 'was', 'quite', 'the', 'opposite', '.', 'why', 'does', 'the', 'reason', 'even', 'matter', 'if', 'you', \"'ve\", 'made', 'up', 'your', 'mind', 'that', 'you', \"'re\", 'going', 'to', 'block', 'him', 'on', 'everything', '?', 'info', ':', 'why', 'was', 'shaun', \"'s\", 'ex', 'there', '?', 'how', 'did', 'your', 'relationship', 'with', 'shaun', 'start', '.', 'your', 'mil', 'could', 'have', 'dragged', 'the', 'chair', 'from', 'the', 'kitchen', '.', 'what', 'were', 'you', 'supposed', 'to', 'do', '?', 'there', 'were', 'no', 'chairs', '.', 'did', 'they', 'think', 'you', 'would', 'have', 'just', 'left', 'and', 'went', 'home', 'since', 'there', 'were', 'no', 'chairs', '?', 'it', \"'s\", 'almost', 'as', 'if', 'they', 'just', 'did', \"n't\", 'want', 'you', 'to', 'be', 'there', '.', 'it', 'may', 'not', 'be', 'that', 'simple', 'though', '.', 'what', 'if', 'julissa', 'had', 'kids', 'with', 'shaun', '(', 'which', 'is', 'why', 'she', \"'s\", 'there', 'with', 'shaun', ')', 'and', 'shaun', \"'s\", 'relationship', 'with', 'the', 'op', 'started', 'as', 'an', 'affair', 'when', 'shaun', 'was', 'married', 'to', 'julissa', 'which', 'is', 'why', 'shaun', \"'s\", 'family', 'does', \"n't\", 'like', 'the', 'op', '?', 'this', 'is', 'why', 'i', 'asked', 'for', 'more', 'information', '.', 'maybe', 'shaun', 'had', 'kids', 'with', 'julissa', 'and', 'shaun', \"'s\", 'family', 'hates', 'the', 'op', 'so', 'much', 'because', 'their', 'relationship', 'started', 'as', 'the', 'op', 'being', 'the', 'other', 'woman', '.', 'the', 'op', 'is', 'conveniently', 'leaving', 'lots', 'of', 'information', 'out', 'too', '.', 'these', 'redditors', 'have', 'no', 'life', 'experience', 'and', 'were', 'too', 'simple-minded', 'to', 'notice', 'too', '.', 'how', 'did', 'your', 'relationship', 'with', 'shaun', 'start', '?', 'this', 'is', 'as', 'manipulative', 'as', 'it', 'gets', '.', 'would', 'they', 'have', 'done', 'the', 'same', 'thing', 'if', 'you', 'guys', 'were', 'vegan', 'for', 'reasons', 'unrelated', 'to', 'religion', '?', 'most', 'likely', 'not', '.', 'nta', 'and', 'your', 'wife', \"'s\", 'family', 'actually', 'owes', 'you', 'guys', 'an', 'apology', '.', 'that', 'is', 'one', 'of', 'many', 'possibilities', '.', 'you', 'seem', 'to', 'lack', 'the', 'intellectual', 'capacity', 'to', 'understand', 'that', 'the', 'point', 'of', 'my', 'comment', 'is', 'that', 'there', 'are', 'very', 'logical', 'reasons', 'why', 'the', 'shaun', \"'s\", 'ex', 'would', 'be', 'there', '.', 'there', 'are', 'also', 'very', 'logical', 'reasons', 'why', 'shaun', \"'s\", 'family', 'dislikes', 'the', 'op', '.', 'the', 'mil', 'is', 'acting', 'childish', 'and', 'there', \"'s\", 'no', 'doubt', 'about', 'that', 'but', 'for', 'all', 'we', 'know', ',', 'the', 'reasons', 'why', 'shaun', \"'s\", 'mil', 'are', 'so', 'logical', 'and', 'understandable', 'that', 'we', 'may', 'be', 'questioning', 'why', 'the', 'op', 'would', 'even', 'consider', 'going', 'to', 'their', 'house', 'for', 'family', 'gatherings', '.', 'is', 'it', 'really', 'that', 'hard', 'to', 'understand', 'that', 'there', 'is', 'lots', 'of', 'information', 'the', 'op', 'is', 'leaving', 'out', 'though', '?', 'is', 'it', 'also', 'really', 'that', 'difficult', 'to', 'remember', 'that', 'this', 'is', 'from', 'the', 'op', \"'s\", 'point', 'of', 'view', '?', 'the', 'op', 'talks', 'about', 'how', 'her', 'mil', 'give', 'her', 'passive', 'aggressive', 'jabs', '.', 'parents', 'typically', 'do', \"n't\", 'act', 'rude', 'towards', 'the', 'signficant', 'others', 'of', 'their', 'children', 'for', 'no', 'reason', '.', 'if', 'they', 'do', ',', 'it', \"'s\", 'usually', 'because', 'they', 'know', 'that', 'it', 'is', \"n't\", 'in', 'their', 'son', 'or', 'daughter', \"'s\", 'best', 'interest', 'to', 'be', 'with', 'them', '.', 'that', 'in', 'itself', 'should', 'have', 'raised', 'some', 'questions', 'but', 'the', 'hivemind', 'has', 'no', 'life', 'experience', 'which', 'is', 'why', 'they', 'did', \"n't\", 'ask', 'the', 'questions', 'that', 'needed', 'to', 'be', 'asked', '.', 'someone', 'is', 'welcome', 'to', 'challenge', 'me', 'on', 'this', 'but', 'i', 'suspect', 'daws', \"'\", 'struggles', 'last', 'season', 'may', 'have', 'rattled', 'his', 'confidence', '.', 'goalie', 'is', 'a', 'very', 'psychological', 'position', 'so', 'it', \"'s\", 'typically', 'not', 'good', 'for', 'someone', \"'s\", 'development', 'to', 'keep', 'calling', 'them', 'up', 'just', 'for', 'them', 'to', 'have', 'a', 'whole', 'new', 'set', 'of', 'struggles', '.', 'as', 'good', 'daws', 'was', 'in', 'some', 'of', 'his', 'starts', 'last', 'season', ',', 'he', 'was', 'awful', 'on', 'the', 'road', '.', 'that', 'was', 'how', 'you', 'can', 'sum', 'him', 'up', 'last', 'season', '.', 'ask', 'the', 'person', 'who', 'their', 'joke', 'writer', 'is', 'and/or', 'tell', 'them', 'you', 'would', 'like', 'to', 'meet', 'their', 'joke', 'writer', 'after', 'complimenting', 'their', 'zings', '.', 'they', 'want', 'to', 'go', 'on', 'dates', ',', 'not', 'be', 'a', 'penpal', 'for', 'someone', 'that', 'is', 'milking', 'them', 'for', 'attention', 'and', 'validation', '.', 'is', 'this', 'really', 'hard', 'to', 'understand', '?', 'it', 'takes', 'more', 'time', 'getting', 'a', 'feel', 'for', 'a', 'person', 'through', 'messaging', 'than', 'it', 'does', 'getting', 'a', 'feel', 'for', 'them', 'when', 'you', 'see', 'them', 'in', 'person', '.', 'i', 'saw', 'that', 'explanation', 'in', 'comments', 'somewhere', '.', 'this', 'op', 'must', 'not', 'understand', 'that', 'there', 'are', \"n't\", 'local', 'professional', 'or', 'even', 'big-time', 'college', 'sports', 'teams', 'everywhere', 'in', 'the', 'country', '.', '&', 'gt', ';', '“', 'your', 'team', '?', '”', 'this', 'part', 'is', 'creepy', 'at', 'any', 'level', '.', 'i', \"'ll\", 'never', 'refer', 'to', 'my', 'favorite', 'sports', 'teams', 'as', '``', 'my', 'team', \"''\", 'or', 'refer', 'to', 'them', 'as', '``', 'we', \"''\", '.', 'why', 'are', 'you', 'defending', 'your', 'inefficient', 'process', 'so', 'much', '?', 'maybe', 'because', 'you', 'know', 'it', \"'s\", 'inefficient', '?', 'okay', '.', 'good', 'luck', 'with', 'finding', 'a', 'pen', 'pa', '....', 'i', 'mean', 'relationship', '.', 'you', 'ca', \"n't\", 'take', 'a', 'joke', '?', 'you', 'must', 'be', 'a', 'delight', 'to', 'be', 'in', 'a', 'relationship', 'with', '.', 'forward', 'my', 'salutations', 'to', 'your', 'cats', '.', 'it', \"'s\", 'quite', 'pathetic', '.', 'and', 'then', 'there', 'are', 'the', 'ones', 'who', 'are', 'telling', 'the', 'op', 'he', \"'s\", 'overthinking', 'it', 'because', 'they', 'want', 'to', 'be', 'able', 'to', 'justify', 'talking', 'to', 'their', 'exes', 'while', 'in', 'a', 'relationship', '.', '&', 'gt', ';', 'send', 'of', 'humor', 'send', 'of', 'humor', '?', 'what', \"'s\", 'that', '?', '&', 'gt', ';', 'lmao', 'you', \"'re\", 'too', 'lame', 'to', 'laugh', 'at', 'your', 'own', 'jokes', '.', 'you', 'were', 'so', 'offended', 'by', 'me', 'suggesting', 'that', 'you', 'do', 'online', 'dating', 'to', 'look', 'for', 'pen', 'pals', '(', 'even', 'jokingly', ')', 'because', 'you', 'know', 'that', 'you', 'do', '.', 'my', 'comment', '(', 'which', 'was', 'meant', 'to', 'be', 'a', 'joke', ')', 'triggered', 'you', 'because', 'it', 'called', 'you', 'out', 'on', 'something', 'you', 'do', '.', 'your', 'need', 'to', 'text', 'before', 'meeting', 'is', \"n't\", 'your', '``', 'screening', 'process', \"''\", '.', 'you', 'just', 'want', 'pen', 'pals', 'to', 'give', 'you', 'attention', 'and', 'validation', '.', 'i', 'would', 'never', 'have', 'suggested', 'this', 'if', 'you', 'did', \"n't\", 'react', 'the', 'way', 'you', 'did', 'to', 'my', 'comment', 'which', 'was', 'clearly', 'a', 'joke', '.', '&', 'gt', ';', 'you', 'must', 'kill', 'it', 'with', 'the', 'ladies', 'if', 'the', 'things', 'i', 'say', 'turn', 'off', 'people', 'like', 'yourself', ',', 'i', 'need', 'to', 'keep', 'doing', 'what', 'i', \"'m\", 'doing', '.', 'have', 'fun', 'downvoting', 'this', 'comment', 'which', 'actually', 'confirms', 'how', 'inferior', 'you', 'are', 'to', 'me', '.', 'this', 'is', 'a', 'really', 'good', 'point', '.', 'why', 'would', 'elaine', 'think', 'a', 'woman', 'who', 'is', 'dating', 'george', 'and', 'barely', 'knows', 'her', 'buy', 'a', 'big', 'salad', 'she', 'asked', 'for', '?', 'plus', ',', 'why', 'would', \"n't\", 'elaine', 'discuss', 'reimbursement', '?', 'edit', ':', 'would', \"n't\", 'it', 'all', 'depends', 'on', 'what', 'your', 'definition', 'of', 'the', '``', 'right', 'guy', \"''\", 'is', '.', 'you', 'did', 'the', 'right', 'thing', 'except', 'mentioning', 'how', 'you', 'would', 'like', 'to', 'be', 'friends', '.', 'if', 'he', 'thinks', 'you', 'just', 'wanted', 'a', 'free', 'meal', ',', 'what', 'does', 'it', 'matter', 'to', 'you', '?', 'move', 'on', '.', 'if', 'you', 'want', 'to', 'make', 'friends', ',', 'do', \"n't\", 'do', 'it', 'by', 'going', 'on', 'dates', '.', 'okay', '.', 'that', \"'s\", 'really', 'vague', '.', 'is', 'it', 'safe', 'to', 'say', 'that', 'her', 'having', 'such', 'a', 'preference', 'means', 'that', 'you', 'along', 'with', 'other', 'members', 'of', 'the', 'friend', 'group', 'are', \"n't\", 'bothered', 'by', 'it', 'as', 'long', 'as', 'you', 'do', \"n't\", 'have', 'to', 'hear', 'about', 'her', 'whining', 'about', 'feeling', 'unsatisfied', 'with', 'her', 'dating', 'life', '?', 'be', '``', 'brutally', 'honest', \"''\", 'with', 'people', 'like', 'this', 'and', 'enjoy', 'watching', 'them', 'not', 'be', 'able', 'to', 'handle', 'it', '.', 'the', 'other', 'part', 'of', 'this', 'is', 'that', 'everyone', 'cares', 'what', 'others', 'think', 'to', 'some', 'degree', '.', 'for', 'example', ',', 'would', 'you', 'say', 'that', 'you', 'do', \"n't\", 'care', 'if', 'your', 'coworkers', 'think', 'you', \"'re\", 'dishonest', 'or', 'incompetent', '?', 'it', 'would', 'be', 'very', 'difficult', 'to', 'accomplish', 'your', 'job', 'tasks', 'within', 'a', 'team', 'setting', 'if', 'your', 'coworkers', 'view', 'and', 'treat', 'you', 'like', 'someone', 'who', 'is', 'dishonest', 'and/or', 'incompetent', '.', 'there', \"'s\", 'a', 'huge', 'difference', 'between', 'not', 'wanting', 'others', 'to', 'think', 'you', \"'re\", 'dishonest', 'when', 'you', 'try', 'to', 'be', 'honest', 'for', 'the', 'most', 'part', 'and', 'not', 'wanting', 'others', 'to', 'think', 'you', \"'re\", 'boring', 'or', 'a', 'dweeb', '.', 'how', 'they', \"'re\", 'always', 'on', 'time', 'for', 'work', 'and/or', 'social', 'engagements', '.', 'what', 'if', 'them', 'thinking', 'that', 'of', 'you', 'creates', 'hurdles', 'that', 'would', \"n't\", 'be', 'there', 'if', 'they', 'did', \"n't\", 'think', 'that', 'of', 'you', '?', 'so', 'then', 'it', \"'s\", 'not', 'about', 'being', 'offended', '.', 'it', \"'s\", 'about', 'not', 'wanting', 'your', 'life', 'to', 'be', 'more', 'difficult', 'than', 'it', 'has', 'to', 'be', '.', 'that', \"'s\", 'one', 'example', 'though', '.', 'there', \"'s\", 'examples', 'outside', 'of', 'the', 'workplace', 'where', 'not', 'wanting', 'people', 'to', 'think', 'certain', 'things', 'about', 'you', 'can', 'be', 'because', 'you', 'do', \"n't\", 'want', 'to', 'deal', 'with', 'unnecessary', 'hurdles', '.', 'my', 'overall', 'point', 'is', 'that', 'even', 'the', 'people', 'who', 'actually', 'care', 'the', 'least', 'about', 'what', 'others', 'think', 'of', 'them', 'actually', 'do', 'care', 'to', 'a', 'certain', 'degree', 'even', 'for', 'just', 'functionality', 'reasons', '.', 'what', 'are', 'you', 'talking', 'about', '?', 'the', 'things', 'i', \"'m\", 'suggesting', 'are', 'pretty', 'simple', 'and', 'instead', 'of', 'providing', 'an', 'intelligent', 'response', 'to', 'them', '(', 'most', 'likely', 'because', 'you', 'lack', 'the', 'intellectual', 'capacity', 'to', 'do', 'so', ')', 'you', \"'re\", 'writing', 'this', 'responses', 'to', 'make', 'yourself', 'look', 'like', 'this', 'wise', ',', 'free', 'thinking', 'person', '.', 'i', \"'m\", 'not', 'sure', 'if', 'your', 'intelligence', 'is', 'below', 'average', 'or', 'if', 'you', \"'re\", 'trolling', 'but', 'i', \"'m\", 'respectfully', 'asking', 'you', 'to', 'bother', 'someone', 'else', 'with', 'your', 'grammatically', 'incorrect', 'responses', 'that', 'demonstrate', 'a', 'lack', 'of', 'understanding', 'of', 'what', 'i', \"'m\", 'suggesting', '.', 'how', 'much', 'you', 'want', 'to', 'bet', 'this', 'op', 'is', 'the', 'type', 'to', 'bitch', 'and', 'complain', 'when', 'they', 'do', \"n't\", 'receive', 'responses', 'to', 'their', 'messages', 'promptly', 'enough', '?', 'i', '(', '35m', ')', 'i', 'suspect', 'the', 'therapist', 'either', 'did', \"n't\", 'say', 'that', 'or', 'she', 'talked', 'to', 'the', 'therapist', 'about', 'the', 'relationship', 'but', 'made', 'it', 'look', 'toxic', 'enough', 'to', 'where', 'the', 'therapist', 'would', 'say', 'such', 'a', 'thing', '.', 'it', 'does', \"n't\", 'sound', 'like', 'the', 'relationship', 'has', 'been', 'toxic', 'but', 'if', 'you', 'mention', 'the', 'negative', 'and', 'exaggerate', 'it', ',', 'it', 'will', 'sound', 'toxic', 'to', 'the', 'therapist', '.', 'whether', 'it', \"'s\", 'subconscious', 'or', 'not', ',', 'she', 'made', 'up', 'her', 'mind', 'what', 'she', 'and', 'needed', 'the', 'therapist', 'to', 'justify', 'it', 'to', 'herself', '.', 'even', 'if', 'you', 'guys', 'stayed', 'together', ',', 'she', 'would', 'have', 'found', 'a']\n"
     ]
    }
   ],
   "source": [
    "words = word_tokenize(post.lower())\n",
    "print(words)"
   ]
  },
  {
   "cell_type": "markdown",
   "metadata": {},
   "source": [
    "### Removing all characters except letters\n",
    "\n",
    "idea: maybe we should keep exclamantion/question marks and other characters, like ;) that could predict age potentially"
   ]
  },
  {
   "cell_type": "code",
   "execution_count": 18,
   "metadata": {},
   "outputs": [
    {
     "name": "stdout",
     "output_type": "stream",
     "text": [
      "['remember', 'where', 'i', 'was', 'and', 'what', 'i', 'was', 'doing', 'when', 'i', 'heard', 'the', 'news', 'there', 'was', 'something', 'about', 'it', 'that', 'made', 'it', 'very', 'sad', 'compared', 'to', 'the', 'numerous', 'untimely', 'deaths', 'of', 'celebrities', 'that', 'make', 'the', 'news', 'i', 'suspect', 'what', 'made', 'it', 'so', 'sad', 'was', 'how', 'much', 'he', 'was', 'enjoying', 'life', 'after', 'basketball', 'he', 'came', 'off', 'as', 'so', 'competitive', 'that', 'some', 'thought', 'that', 'he', 'would', 'have', 'trouble', 'with', 'life', 'after', 'basketball', 'but', 'it', 'was', 'quite', 'the', 'opposite', 'why', 'does', 'the', 'reason', 'even', 'matter', 'if', 'you', 'made', 'up', 'your', 'mind', 'that', 'you', 'going', 'to', 'block', 'him', 'on', 'everything', 'info', 'why', 'was', 'shaun', 'ex', 'there', 'how', 'did', 'your', 'relationship', 'with', 'shaun', 'start', 'your', 'mil', 'could', 'have', 'dragged', 'the', 'chair', 'from', 'the', 'kitchen', 'what', 'were', 'you', 'supposed', 'to', 'do', 'there', 'were', 'no', 'chairs', 'did', 'they', 'think', 'you', 'would', 'have', 'just', 'left', 'and', 'went', 'home', 'since', 'there', 'were', 'no', 'chairs', 'it', 'almost', 'as', 'if', 'they', 'just', 'did', 'want', 'you', 'to', 'be', 'there', 'it', 'may', 'not', 'be', 'that', 'simple', 'though', 'what', 'if', 'julissa', 'had', 'kids', 'with', 'shaun', 'which', 'is', 'why', 'she', 'there', 'with', 'shaun', 'and', 'shaun', 'relationship', 'with', 'the', 'op', 'started', 'as', 'an', 'affair', 'when', 'shaun', 'was', 'married', 'to', 'julissa', 'which', 'is', 'why', 'shaun', 'family', 'does', 'like', 'the', 'op', 'this', 'is', 'why', 'i', 'asked', 'for', 'more', 'information', 'maybe', 'shaun', 'had', 'kids', 'with', 'julissa', 'and', 'shaun', 'family', 'hates', 'the', 'op', 'so', 'much', 'because', 'their', 'relationship', 'started', 'as', 'the', 'op', 'being', 'the', 'other', 'woman', 'the', 'op', 'is', 'conveniently', 'leaving', 'lots', 'of', 'information', 'out', 'too', 'these', 'redditors', 'have', 'no', 'life', 'experience', 'and', 'were', 'too', 'to', 'notice', 'too', 'how', 'did', 'your', 'relationship', 'with', 'shaun', 'start', 'this', 'is', 'as', 'manipulative', 'as', 'it', 'gets', 'would', 'they', 'have', 'done', 'the', 'same', 'thing', 'if', 'you', 'guys', 'were', 'vegan', 'for', 'reasons', 'unrelated', 'to', 'religion', 'most', 'likely', 'not', 'nta', 'and', 'your', 'wife', 'family', 'actually', 'owes', 'you', 'guys', 'an', 'apology', 'that', 'is', 'one', 'of', 'many', 'possibilities', 'you', 'seem', 'to', 'lack', 'the', 'intellectual', 'capacity', 'to', 'understand', 'that', 'the', 'point', 'of', 'my', 'comment', 'is', 'that', 'there', 'are', 'very', 'logical', 'reasons', 'why', 'the', 'shaun', 'ex', 'would', 'be', 'there', 'there', 'are', 'also', 'very', 'logical', 'reasons', 'why', 'shaun', 'family', 'dislikes', 'the', 'op', 'the', 'mil', 'is', 'acting', 'childish', 'and', 'there', 'no', 'doubt', 'about', 'that', 'but', 'for', 'all', 'we', 'know', 'the', 'reasons', 'why', 'shaun', 'mil', 'are', 'so', 'logical', 'and', 'understandable', 'that', 'we', 'may', 'be', 'questioning', 'why', 'the', 'op', 'would', 'even', 'consider', 'going', 'to', 'their', 'house', 'for', 'family', 'gatherings', 'is', 'it', 'really', 'that', 'hard', 'to', 'understand', 'that', 'there', 'is', 'lots', 'of', 'information', 'the', 'op', 'is', 'leaving', 'out', 'though', 'is', 'it', 'also', 'really', 'that', 'difficult', 'to', 'remember', 'that', 'this', 'is', 'from', 'the', 'op', 'point', 'of', 'view', 'the', 'op', 'talks', 'about', 'how', 'her', 'mil', 'give', 'her', 'passive', 'aggressive', 'jabs', 'parents', 'typically', 'do', 'act', 'rude', 'towards', 'the', 'signficant', 'others', 'of', 'their', 'children', 'for', 'no', 'reason', 'if', 'they', 'do', 'it', 'usually', 'because', 'they', 'know', 'that', 'it', 'is', 'in', 'their', 'son', 'or', 'daughter', 'best', 'interest', 'to', 'be', 'with', 'them', 'that', 'in', 'itself', 'should', 'have', 'raised', 'some', 'questions', 'but', 'the', 'hivemind', 'has', 'no', 'life', 'experience', 'which', 'is', 'why', 'they', 'did', 'ask', 'the', 'questions', 'that', 'needed', 'to', 'be', 'asked', 'someone', 'is', 'welcome', 'to', 'challenge', 'me', 'on', 'this', 'but', 'i', 'suspect', 'daws', 'struggles', 'last', 'season', 'may', 'have', 'rattled', 'his', 'confidence', 'goalie', 'is', 'a', 'very', 'psychological', 'position', 'so', 'it', 'typically', 'not', 'good', 'for', 'someone', 'development', 'to', 'keep', 'calling', 'them', 'up', 'just', 'for', 'them', 'to', 'have', 'a', 'whole', 'new', 'set', 'of', 'struggles', 'as', 'good', 'daws', 'was', 'in', 'some', 'of', 'his', 'starts', 'last', 'season', 'he', 'was', 'awful', 'on', 'the', 'road', 'that', 'was', 'how', 'you', 'can', 'sum', 'him', 'up', 'last', 'season', 'ask', 'the', 'person', 'who', 'their', 'joke', 'writer', 'is', 'tell', 'them', 'you', 'would', 'like', 'to', 'meet', 'their', 'joke', 'writer', 'after', 'complimenting', 'their', 'zings', 'they', 'want', 'to', 'go', 'on', 'dates', 'not', 'be', 'a', 'penpal', 'for', 'someone', 'that', 'is', 'milking', 'them', 'for', 'attention', 'and', 'validation', 'is', 'this', 'really', 'hard', 'to', 'understand', 'it', 'takes', 'more', 'time', 'getting', 'a', 'feel', 'for', 'a', 'person', 'through', 'messaging', 'than', 'it', 'does', 'getting', 'a', 'feel', 'for', 'them', 'when', 'you', 'see', 'them', 'in', 'person', 'i', 'saw', 'that', 'explanation', 'in', 'comments', 'somewhere', 'this', 'op', 'must', 'not', 'understand', 'that', 'there', 'are', 'local', 'professional', 'or', 'even', 'college', 'sports', 'teams', 'everywhere', 'in', 'the', 'country', 'gt', 'your', 'team', 'this', 'part', 'is', 'creepy', 'at', 'any', 'level', 'i', 'never', 'refer', 'to', 'my', 'favorite', 'sports', 'teams', 'as', 'my', 'team', 'or', 'refer', 'to', 'them', 'as', 'we', 'why', 'are', 'you', 'defending', 'your', 'inefficient', 'process', 'so', 'much', 'maybe', 'because', 'you', 'know', 'it', 'inefficient', 'okay', 'good', 'luck', 'with', 'finding', 'a', 'pen', 'pa', 'i', 'mean', 'relationship', 'you', 'ca', 'take', 'a', 'joke', 'you', 'must', 'be', 'a', 'delight', 'to', 'be', 'in', 'a', 'relationship', 'with', 'forward', 'my', 'salutations', 'to', 'your', 'cats', 'it', 'quite', 'pathetic', 'and', 'then', 'there', 'are', 'the', 'ones', 'who', 'are', 'telling', 'the', 'op', 'he', 'overthinking', 'it', 'because', 'they', 'want', 'to', 'be', 'able', 'to', 'justify', 'talking', 'to', 'their', 'exes', 'while', 'in', 'a', 'relationship', 'gt', 'send', 'of', 'humor', 'send', 'of', 'humor', 'what', 'that', 'gt', 'lmao', 'you', 'too', 'lame', 'to', 'laugh', 'at', 'your', 'own', 'jokes', 'you', 'were', 'so', 'offended', 'by', 'me', 'suggesting', 'that', 'you', 'do', 'online', 'dating', 'to', 'look', 'for', 'pen', 'pals', 'even', 'jokingly', 'because', 'you', 'know', 'that', 'you', 'do', 'my', 'comment', 'which', 'was', 'meant', 'to', 'be', 'a', 'joke', 'triggered', 'you', 'because', 'it', 'called', 'you', 'out', 'on', 'something', 'you', 'do', 'your', 'need', 'to', 'text', 'before', 'meeting', 'is', 'your', 'screening', 'process', 'you', 'just', 'want', 'pen', 'pals', 'to', 'give', 'you', 'attention', 'and', 'validation', 'i', 'would', 'never', 'have', 'suggested', 'this', 'if', 'you', 'did', 'react', 'the', 'way', 'you', 'did', 'to', 'my', 'comment', 'which', 'was', 'clearly', 'a', 'joke', 'gt', 'you', 'must', 'kill', 'it', 'with', 'the', 'ladies', 'if', 'the', 'things', 'i', 'say', 'turn', 'off', 'people', 'like', 'yourself', 'i', 'need', 'to', 'keep', 'doing', 'what', 'i', 'doing', 'have', 'fun', 'downvoting', 'this', 'comment', 'which', 'actually', 'confirms', 'how', 'inferior', 'you', 'are', 'to', 'me', 'this', 'is', 'a', 'really', 'good', 'point', 'why', 'would', 'elaine', 'think', 'a', 'woman', 'who', 'is', 'dating', 'george', 'and', 'barely', 'knows', 'her', 'buy', 'a', 'big', 'salad', 'she', 'asked', 'for', 'plus', 'why', 'would', 'elaine', 'discuss', 'reimbursement', 'edit', 'would', 'it', 'all', 'depends', 'on', 'what', 'your', 'definition', 'of', 'the', 'right', 'guy', 'is', 'you', 'did', 'the', 'right', 'thing', 'except', 'mentioning', 'how', 'you', 'would', 'like', 'to', 'be', 'friends', 'if', 'he', 'thinks', 'you', 'just', 'wanted', 'a', 'free', 'meal', 'what', 'does', 'it', 'matter', 'to', 'you', 'move', 'on', 'if', 'you', 'want', 'to', 'make', 'friends', 'do', 'do', 'it', 'by', 'going', 'on', 'dates', 'okay', 'that', 'really', 'vague', 'is', 'it', 'safe', 'to', 'say', 'that', 'her', 'having', 'such', 'a', 'preference', 'means', 'that', 'you', 'along', 'with', 'other', 'members', 'of', 'the', 'friend', 'group', 'are', 'bothered', 'by', 'it', 'as', 'long', 'as', 'you', 'do', 'have', 'to', 'hear', 'about', 'her', 'whining', 'about', 'feeling', 'unsatisfied', 'with', 'her', 'dating', 'life', 'be', 'brutally', 'honest', 'with', 'people', 'like', 'this', 'and', 'enjoy', 'watching', 'them', 'not', 'be', 'able', 'to', 'handle', 'it', 'the', 'other', 'part', 'of', 'this', 'is', 'that', 'everyone', 'cares', 'what', 'others', 'think', 'to', 'some', 'degree', 'for', 'example', 'would', 'you', 'say', 'that', 'you', 'do', 'care', 'if', 'your', 'coworkers', 'think', 'you', 'dishonest', 'or', 'incompetent', 'it', 'would', 'be', 'very', 'difficult', 'to', 'accomplish', 'your', 'job', 'tasks', 'within', 'a', 'team', 'setting', 'if', 'your', 'coworkers', 'view', 'and', 'treat', 'you', 'like', 'someone', 'who', 'is', 'dishonest', 'incompetent', 'there', 'a', 'huge', 'difference', 'between', 'not', 'wanting', 'others', 'to', 'think', 'you', 'dishonest', 'when', 'you', 'try', 'to', 'be', 'honest', 'for', 'the', 'most', 'part', 'and', 'not', 'wanting', 'others', 'to', 'think', 'you', 'boring', 'or', 'a', 'dweeb', 'how', 'they', 'always', 'on', 'time', 'for', 'work', 'social', 'engagements', 'what', 'if', 'them', 'thinking', 'that', 'of', 'you', 'creates', 'hurdles', 'that', 'would', 'be', 'there', 'if', 'they', 'did', 'think', 'that', 'of', 'you', 'so', 'then', 'it', 'not', 'about', 'being', 'offended', 'it', 'about', 'not', 'wanting', 'your', 'life', 'to', 'be', 'more', 'difficult', 'than', 'it', 'has', 'to', 'be', 'that', 'one', 'example', 'though', 'there', 'examples', 'outside', 'of', 'the', 'workplace', 'where', 'not', 'wanting', 'people', 'to', 'think', 'certain', 'things', 'about', 'you', 'can', 'be', 'because', 'you', 'do', 'want', 'to', 'deal', 'with', 'unnecessary', 'hurdles', 'my', 'overall', 'point', 'is', 'that', 'even', 'the', 'people', 'who', 'actually', 'care', 'the', 'least', 'about', 'what', 'others', 'think', 'of', 'them', 'actually', 'do', 'care', 'to', 'a', 'certain', 'degree', 'even', 'for', 'just', 'functionality', 'reasons', 'what', 'are', 'you', 'talking', 'about', 'the', 'things', 'i', 'suggesting', 'are', 'pretty', 'simple', 'and', 'instead', 'of', 'providing', 'an', 'intelligent', 'response', 'to', 'them', 'most', 'likely', 'because', 'you', 'lack', 'the', 'intellectual', 'capacity', 'to', 'do', 'so', 'you', 'writing', 'this', 'responses', 'to', 'make', 'yourself', 'look', 'like', 'this', 'wise', 'free', 'thinking', 'person', 'i', 'not', 'sure', 'if', 'your', 'intelligence', 'is', 'below', 'average', 'or', 'if', 'you', 'trolling', 'but', 'i', 'respectfully', 'asking', 'you', 'to', 'bother', 'someone', 'else', 'with', 'your', 'grammatically', 'incorrect', 'responses', 'that', 'demonstrate', 'a', 'lack', 'of', 'understanding', 'of', 'what', 'i', 'suggesting', 'how', 'much', 'you', 'want', 'to', 'bet', 'this', 'op', 'is', 'the', 'type', 'to', 'bitch', 'and', 'complain', 'when', 'they', 'do', 'receive', 'responses', 'to', 'their', 'messages', 'promptly', 'enough', 'i', 'i', 'suspect', 'the', 'therapist', 'either', 'did', 'say', 'that', 'or', 'she', 'talked', 'to', 'the', 'therapist', 'about', 'the', 'relationship', 'but', 'made', 'it', 'look', 'toxic', 'enough', 'to', 'where', 'the', 'therapist', 'would', 'say', 'such', 'a', 'thing', 'it', 'does', 'sound', 'like', 'the', 'relationship', 'has', 'been', 'toxic', 'but', 'if', 'you', 'mention', 'the', 'negative', 'and', 'exaggerate', 'it', 'it', 'will', 'sound', 'toxic', 'to', 'the', 'therapist', 'whether', 'it', 'subconscious', 'or', 'not', 'she', 'made', 'up', 'her', 'mind', 'what', 'she', 'and', 'needed', 'the', 'therapist', 'to', 'justify', 'it', 'to', 'herself', 'even', 'if', 'you', 'guys', 'stayed', 'together', 'she', 'would', 'have', 'found', 'a']\n"
     ]
    }
   ],
   "source": [
    "words = [word for word in words if word.isalpha()]\n",
    "print(words)"
   ]
  },
  {
   "cell_type": "markdown",
   "metadata": {},
   "source": [
    "### Removing stopwords\n",
    "Stopwords are frequently occurring words in a language that are frequently omitted from natural language processing (NLP) tasks due to their low significance for deciphering textual meaning. The particular list of stopwords can change based on the language being studied and the context. The following is a broad list of stopword categories:\n",
    "\n",
    "*Common Stopwords*: These are the most frequently occurring words in a language and are often removed during text preprocessing. Examples include “the,” “is,” “in,” “for,” “where,” “when,” “to,” “at,” etc.\n",
    "\n",
    "*Custom Stopwords*: Depending on the specific task or domain, additional words may be considered as stopwords. These could be domain-specific terms that don’t contribute much to the overall meaning. For example, in a medical context, words like “patient” or “treatment” might be considered as custom stopwords.\n",
    "\n",
    "*Numerical Stopwords*: Numbers and numeric characters may be treated as stopwords in certain cases, especially when the analysis is focused on the meaning of the text rather than specific numerical values\n",
    "\n",
    "*Single-Character Stopwords*: Single characters, such as “a,” “I,” “s,” or “x,” may be considered stopwords, particularly in cases where they don’t convey much meaning on their own.\n",
    "\n",
    "*Contextual Stopwords*: Words that are stopwords in one context but meaningful in another may be considered as contextual stopwords. For instance, the word “will” might be a stopword in the context of general language processing but could be important in predicting future events."
   ]
  },
  {
   "cell_type": "code",
   "execution_count": 19,
   "metadata": {},
   "outputs": [
    {
     "name": "stdout",
     "output_type": "stream",
     "text": [
      "['remember', 'heard', 'news', 'something', 'made', 'sad', 'compared', 'numerous', 'untimely', 'deaths', 'celebrities', 'make', 'news', 'suspect', 'made', 'sad', 'much', 'enjoying', 'life', 'basketball', 'came', 'competitive', 'thought', 'would', 'trouble', 'life', 'basketball', 'quite', 'opposite', 'reason', 'even', 'matter', 'made', 'mind', 'going', 'block', 'everything', 'info', 'shaun', 'ex', 'relationship', 'shaun', 'start', 'mil', 'could', 'dragged', 'chair', 'kitchen', 'supposed', 'chairs', 'think', 'would', 'left', 'went', 'home', 'since', 'chairs', 'almost', 'want', 'may', 'simple', 'though', 'julissa', 'kids', 'shaun', 'shaun', 'shaun', 'relationship', 'op', 'started', 'affair', 'shaun', 'married', 'julissa', 'shaun', 'family', 'like', 'op', 'asked', 'information', 'maybe', 'shaun', 'kids', 'julissa', 'shaun', 'family', 'hates', 'op', 'much', 'relationship', 'started', 'op', 'woman', 'op', 'conveniently', 'leaving', 'lots', 'information', 'redditors', 'life', 'experience', 'notice', 'relationship', 'shaun', 'start', 'manipulative', 'gets', 'would', 'done', 'thing', 'guys', 'vegan', 'reasons', 'unrelated', 'religion', 'likely', 'nta', 'wife', 'family', 'actually', 'owes', 'guys', 'apology', 'one', 'many', 'possibilities', 'seem', 'lack', 'intellectual', 'capacity', 'understand', 'point', 'comment', 'logical', 'reasons', 'shaun', 'ex', 'would', 'also', 'logical', 'reasons', 'shaun', 'family', 'dislikes', 'op', 'mil', 'acting', 'childish', 'doubt', 'know', 'reasons', 'shaun', 'mil', 'logical', 'understandable', 'may', 'questioning', 'op', 'would', 'even', 'consider', 'going', 'house', 'family', 'gatherings', 'really', 'hard', 'understand', 'lots', 'information', 'op', 'leaving', 'though', 'also', 'really', 'difficult', 'remember', 'op', 'point', 'view', 'op', 'talks', 'mil', 'give', 'passive', 'aggressive', 'jabs', 'parents', 'typically', 'act', 'rude', 'towards', 'signficant', 'others', 'children', 'reason', 'usually', 'know', 'son', 'daughter', 'best', 'interest', 'raised', 'questions', 'hivemind', 'life', 'experience', 'ask', 'questions', 'needed', 'asked', 'someone', 'welcome', 'challenge', 'suspect', 'daws', 'struggles', 'last', 'season', 'may', 'rattled', 'confidence', 'goalie', 'psychological', 'position', 'typically', 'good', 'someone', 'development', 'keep', 'calling', 'whole', 'new', 'set', 'struggles', 'good', 'daws', 'starts', 'last', 'season', 'awful', 'road', 'sum', 'last', 'season', 'ask', 'person', 'joke', 'writer', 'tell', 'would', 'like', 'meet', 'joke', 'writer', 'complimenting', 'zings', 'want', 'go', 'dates', 'penpal', 'someone', 'milking', 'attention', 'validation', 'really', 'hard', 'understand', 'takes', 'time', 'getting', 'feel', 'person', 'messaging', 'getting', 'feel', 'see', 'person', 'saw', 'explanation', 'comments', 'somewhere', 'op', 'must', 'understand', 'local', 'professional', 'even', 'college', 'sports', 'teams', 'everywhere', 'country', 'gt', 'team', 'part', 'creepy', 'level', 'never', 'refer', 'favorite', 'sports', 'teams', 'team', 'refer', 'defending', 'inefficient', 'process', 'much', 'maybe', 'know', 'inefficient', 'okay', 'good', 'luck', 'finding', 'pen', 'pa', 'mean', 'relationship', 'ca', 'take', 'joke', 'must', 'delight', 'relationship', 'forward', 'salutations', 'cats', 'quite', 'pathetic', 'ones', 'telling', 'op', 'overthinking', 'want', 'able', 'justify', 'talking', 'exes', 'relationship', 'gt', 'send', 'humor', 'send', 'humor', 'gt', 'lmao', 'lame', 'laugh', 'jokes', 'offended', 'suggesting', 'online', 'dating', 'look', 'pen', 'pals', 'even', 'jokingly', 'know', 'comment', 'meant', 'joke', 'triggered', 'called', 'something', 'need', 'text', 'meeting', 'screening', 'process', 'want', 'pen', 'pals', 'give', 'attention', 'validation', 'would', 'never', 'suggested', 'react', 'way', 'comment', 'clearly', 'joke', 'gt', 'must', 'kill', 'ladies', 'things', 'say', 'turn', 'people', 'like', 'need', 'keep', 'fun', 'downvoting', 'comment', 'actually', 'confirms', 'inferior', 'really', 'good', 'point', 'would', 'elaine', 'think', 'woman', 'dating', 'george', 'barely', 'knows', 'buy', 'big', 'salad', 'asked', 'plus', 'would', 'elaine', 'discuss', 'reimbursement', 'edit', 'would', 'depends', 'definition', 'right', 'guy', 'right', 'thing', 'except', 'mentioning', 'would', 'like', 'friends', 'thinks', 'wanted', 'free', 'meal', 'matter', 'move', 'want', 'make', 'friends', 'going', 'dates', 'okay', 'really', 'vague', 'safe', 'say', 'preference', 'means', 'along', 'members', 'friend', 'group', 'bothered', 'long', 'hear', 'whining', 'feeling', 'unsatisfied', 'dating', 'life', 'brutally', 'honest', 'people', 'like', 'enjoy', 'watching', 'able', 'handle', 'part', 'everyone', 'cares', 'others', 'think', 'degree', 'example', 'would', 'say', 'care', 'coworkers', 'think', 'dishonest', 'incompetent', 'would', 'difficult', 'accomplish', 'job', 'tasks', 'within', 'team', 'setting', 'coworkers', 'view', 'treat', 'like', 'someone', 'dishonest', 'incompetent', 'huge', 'difference', 'wanting', 'others', 'think', 'dishonest', 'try', 'honest', 'part', 'wanting', 'others', 'think', 'boring', 'dweeb', 'always', 'time', 'work', 'social', 'engagements', 'thinking', 'creates', 'hurdles', 'would', 'think', 'offended', 'wanting', 'life', 'difficult', 'one', 'example', 'though', 'examples', 'outside', 'workplace', 'wanting', 'people', 'think', 'certain', 'things', 'want', 'deal', 'unnecessary', 'hurdles', 'overall', 'point', 'even', 'people', 'actually', 'care', 'least', 'others', 'think', 'actually', 'care', 'certain', 'degree', 'even', 'functionality', 'reasons', 'talking', 'things', 'suggesting', 'pretty', 'simple', 'instead', 'providing', 'intelligent', 'response', 'likely', 'lack', 'intellectual', 'capacity', 'writing', 'responses', 'make', 'look', 'like', 'wise', 'free', 'thinking', 'person', 'sure', 'intelligence', 'average', 'trolling', 'respectfully', 'asking', 'bother', 'someone', 'else', 'grammatically', 'incorrect', 'responses', 'demonstrate', 'lack', 'understanding', 'suggesting', 'much', 'want', 'bet', 'op', 'type', 'bitch', 'complain', 'receive', 'responses', 'messages', 'promptly', 'enough', 'suspect', 'therapist', 'either', 'say', 'talked', 'therapist', 'relationship', 'made', 'look', 'toxic', 'enough', 'therapist', 'would', 'say', 'thing', 'sound', 'like', 'relationship', 'toxic', 'mention', 'negative', 'exaggerate', 'sound', 'toxic', 'therapist', 'whether', 'subconscious', 'made', 'mind', 'needed', 'therapist', 'justify', 'even', 'guys', 'stayed', 'together', 'would', 'found']\n"
     ]
    }
   ],
   "source": [
    "words = [word for word in words if word not in stopwords.words('english')]  #removes english stopwords\n",
    "print(words)"
   ]
  },
  {
   "cell_type": "code",
   "execution_count": 20,
   "metadata": {},
   "outputs": [
    {
     "name": "stdout",
     "output_type": "stream",
     "text": [
      "[('would', 16), ('shaun', 13), ('op', 13), ('relationship', 9), ('think', 9), ('like', 8), ('even', 7), ('want', 7), ('life', 6), ('made', 5)]\n"
     ]
    }
   ],
   "source": [
    "word_freq = Counter(words)\n",
    "print(word_freq.most_common(10))"
   ]
  }
 ],
 "metadata": {
  "kernelspec": {
   "display_name": ".venv",
   "language": "python",
   "name": "python3"
  },
  "language_info": {
   "codemirror_mode": {
    "name": "ipython",
    "version": 3
   },
   "file_extension": ".py",
   "mimetype": "text/x-python",
   "name": "python",
   "nbconvert_exporter": "python",
   "pygments_lexer": "ipython3",
   "version": "3.12.8"
  }
 },
 "nbformat": 4,
 "nbformat_minor": 2
}
